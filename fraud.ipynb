{
  "nbformat": 4,
  "nbformat_minor": 0,
  "metadata": {
    "colab": {
      "name": "fraud.ipynb",
      "provenance": [],
      "collapsed_sections": [],
      "include_colab_link": true
    },
    "kernelspec": {
      "name": "python3",
      "display_name": "Python 3"
    }
  },
  "cells": [
    {
      "cell_type": "markdown",
      "metadata": {
        "id": "view-in-github",
        "colab_type": "text"
      },
      "source": [
        "<a href=\"https://colab.research.google.com/github/hbendeguz/DeepLearningCourse/blob/master/fraud.ipynb\" target=\"_parent\"><img src=\"https://colab.research.google.com/assets/colab-badge.svg\" alt=\"Open In Colab\"/></a>"
      ]
    },
    {
      "cell_type": "code",
      "metadata": {
        "id": "D4YMevyNxgo5",
        "colab_type": "code",
        "outputId": "b1916068-7d33-4d07-ec79-e332a67d90d7",
        "colab": {
          "base_uri": "https://localhost:8080/",
          "height": 34
        }
      },
      "source": [
        "%pylab inline\n",
        "import pandas as pd"
      ],
      "execution_count": 1,
      "outputs": [
        {
          "output_type": "stream",
          "text": [
            "Populating the interactive namespace from numpy and matplotlib\n"
          ],
          "name": "stdout"
        }
      ]
    },
    {
      "cell_type": "code",
      "metadata": {
        "id": "_jKEFm45xkpt",
        "colab_type": "code",
        "outputId": "acf11f21-9ba3-4a41-b14e-7a2b40a86184",
        "colab": {
          "base_uri": "https://localhost:8080/",
          "height": 122
        }
      },
      "source": [
        "# Load the Drive helper and mount\n",
        "from google.colab import drive\n",
        "\n",
        "# This will prompt for authorization.\n",
        "drive.mount('/content/drive')"
      ],
      "execution_count": 2,
      "outputs": [
        {
          "output_type": "stream",
          "text": [
            "Go to this URL in a browser: https://accounts.google.com/o/oauth2/auth?client_id=947318989803-6bn6qk8qdgf4n4g3pfee6491hc0brc4i.apps.googleusercontent.com&redirect_uri=urn%3aietf%3awg%3aoauth%3a2.0%3aoob&response_type=code&scope=email%20https%3a%2f%2fwww.googleapis.com%2fauth%2fdocs.test%20https%3a%2f%2fwww.googleapis.com%2fauth%2fdrive%20https%3a%2f%2fwww.googleapis.com%2fauth%2fdrive.photos.readonly%20https%3a%2f%2fwww.googleapis.com%2fauth%2fpeopleapi.readonly\n",
            "\n",
            "Enter your authorization code:\n",
            "··········\n",
            "Mounted at /content/drive\n"
          ],
          "name": "stdout"
        }
      ]
    },
    {
      "cell_type": "code",
      "metadata": {
        "id": "NCQ3iLJnyJ3s",
        "colab_type": "code",
        "outputId": "124f93e2-25ee-41a3-c510-8f81a7a5336c",
        "colab": {
          "base_uri": "https://localhost:8080/",
          "height": 122
        }
      },
      "source": [
        "from google.colab import drive\n",
        "drive.mount('/content/drive')"
      ],
      "execution_count": 0,
      "outputs": [
        {
          "output_type": "stream",
          "text": [
            "Go to this URL in a browser: https://accounts.google.com/o/oauth2/auth?client_id=947318989803-6bn6qk8qdgf4n4g3pfee6491hc0brc4i.apps.googleusercontent.com&redirect_uri=urn%3aietf%3awg%3aoauth%3a2.0%3aoob&response_type=code&scope=email%20https%3a%2f%2fwww.googleapis.com%2fauth%2fdocs.test%20https%3a%2f%2fwww.googleapis.com%2fauth%2fdrive%20https%3a%2f%2fwww.googleapis.com%2fauth%2fdrive.photos.readonly%20https%3a%2f%2fwww.googleapis.com%2fauth%2fpeopleapi.readonly\n",
            "\n",
            "Enter your authorization code:\n",
            "··········\n",
            "Mounted at /content/drive\n"
          ],
          "name": "stdout"
        }
      ]
    },
    {
      "cell_type": "code",
      "metadata": {
        "id": "kiNh1D7Ry1Yt",
        "colab_type": "code",
        "colab": {}
      },
      "source": [
        ""
      ],
      "execution_count": 0,
      "outputs": []
    },
    {
      "cell_type": "code",
      "metadata": {
        "id": "sXDSKnrazzHM",
        "colab_type": "code",
        "outputId": "daf4827c-0a23-4f24-e952-34ff448ba0b0",
        "colab": {
          "base_uri": "https://localhost:8080/",
          "height": 68
        }
      },
      "source": [
        "# After executing the cell above, Drive\n",
        "# files will be present in \"/content/drive/My Drive\".\n",
        "!ls \"/content/drive/My Drive/Colab Notebooks\""
      ],
      "execution_count": 0,
      "outputs": [
        {
          "output_type": "stream",
          "text": [
            " data_0_31.npy\t 'Preproc (1).ipynb'   train.npy\t       Untitled0.ipynb\n",
            " data_32_63.npy   Preproc.ipynb        train_transaction.csv   Untitled1.ipynb\n",
            " fraud.ipynb\t  test.npy\t       tr_iv.csv\n"
          ],
          "name": "stdout"
        }
      ]
    },
    {
      "cell_type": "code",
      "metadata": {
        "id": "Bg3nhuDezgyO",
        "colab_type": "code",
        "colab": {}
      },
      "source": [
        "dt_iv = pd.read_csv('/content/drive/My Drive/Colab Notebooks/tr_iv.csv')"
      ],
      "execution_count": 0,
      "outputs": []
    },
    {
      "cell_type": "code",
      "metadata": {
        "id": "CwvbeYaM154j",
        "colab_type": "code",
        "colab": {}
      },
      "source": [
        "df = pd.read_csv('/content/drive/My Drive/Colab Notebooks/train_transaction.csv')"
      ],
      "execution_count": 0,
      "outputs": []
    },
    {
      "cell_type": "code",
      "metadata": {
        "id": "aszN6GuX1-k-",
        "colab_type": "code",
        "outputId": "6caf01d7-c5be-411f-f7c2-bdbb970eadd2",
        "colab": {
          "base_uri": "https://localhost:8080/",
          "height": 428
        }
      },
      "source": [
        "! pip install scorecardpy"
      ],
      "execution_count": 0,
      "outputs": [
        {
          "output_type": "stream",
          "text": [
            "Collecting scorecardpy\n",
            "\u001b[?25l  Downloading https://files.pythonhosted.org/packages/b3/fd/be6c15335e537d2360f85823cbb0b1c02cdd2ed9ff52539db78545db7115/scorecardpy-0.1.9.1.1.tar.gz (55kB)\n",
            "\u001b[K     |████████████████████████████████| 61kB 1.8MB/s \n",
            "\u001b[?25hRequirement already satisfied: numpy in /usr/local/lib/python3.6/dist-packages (from scorecardpy) (1.17.4)\n",
            "Requirement already satisfied: pandas>=0.25.0 in /usr/local/lib/python3.6/dist-packages (from scorecardpy) (0.25.3)\n",
            "Requirement already satisfied: matplotlib in /usr/local/lib/python3.6/dist-packages (from scorecardpy) (3.1.2)\n",
            "Requirement already satisfied: scikit-learn>=0.19.1 in /usr/local/lib/python3.6/dist-packages (from scorecardpy) (0.21.3)\n",
            "Requirement already satisfied: python-dateutil>=2.6.1 in /usr/local/lib/python3.6/dist-packages (from pandas>=0.25.0->scorecardpy) (2.6.1)\n",
            "Requirement already satisfied: pytz>=2017.2 in /usr/local/lib/python3.6/dist-packages (from pandas>=0.25.0->scorecardpy) (2018.9)\n",
            "Requirement already satisfied: cycler>=0.10 in /usr/local/lib/python3.6/dist-packages (from matplotlib->scorecardpy) (0.10.0)\n",
            "Requirement already satisfied: pyparsing!=2.0.4,!=2.1.2,!=2.1.6,>=2.0.1 in /usr/local/lib/python3.6/dist-packages (from matplotlib->scorecardpy) (2.4.5)\n",
            "Requirement already satisfied: kiwisolver>=1.0.1 in /usr/local/lib/python3.6/dist-packages (from matplotlib->scorecardpy) (1.1.0)\n",
            "Requirement already satisfied: scipy>=0.17.0 in /usr/local/lib/python3.6/dist-packages (from scikit-learn>=0.19.1->scorecardpy) (1.3.3)\n",
            "Requirement already satisfied: joblib>=0.11 in /usr/local/lib/python3.6/dist-packages (from scikit-learn>=0.19.1->scorecardpy) (0.14.0)\n",
            "Requirement already satisfied: six>=1.5 in /usr/local/lib/python3.6/dist-packages (from python-dateutil>=2.6.1->pandas>=0.25.0->scorecardpy) (1.12.0)\n",
            "Requirement already satisfied: setuptools in /usr/local/lib/python3.6/dist-packages (from kiwisolver>=1.0.1->matplotlib->scorecardpy) (42.0.2)\n",
            "Building wheels for collected packages: scorecardpy\n",
            "  Building wheel for scorecardpy (setup.py) ... \u001b[?25l\u001b[?25hdone\n",
            "  Created wheel for scorecardpy: filename=scorecardpy-0.1.9.1.1-cp36-none-any.whl size=58169 sha256=6114c3cd18452f0668b07605c08c2a434c8b064275cee4c51da4affabdb8c006\n",
            "  Stored in directory: /root/.cache/pip/wheels/8f/4c/98/567ff70984acd88ffae211d8fc209e34b98fb43ff27f09fdd3\n",
            "Successfully built scorecardpy\n",
            "Installing collected packages: scorecardpy\n",
            "Successfully installed scorecardpy-0.1.9.1.1\n"
          ],
          "name": "stdout"
        }
      ]
    },
    {
      "cell_type": "code",
      "metadata": {
        "id": "ggZ2da-o2U2C",
        "colab_type": "code",
        "outputId": "dd54c70e-61ef-483a-a236-efe9f475c121",
        "colab": {
          "base_uri": "https://localhost:8080/",
          "height": 253
        }
      },
      "source": [
        "df_reduced = df[dt_iv[dt_iv.info_value > 0.15].variable]\n",
        "df_reduced.head()"
      ],
      "execution_count": 0,
      "outputs": [
        {
          "output_type": "execute_result",
          "data": {
            "text/html": [
              "<div>\n",
              "<style scoped>\n",
              "    .dataframe tbody tr th:only-of-type {\n",
              "        vertical-align: middle;\n",
              "    }\n",
              "\n",
              "    .dataframe tbody tr th {\n",
              "        vertical-align: top;\n",
              "    }\n",
              "\n",
              "    .dataframe thead th {\n",
              "        text-align: right;\n",
              "    }\n",
              "</style>\n",
              "<table border=\"1\" class=\"dataframe\">\n",
              "  <thead>\n",
              "    <tr style=\"text-align: right;\">\n",
              "      <th></th>\n",
              "      <th>TransactionAmt</th>\n",
              "      <th>V307</th>\n",
              "      <th>V308</th>\n",
              "      <th>card1</th>\n",
              "      <th>V127</th>\n",
              "      <th>V317</th>\n",
              "      <th>V306</th>\n",
              "      <th>V128</th>\n",
              "      <th>V310</th>\n",
              "      <th>V318</th>\n",
              "      <th>V133</th>\n",
              "      <th>V126</th>\n",
              "      <th>V316</th>\n",
              "      <th>V314</th>\n",
              "      <th>V134</th>\n",
              "      <th>C4</th>\n",
              "      <th>V130</th>\n",
              "      <th>C12</th>\n",
              "      <th>C8</th>\n",
              "      <th>card2</th>\n",
              "      <th>C7</th>\n",
              "      <th>V132</th>\n",
              "      <th>V315</th>\n",
              "      <th>V312</th>\n",
              "      <th>C10</th>\n",
              "      <th>V313</th>\n",
              "      <th>V320</th>\n",
              "      <th>V45</th>\n",
              "      <th>V52</th>\n",
              "      <th>V321</th>\n",
              "      <th>V94</th>\n",
              "      <th>V79</th>\n",
              "      <th>addr1</th>\n",
              "      <th>V51</th>\n",
              "      <th>V34</th>\n",
              "      <th>V44</th>\n",
              "      <th>V74</th>\n",
              "      <th>V87</th>\n",
              "      <th>V33</th>\n",
              "      <th>V70</th>\n",
              "      <th>...</th>\n",
              "      <th>V95</th>\n",
              "      <th>V77</th>\n",
              "      <th>V5</th>\n",
              "      <th>M3</th>\n",
              "      <th>V3</th>\n",
              "      <th>V280</th>\n",
              "      <th>M2</th>\n",
              "      <th>V9</th>\n",
              "      <th>V293</th>\n",
              "      <th>V97</th>\n",
              "      <th>V4</th>\n",
              "      <th>V7</th>\n",
              "      <th>card6</th>\n",
              "      <th>V2</th>\n",
              "      <th>V8</th>\n",
              "      <th>V279</th>\n",
              "      <th>V6</th>\n",
              "      <th>M1</th>\n",
              "      <th>V1</th>\n",
              "      <th>V129</th>\n",
              "      <th>V54</th>\n",
              "      <th>V23</th>\n",
              "      <th>V47</th>\n",
              "      <th>V53</th>\n",
              "      <th>V67</th>\n",
              "      <th>V96</th>\n",
              "      <th>V123</th>\n",
              "      <th>V13</th>\n",
              "      <th>V62</th>\n",
              "      <th>V24</th>\n",
              "      <th>V56</th>\n",
              "      <th>M9</th>\n",
              "      <th>V76</th>\n",
              "      <th>V12</th>\n",
              "      <th>M8</th>\n",
              "      <th>P_emaildomain</th>\n",
              "      <th>M7</th>\n",
              "      <th>V75</th>\n",
              "      <th>V36</th>\n",
              "      <th>V125</th>\n",
              "    </tr>\n",
              "  </thead>\n",
              "  <tbody>\n",
              "    <tr>\n",
              "      <th>0</th>\n",
              "      <td>68.5</td>\n",
              "      <td>117.0</td>\n",
              "      <td>0.0</td>\n",
              "      <td>13926</td>\n",
              "      <td>117.0</td>\n",
              "      <td>117.0</td>\n",
              "      <td>0.0</td>\n",
              "      <td>0.0</td>\n",
              "      <td>0.0</td>\n",
              "      <td>0.0</td>\n",
              "      <td>117.0</td>\n",
              "      <td>0.0</td>\n",
              "      <td>0.0</td>\n",
              "      <td>0.0</td>\n",
              "      <td>0.0</td>\n",
              "      <td>0.0</td>\n",
              "      <td>0.0</td>\n",
              "      <td>0.0</td>\n",
              "      <td>0.0</td>\n",
              "      <td>NaN</td>\n",
              "      <td>0.0</td>\n",
              "      <td>0.0</td>\n",
              "      <td>0.0</td>\n",
              "      <td>0.0</td>\n",
              "      <td>0.0</td>\n",
              "      <td>0.0</td>\n",
              "      <td>0.0</td>\n",
              "      <td>NaN</td>\n",
              "      <td>NaN</td>\n",
              "      <td>0.0</td>\n",
              "      <td>0.0</td>\n",
              "      <td>0.0</td>\n",
              "      <td>315.0</td>\n",
              "      <td>NaN</td>\n",
              "      <td>0.0</td>\n",
              "      <td>NaN</td>\n",
              "      <td>0.0</td>\n",
              "      <td>1.0</td>\n",
              "      <td>0.0</td>\n",
              "      <td>0.0</td>\n",
              "      <td>...</td>\n",
              "      <td>0.0</td>\n",
              "      <td>1.0</td>\n",
              "      <td>1.0</td>\n",
              "      <td>T</td>\n",
              "      <td>1.0</td>\n",
              "      <td>0.0</td>\n",
              "      <td>T</td>\n",
              "      <td>1.0</td>\n",
              "      <td>0.0</td>\n",
              "      <td>0.0</td>\n",
              "      <td>1.0</td>\n",
              "      <td>1.0</td>\n",
              "      <td>credit</td>\n",
              "      <td>1.0</td>\n",
              "      <td>1.0</td>\n",
              "      <td>0.0</td>\n",
              "      <td>1.0</td>\n",
              "      <td>T</td>\n",
              "      <td>1.0</td>\n",
              "      <td>0.0</td>\n",
              "      <td>1.0</td>\n",
              "      <td>1.0</td>\n",
              "      <td>NaN</td>\n",
              "      <td>1.0</td>\n",
              "      <td>1.0</td>\n",
              "      <td>1.0</td>\n",
              "      <td>1.0</td>\n",
              "      <td>1.0</td>\n",
              "      <td>1.0</td>\n",
              "      <td>1.0</td>\n",
              "      <td>1.0</td>\n",
              "      <td>NaN</td>\n",
              "      <td>1.0</td>\n",
              "      <td>1.0</td>\n",
              "      <td>NaN</td>\n",
              "      <td>NaN</td>\n",
              "      <td>NaN</td>\n",
              "      <td>1.0</td>\n",
              "      <td>NaN</td>\n",
              "      <td>1.0</td>\n",
              "    </tr>\n",
              "    <tr>\n",
              "      <th>1</th>\n",
              "      <td>29.0</td>\n",
              "      <td>0.0</td>\n",
              "      <td>0.0</td>\n",
              "      <td>2755</td>\n",
              "      <td>0.0</td>\n",
              "      <td>0.0</td>\n",
              "      <td>0.0</td>\n",
              "      <td>0.0</td>\n",
              "      <td>0.0</td>\n",
              "      <td>0.0</td>\n",
              "      <td>0.0</td>\n",
              "      <td>0.0</td>\n",
              "      <td>0.0</td>\n",
              "      <td>0.0</td>\n",
              "      <td>0.0</td>\n",
              "      <td>0.0</td>\n",
              "      <td>0.0</td>\n",
              "      <td>0.0</td>\n",
              "      <td>0.0</td>\n",
              "      <td>404.0</td>\n",
              "      <td>0.0</td>\n",
              "      <td>0.0</td>\n",
              "      <td>0.0</td>\n",
              "      <td>0.0</td>\n",
              "      <td>0.0</td>\n",
              "      <td>0.0</td>\n",
              "      <td>0.0</td>\n",
              "      <td>1.0</td>\n",
              "      <td>0.0</td>\n",
              "      <td>0.0</td>\n",
              "      <td>0.0</td>\n",
              "      <td>0.0</td>\n",
              "      <td>325.0</td>\n",
              "      <td>0.0</td>\n",
              "      <td>0.0</td>\n",
              "      <td>1.0</td>\n",
              "      <td>0.0</td>\n",
              "      <td>1.0</td>\n",
              "      <td>0.0</td>\n",
              "      <td>0.0</td>\n",
              "      <td>...</td>\n",
              "      <td>0.0</td>\n",
              "      <td>1.0</td>\n",
              "      <td>NaN</td>\n",
              "      <td>NaN</td>\n",
              "      <td>NaN</td>\n",
              "      <td>0.0</td>\n",
              "      <td>NaN</td>\n",
              "      <td>NaN</td>\n",
              "      <td>0.0</td>\n",
              "      <td>0.0</td>\n",
              "      <td>NaN</td>\n",
              "      <td>NaN</td>\n",
              "      <td>credit</td>\n",
              "      <td>NaN</td>\n",
              "      <td>NaN</td>\n",
              "      <td>0.0</td>\n",
              "      <td>NaN</td>\n",
              "      <td>NaN</td>\n",
              "      <td>NaN</td>\n",
              "      <td>0.0</td>\n",
              "      <td>0.0</td>\n",
              "      <td>1.0</td>\n",
              "      <td>1.0</td>\n",
              "      <td>0.0</td>\n",
              "      <td>1.0</td>\n",
              "      <td>0.0</td>\n",
              "      <td>1.0</td>\n",
              "      <td>0.0</td>\n",
              "      <td>1.0</td>\n",
              "      <td>1.0</td>\n",
              "      <td>1.0</td>\n",
              "      <td>NaN</td>\n",
              "      <td>0.0</td>\n",
              "      <td>0.0</td>\n",
              "      <td>NaN</td>\n",
              "      <td>gmail.com</td>\n",
              "      <td>NaN</td>\n",
              "      <td>0.0</td>\n",
              "      <td>0.0</td>\n",
              "      <td>1.0</td>\n",
              "    </tr>\n",
              "    <tr>\n",
              "      <th>2</th>\n",
              "      <td>59.0</td>\n",
              "      <td>0.0</td>\n",
              "      <td>0.0</td>\n",
              "      <td>4663</td>\n",
              "      <td>0.0</td>\n",
              "      <td>0.0</td>\n",
              "      <td>0.0</td>\n",
              "      <td>0.0</td>\n",
              "      <td>0.0</td>\n",
              "      <td>0.0</td>\n",
              "      <td>0.0</td>\n",
              "      <td>0.0</td>\n",
              "      <td>0.0</td>\n",
              "      <td>0.0</td>\n",
              "      <td>0.0</td>\n",
              "      <td>0.0</td>\n",
              "      <td>0.0</td>\n",
              "      <td>0.0</td>\n",
              "      <td>0.0</td>\n",
              "      <td>490.0</td>\n",
              "      <td>0.0</td>\n",
              "      <td>0.0</td>\n",
              "      <td>0.0</td>\n",
              "      <td>0.0</td>\n",
              "      <td>0.0</td>\n",
              "      <td>0.0</td>\n",
              "      <td>0.0</td>\n",
              "      <td>1.0</td>\n",
              "      <td>0.0</td>\n",
              "      <td>0.0</td>\n",
              "      <td>0.0</td>\n",
              "      <td>0.0</td>\n",
              "      <td>330.0</td>\n",
              "      <td>0.0</td>\n",
              "      <td>0.0</td>\n",
              "      <td>1.0</td>\n",
              "      <td>0.0</td>\n",
              "      <td>1.0</td>\n",
              "      <td>0.0</td>\n",
              "      <td>0.0</td>\n",
              "      <td>...</td>\n",
              "      <td>0.0</td>\n",
              "      <td>1.0</td>\n",
              "      <td>1.0</td>\n",
              "      <td>T</td>\n",
              "      <td>1.0</td>\n",
              "      <td>0.0</td>\n",
              "      <td>T</td>\n",
              "      <td>1.0</td>\n",
              "      <td>0.0</td>\n",
              "      <td>0.0</td>\n",
              "      <td>1.0</td>\n",
              "      <td>1.0</td>\n",
              "      <td>debit</td>\n",
              "      <td>1.0</td>\n",
              "      <td>1.0</td>\n",
              "      <td>0.0</td>\n",
              "      <td>1.0</td>\n",
              "      <td>T</td>\n",
              "      <td>1.0</td>\n",
              "      <td>0.0</td>\n",
              "      <td>1.0</td>\n",
              "      <td>1.0</td>\n",
              "      <td>1.0</td>\n",
              "      <td>1.0</td>\n",
              "      <td>1.0</td>\n",
              "      <td>0.0</td>\n",
              "      <td>1.0</td>\n",
              "      <td>1.0</td>\n",
              "      <td>1.0</td>\n",
              "      <td>1.0</td>\n",
              "      <td>1.0</td>\n",
              "      <td>F</td>\n",
              "      <td>1.0</td>\n",
              "      <td>1.0</td>\n",
              "      <td>F</td>\n",
              "      <td>outlook.com</td>\n",
              "      <td>F</td>\n",
              "      <td>1.0</td>\n",
              "      <td>1.0</td>\n",
              "      <td>1.0</td>\n",
              "    </tr>\n",
              "    <tr>\n",
              "      <th>3</th>\n",
              "      <td>50.0</td>\n",
              "      <td>1758.0</td>\n",
              "      <td>925.0</td>\n",
              "      <td>18132</td>\n",
              "      <td>1758.0</td>\n",
              "      <td>1404.0</td>\n",
              "      <td>50.0</td>\n",
              "      <td>925.0</td>\n",
              "      <td>354.0</td>\n",
              "      <td>790.0</td>\n",
              "      <td>1404.0</td>\n",
              "      <td>50.0</td>\n",
              "      <td>50.0</td>\n",
              "      <td>0.0</td>\n",
              "      <td>790.0</td>\n",
              "      <td>0.0</td>\n",
              "      <td>354.0</td>\n",
              "      <td>0.0</td>\n",
              "      <td>0.0</td>\n",
              "      <td>567.0</td>\n",
              "      <td>0.0</td>\n",
              "      <td>50.0</td>\n",
              "      <td>0.0</td>\n",
              "      <td>135.0</td>\n",
              "      <td>0.0</td>\n",
              "      <td>0.0</td>\n",
              "      <td>0.0</td>\n",
              "      <td>1.0</td>\n",
              "      <td>0.0</td>\n",
              "      <td>0.0</td>\n",
              "      <td>0.0</td>\n",
              "      <td>0.0</td>\n",
              "      <td>476.0</td>\n",
              "      <td>0.0</td>\n",
              "      <td>0.0</td>\n",
              "      <td>1.0</td>\n",
              "      <td>0.0</td>\n",
              "      <td>1.0</td>\n",
              "      <td>0.0</td>\n",
              "      <td>0.0</td>\n",
              "      <td>...</td>\n",
              "      <td>1.0</td>\n",
              "      <td>1.0</td>\n",
              "      <td>NaN</td>\n",
              "      <td>NaN</td>\n",
              "      <td>NaN</td>\n",
              "      <td>28.0</td>\n",
              "      <td>NaN</td>\n",
              "      <td>NaN</td>\n",
              "      <td>1.0</td>\n",
              "      <td>28.0</td>\n",
              "      <td>NaN</td>\n",
              "      <td>NaN</td>\n",
              "      <td>debit</td>\n",
              "      <td>NaN</td>\n",
              "      <td>NaN</td>\n",
              "      <td>1.0</td>\n",
              "      <td>NaN</td>\n",
              "      <td>NaN</td>\n",
              "      <td>NaN</td>\n",
              "      <td>0.0</td>\n",
              "      <td>1.0</td>\n",
              "      <td>1.0</td>\n",
              "      <td>1.0</td>\n",
              "      <td>1.0</td>\n",
              "      <td>1.0</td>\n",
              "      <td>48.0</td>\n",
              "      <td>1.0</td>\n",
              "      <td>1.0</td>\n",
              "      <td>1.0</td>\n",
              "      <td>1.0</td>\n",
              "      <td>1.0</td>\n",
              "      <td>NaN</td>\n",
              "      <td>1.0</td>\n",
              "      <td>1.0</td>\n",
              "      <td>NaN</td>\n",
              "      <td>yahoo.com</td>\n",
              "      <td>NaN</td>\n",
              "      <td>1.0</td>\n",
              "      <td>1.0</td>\n",
              "      <td>1.0</td>\n",
              "    </tr>\n",
              "    <tr>\n",
              "      <th>4</th>\n",
              "      <td>50.0</td>\n",
              "      <td>0.0</td>\n",
              "      <td>0.0</td>\n",
              "      <td>4497</td>\n",
              "      <td>0.0</td>\n",
              "      <td>0.0</td>\n",
              "      <td>0.0</td>\n",
              "      <td>0.0</td>\n",
              "      <td>0.0</td>\n",
              "      <td>0.0</td>\n",
              "      <td>0.0</td>\n",
              "      <td>0.0</td>\n",
              "      <td>0.0</td>\n",
              "      <td>0.0</td>\n",
              "      <td>0.0</td>\n",
              "      <td>0.0</td>\n",
              "      <td>0.0</td>\n",
              "      <td>0.0</td>\n",
              "      <td>1.0</td>\n",
              "      <td>514.0</td>\n",
              "      <td>0.0</td>\n",
              "      <td>0.0</td>\n",
              "      <td>0.0</td>\n",
              "      <td>0.0</td>\n",
              "      <td>1.0</td>\n",
              "      <td>0.0</td>\n",
              "      <td>0.0</td>\n",
              "      <td>NaN</td>\n",
              "      <td>NaN</td>\n",
              "      <td>0.0</td>\n",
              "      <td>NaN</td>\n",
              "      <td>NaN</td>\n",
              "      <td>420.0</td>\n",
              "      <td>NaN</td>\n",
              "      <td>NaN</td>\n",
              "      <td>NaN</td>\n",
              "      <td>NaN</td>\n",
              "      <td>NaN</td>\n",
              "      <td>NaN</td>\n",
              "      <td>NaN</td>\n",
              "      <td>...</td>\n",
              "      <td>0.0</td>\n",
              "      <td>NaN</td>\n",
              "      <td>NaN</td>\n",
              "      <td>NaN</td>\n",
              "      <td>NaN</td>\n",
              "      <td>0.0</td>\n",
              "      <td>NaN</td>\n",
              "      <td>NaN</td>\n",
              "      <td>0.0</td>\n",
              "      <td>0.0</td>\n",
              "      <td>NaN</td>\n",
              "      <td>NaN</td>\n",
              "      <td>credit</td>\n",
              "      <td>NaN</td>\n",
              "      <td>NaN</td>\n",
              "      <td>0.0</td>\n",
              "      <td>NaN</td>\n",
              "      <td>NaN</td>\n",
              "      <td>NaN</td>\n",
              "      <td>0.0</td>\n",
              "      <td>NaN</td>\n",
              "      <td>NaN</td>\n",
              "      <td>NaN</td>\n",
              "      <td>NaN</td>\n",
              "      <td>NaN</td>\n",
              "      <td>0.0</td>\n",
              "      <td>1.0</td>\n",
              "      <td>NaN</td>\n",
              "      <td>NaN</td>\n",
              "      <td>NaN</td>\n",
              "      <td>NaN</td>\n",
              "      <td>NaN</td>\n",
              "      <td>NaN</td>\n",
              "      <td>NaN</td>\n",
              "      <td>NaN</td>\n",
              "      <td>gmail.com</td>\n",
              "      <td>NaN</td>\n",
              "      <td>NaN</td>\n",
              "      <td>NaN</td>\n",
              "      <td>1.0</td>\n",
              "    </tr>\n",
              "  </tbody>\n",
              "</table>\n",
              "<p>5 rows × 161 columns</p>\n",
              "</div>"
            ],
            "text/plain": [
              "   TransactionAmt    V307   V308  card1  ...   M7  V75  V36  V125\n",
              "0            68.5   117.0    0.0  13926  ...  NaN  1.0  NaN   1.0\n",
              "1            29.0     0.0    0.0   2755  ...  NaN  0.0  0.0   1.0\n",
              "2            59.0     0.0    0.0   4663  ...    F  1.0  1.0   1.0\n",
              "3            50.0  1758.0  925.0  18132  ...  NaN  1.0  1.0   1.0\n",
              "4            50.0     0.0    0.0   4497  ...  NaN  NaN  NaN   1.0\n",
              "\n",
              "[5 rows x 161 columns]"
            ]
          },
          "metadata": {
            "tags": []
          },
          "execution_count": 30
        }
      ]
    },
    {
      "cell_type": "code",
      "metadata": {
        "id": "cDefR5bU4TBj",
        "colab_type": "code",
        "colab": {}
      },
      "source": [
        "import scorecardpy as sc\n",
        "\n",
        "df = df.dropna(axis = 1,thresh= int(0.3 *len(df)))\n"
      ],
      "execution_count": 0,
      "outputs": []
    },
    {
      "cell_type": "code",
      "metadata": {
        "id": "7Cy3qhrl4nwk",
        "colab_type": "code",
        "outputId": "3ca31274-8560-4ed4-c374-26d282abb774",
        "colab": {
          "base_uri": "https://localhost:8080/",
          "height": 34
        }
      },
      "source": [
        "shape(df)"
      ],
      "execution_count": 0,
      "outputs": [
        {
          "output_type": "execute_result",
          "data": {
            "text/plain": [
              "(590540, 226)"
            ]
          },
          "metadata": {
            "tags": []
          },
          "execution_count": 38
        }
      ]
    },
    {
      "cell_type": "code",
      "metadata": {
        "id": "hvvjUt5y4qoS",
        "colab_type": "code",
        "colab": {}
      },
      "source": [
        "info_values = sc.iv(df, y=\"isFraud\")\n",
        "\n"
      ],
      "execution_count": 0,
      "outputs": []
    },
    {
      "cell_type": "code",
      "metadata": {
        "id": "2e1sjXHlAGK0",
        "colab_type": "code",
        "outputId": "3c223280-1868-4b65-d64f-a2259e1a272d",
        "colab": {
          "base_uri": "https://localhost:8080/",
          "height": 297
        }
      },
      "source": [
        "import seaborn as sn\n",
        "\n",
        "sn.distplot(info_values.info_value)"
      ],
      "execution_count": 0,
      "outputs": [
        {
          "output_type": "execute_result",
          "data": {
            "text/plain": [
              "<matplotlib.axes._subplots.AxesSubplot at 0x7fb3f251d0b8>"
            ]
          },
          "metadata": {
            "tags": []
          },
          "execution_count": 40
        },
        {
          "output_type": "display_data",
          "data": {
            "image/png": "[encoded data removed]",
            "text/plain": [
              "<Figure size 432x288 with 1 Axes>"
            ]
          },
          "metadata": {
            "tags": []
          }
        }
      ]
    },
    {
      "cell_type": "code",
      "metadata": {
        "id": "6jUofi-kATb1",
        "colab_type": "code",
        "outputId": "53cbc10a-94ac-419b-ff40-876ab751d325",
        "colab": {
          "base_uri": "https://localhost:8080/",
          "height": 34
        }
      },
      "source": [
        "len(info_values[info_values.info_value > 0.15])"
      ],
      "execution_count": 0,
      "outputs": [
        {
          "output_type": "execute_result",
          "data": {
            "text/plain": [
              "161"
            ]
          },
          "metadata": {
            "tags": []
          },
          "execution_count": 44
        }
      ]
    },
    {
      "cell_type": "code",
      "metadata": {
        "id": "wzJoayWbAjDN",
        "colab_type": "code",
        "colab": {}
      },
      "source": [
        "info_values.to_csv('/content/drive/My Drive/Colab Notebooks/info_values.csv')"
      ],
      "execution_count": 0,
      "outputs": []
    },
    {
      "cell_type": "code",
      "metadata": {
        "id": "N_cHOd_q6LYY",
        "colab_type": "code",
        "colab": {}
      },
      "source": [
        "info_values"
      ],
      "execution_count": 0,
      "outputs": []
    },
    {
      "cell_type": "code",
      "metadata": {
        "id": "Hq2b7tyPAwXl",
        "colab_type": "code",
        "colab": {}
      },
      "source": [
        "df_reduced = df[info_values[info_values.info_value > 0.15].variable]"
      ],
      "execution_count": 0,
      "outputs": []
    },
    {
      "cell_type": "code",
      "metadata": {
        "id": "oyk_rOTZB0y-",
        "colab_type": "code",
        "outputId": "8c0a4e89-03f6-481d-f618-59b3d91dfdd7",
        "colab": {
          "base_uri": "https://localhost:8080/",
          "height": 34
        }
      },
      "source": [
        "shape(df_reduced)"
      ],
      "execution_count": 0,
      "outputs": [
        {
          "output_type": "execute_result",
          "data": {
            "text/plain": [
              "(590540, 162)"
            ]
          },
          "metadata": {
            "tags": []
          },
          "execution_count": 50
        }
      ]
    },
    {
      "cell_type": "code",
      "metadata": {
        "id": "osX785ed2nNK",
        "colab_type": "code",
        "outputId": "9643c38f-f7e2-4409-e3cc-0ba1d94d68d9",
        "colab": {
          "base_uri": "https://localhost:8080/",
          "height": 411
        }
      },
      "source": [
        "import scorecardpy as sc\n",
        "df_reduced['isFraud'] = df['isFraud']\n",
        "\n",
        "bins = sc.woebin(df_reduced, y=\"isFraud\", bin_num_limit = 4, print_step=1)\n",
        "\n"
      ],
      "execution_count": 0,
      "outputs": [
        {
          "output_type": "stream",
          "text": [
            "/usr/local/lib/python3.6/dist-packages/ipykernel_launcher.py:2: SettingWithCopyWarning: \n",
            "A value is trying to be set on a copy of a slice from a DataFrame.\n",
            "Try using .loc[row_indexer,col_indexer] = value instead\n",
            "\n",
            "See the caveats in the documentation: http://pandas.pydata.org/pandas-docs/stable/user_guide/indexing.html#returning-a-view-versus-a-copy\n",
            "  \n"
          ],
          "name": "stderr"
        },
        {
          "output_type": "stream",
          "text": [
            "[INFO] creating woe binning ...\n",
            ">>> There are 1 variables have too many unique non-numberic values, which might cause the binning process slow. Please double check the following variables: \n",
            "P_emaildomain\n",
            ">>> Continue the binning process?\n",
            "1: yes \n",
            "2: no\n",
            "Selection: 1\n"
          ],
          "name": "stdout"
        },
        {
          "output_type": "stream",
          "text": [
            "/usr/local/lib/python3.6/dist-packages/scorecardpy/woebin.py:725: FutureWarning: Sorting because non-concatenation axis is not aligned. A future version\n",
            "of pandas will change to not sort by default.\n",
            "\n",
            "To accept the future behavior, pass 'sort=False'.\n",
            "\n",
            "To retain the current behavior and silence the warning, pass 'sort=True'.\n",
            "\n",
            "  binning = pd.concat(bin_list, keys=bin_list.keys()).reset_index()\\\n"
          ],
          "name": "stderr"
        },
        {
          "output_type": "stream",
          "text": [
            "Binning on 590540 rows and 162 columns in 00:07:52\n"
          ],
          "name": "stdout"
        }
      ]
    },
    {
      "cell_type": "code",
      "metadata": {
        "id": "THoYfjvz29kT",
        "colab_type": "code",
        "colab": {}
      },
      "source": [
        "ivs = pd.DataFrame({'var': ['init'], 'iv': [0] })\n",
        "for i in bins.keys():\n",
        "  ivs = ivs.append(pd.DataFrame({'var': [i], 'iv': [bins[i].total_iv[0]] }))\n",
        " # bins[i].total_iv"
      ],
      "execution_count": 0,
      "outputs": []
    },
    {
      "cell_type": "code",
      "metadata": {
        "id": "yAZf4cwVD80g",
        "colab_type": "code",
        "outputId": "a306cd56-1034-45b5-f62b-dc06e7cb3b74",
        "colab": {
          "base_uri": "https://localhost:8080/",
          "height": 204
        }
      },
      "source": [
        "ivs.head()"
      ],
      "execution_count": 0,
      "outputs": [
        {
          "output_type": "execute_result",
          "data": {
            "text/html": [
              "<div>\n",
              "<style scoped>\n",
              "    .dataframe tbody tr th:only-of-type {\n",
              "        vertical-align: middle;\n",
              "    }\n",
              "\n",
              "    .dataframe tbody tr th {\n",
              "        vertical-align: top;\n",
              "    }\n",
              "\n",
              "    .dataframe thead th {\n",
              "        text-align: right;\n",
              "    }\n",
              "</style>\n",
              "<table border=\"1\" class=\"dataframe\">\n",
              "  <thead>\n",
              "    <tr style=\"text-align: right;\">\n",
              "      <th></th>\n",
              "      <th>var</th>\n",
              "      <th>iv</th>\n",
              "    </tr>\n",
              "  </thead>\n",
              "  <tbody>\n",
              "    <tr>\n",
              "      <th>0</th>\n",
              "      <td>init</td>\n",
              "      <td>0.000000</td>\n",
              "    </tr>\n",
              "    <tr>\n",
              "      <th>0</th>\n",
              "      <td>V308</td>\n",
              "      <td>0.147391</td>\n",
              "    </tr>\n",
              "    <tr>\n",
              "      <th>0</th>\n",
              "      <td>V56</td>\n",
              "      <td>0.172573</td>\n",
              "    </tr>\n",
              "    <tr>\n",
              "      <th>0</th>\n",
              "      <td>V321</td>\n",
              "      <td>0.000135</td>\n",
              "    </tr>\n",
              "    <tr>\n",
              "      <th>0</th>\n",
              "      <td>V92</td>\n",
              "      <td>0.510250</td>\n",
              "    </tr>\n",
              "  </tbody>\n",
              "</table>\n",
              "</div>"
            ],
            "text/plain": [
              "    var        iv\n",
              "0  init  0.000000\n",
              "0  V308  0.147391\n",
              "0   V56  0.172573\n",
              "0  V321  0.000135\n",
              "0   V92  0.510250"
            ]
          },
          "metadata": {
            "tags": []
          },
          "execution_count": 72
        }
      ]
    },
    {
      "cell_type": "code",
      "metadata": {
        "id": "qU1EEmjiGAND",
        "colab_type": "code",
        "outputId": "99a0b97e-88f2-474f-8f62-f50bd1e2b3b4",
        "colab": {
          "base_uri": "https://localhost:8080/",
          "height": 296
        }
      },
      "source": [
        "sn.distplot(ivs.iv)"
      ],
      "execution_count": 0,
      "outputs": [
        {
          "output_type": "execute_result",
          "data": {
            "text/plain": [
              "<matplotlib.axes._subplots.AxesSubplot at 0x7fb3dbb39908>"
            ]
          },
          "metadata": {
            "tags": []
          },
          "execution_count": 73
        },
        {
          "output_type": "display_data",
          "data": {
            "image/png": "[encoded data removed]",
            "text/plain": [
              "<Figure size 432x288 with 1 Axes>"
            ]
          },
          "metadata": {
            "tags": []
          }
        }
      ]
    },
    {
      "cell_type": "code",
      "metadata": {
        "id": "ri5_C94XGwFn",
        "colab_type": "code",
        "colab": {}
      },
      "source": [
        "#ivs.to_csv('/content/drive/My Drive/Colab Notebooks/info_values_binning.csv')"
      ],
      "execution_count": 0,
      "outputs": []
    },
    {
      "cell_type": "code",
      "metadata": {
        "id": "Fk15F1tZ6TNR",
        "colab_type": "code",
        "colab": {}
      },
      "source": [
        "ivs = pd.read_csv('/content/drive/My Drive/Colab Notebooks/info_values_binning.csv')"
      ],
      "execution_count": 0,
      "outputs": []
    },
    {
      "cell_type": "code",
      "metadata": {
        "id": "SWLFRO_iHTNZ",
        "colab_type": "code",
        "outputId": "6766ae89-0df7-4090-e528-38d9d560b8c9",
        "colab": {
          "base_uri": "https://localhost:8080/",
          "height": 221
        }
      },
      "source": [
        "ivs[ivs.iv > 0.1]['var']"
      ],
      "execution_count": 0,
      "outputs": [
        {
          "output_type": "execute_result",
          "data": {
            "text/plain": [
              "1       V308\n",
              "2        V56\n",
              "4        V92\n",
              "5         M7\n",
              "7      addr1\n",
              "       ...  \n",
              "157       V7\n",
              "158      V53\n",
              "159      D15\n",
              "160       M3\n",
              "161      V58\n",
              "Name: var, Length: 104, dtype: object"
            ]
          },
          "metadata": {
            "tags": []
          },
          "execution_count": 5
        }
      ]
    },
    {
      "cell_type": "code",
      "metadata": {
        "id": "nG2EyZQ0G6h2",
        "colab_type": "code",
        "outputId": "c84484fe-189f-47de-b495-72f4e2b36da0",
        "colab": {
          "base_uri": "https://localhost:8080/",
          "height": 34
        }
      },
      "source": [
        "df_to_woe = df_reduced[ivs[ivs.iv > 0.1]['var']]\n",
        "shape(df_to_woe)"
      ],
      "execution_count": 0,
      "outputs": [
        {
          "output_type": "execute_result",
          "data": {
            "text/plain": [
              "(590540, 104)"
            ]
          },
          "metadata": {
            "tags": []
          },
          "execution_count": 91
        }
      ]
    },
    {
      "cell_type": "code",
      "metadata": {
        "id": "SwQ1R-PzHN0l",
        "colab_type": "code",
        "outputId": "15eb39b7-2265-46af-cbd9-1038b6218b36",
        "colab": {
          "base_uri": "https://localhost:8080/",
          "height": 139
        }
      },
      "source": [
        "df_to_woe['isFraud'] = df_reduced['isFraud']"
      ],
      "execution_count": 0,
      "outputs": [
        {
          "output_type": "stream",
          "text": [
            "/usr/local/lib/python3.6/dist-packages/ipykernel_launcher.py:1: SettingWithCopyWarning: \n",
            "A value is trying to be set on a copy of a slice from a DataFrame.\n",
            "Try using .loc[row_indexer,col_indexer] = value instead\n",
            "\n",
            "See the caveats in the documentation: http://pandas.pydata.org/pandas-docs/stable/user_guide/indexing.html#returning-a-view-versus-a-copy\n",
            "  \"\"\"Entry point for launching an IPython kernel.\n"
          ],
          "name": "stderr"
        }
      ]
    },
    {
      "cell_type": "code",
      "metadata": {
        "id": "7_iUCmObHy0q",
        "colab_type": "code",
        "colab": {}
      },
      "source": [
        "import pickle\n",
        "f = open(\"/content/drive/My Drive/Colab Notebooks/bins.pkl\",\"wb\")\n",
        "pickle.dump(bins,f)\n",
        "f.close()"
      ],
      "execution_count": 0,
      "outputs": []
    },
    {
      "cell_type": "code",
      "metadata": {
        "id": "D-9bXwj6I6Cj",
        "colab_type": "code",
        "outputId": "29a505ba-259b-44bb-b68d-4e85af42b96b",
        "colab": {
          "base_uri": "https://localhost:8080/",
          "height": 34
        }
      },
      "source": [
        "shape(df_to_woe)"
      ],
      "execution_count": 0,
      "outputs": [
        {
          "output_type": "execute_result",
          "data": {
            "text/plain": [
              "(590540,)"
            ]
          },
          "metadata": {
            "tags": []
          },
          "execution_count": 90
        }
      ]
    },
    {
      "cell_type": "code",
      "metadata": {
        "id": "1Z5imrcdIpr1",
        "colab_type": "code",
        "colab": {}
      },
      "source": [
        "df_to_woe = df_to_woe.drop('isFraud', axis = 1)"
      ],
      "execution_count": 0,
      "outputs": []
    },
    {
      "cell_type": "code",
      "metadata": {
        "id": "ywHF0xwuHlW5",
        "colab_type": "code",
        "outputId": "bdd58a4d-f8d0-433e-fa60-ef0f0d340b32",
        "colab": {
          "base_uri": "https://localhost:8080/",
          "height": 51
        }
      },
      "source": [
        "df_woe = sc.woebin_ply(df_to_woe, bins)"
      ],
      "execution_count": 0,
      "outputs": [
        {
          "output_type": "stream",
          "text": [
            "[INFO] converting into woe values ...\n",
            "Woe transformating on 590540 rows and 104 columns in 00:03:25\n"
          ],
          "name": "stdout"
        }
      ]
    },
    {
      "cell_type": "code",
      "metadata": {
        "id": "G26y-GqgILqF",
        "colab_type": "code",
        "colab": {}
      },
      "source": [
        "c = df_woe.corr().abs()"
      ],
      "execution_count": 0,
      "outputs": []
    },
    {
      "cell_type": "code",
      "metadata": {
        "id": "l8pXLiV1KLN5",
        "colab_type": "code",
        "outputId": "0140bb82-1077-4f4e-8fbd-15216f36e62b",
        "colab": {
          "base_uri": "https://localhost:8080/",
          "height": 439
        }
      },
      "source": [
        "c"
      ],
      "execution_count": 0,
      "outputs": [
        {
          "output_type": "execute_result",
          "data": {
            "text/html": [
              "<div>\n",
              "<style scoped>\n",
              "    .dataframe tbody tr th:only-of-type {\n",
              "        vertical-align: middle;\n",
              "    }\n",
              "\n",
              "    .dataframe tbody tr th {\n",
              "        vertical-align: top;\n",
              "    }\n",
              "\n",
              "    .dataframe thead th {\n",
              "        text-align: right;\n",
              "    }\n",
              "</style>\n",
              "<table border=\"1\" class=\"dataframe\">\n",
              "  <thead>\n",
              "    <tr style=\"text-align: right;\">\n",
              "      <th></th>\n",
              "      <th>V308_woe</th>\n",
              "      <th>V56_woe</th>\n",
              "      <th>V92_woe</th>\n",
              "      <th>M7_woe</th>\n",
              "      <th>addr1_woe</th>\n",
              "      <th>V64_woe</th>\n",
              "      <th>C1_woe</th>\n",
              "      <th>V42_woe</th>\n",
              "      <th>M4_woe</th>\n",
              "      <th>V2_woe</th>\n",
              "      <th>V43_woe</th>\n",
              "      <th>V13_woe</th>\n",
              "      <th>V10_woe</th>\n",
              "      <th>V71_woe</th>\n",
              "      <th>C2_woe</th>\n",
              "      <th>V1_woe</th>\n",
              "      <th>V40_woe</th>\n",
              "      <th>V9_woe</th>\n",
              "      <th>V15_woe</th>\n",
              "      <th>V29_woe</th>\n",
              "      <th>C11_woe</th>\n",
              "      <th>V4_woe</th>\n",
              "      <th>D2_woe</th>\n",
              "      <th>V72_woe</th>\n",
              "      <th>V74_woe</th>\n",
              "      <th>V16_woe</th>\n",
              "      <th>D4_woe</th>\n",
              "      <th>V93_woe</th>\n",
              "      <th>V59_woe</th>\n",
              "      <th>V78_woe</th>\n",
              "      <th>V50_woe</th>\n",
              "      <th>V60_woe</th>\n",
              "      <th>V81_woe</th>\n",
              "      <th>ProductCD_woe</th>\n",
              "      <th>V38_woe</th>\n",
              "      <th>V70_woe</th>\n",
              "      <th>V57_woe</th>\n",
              "      <th>V6_woe</th>\n",
              "      <th>V282_woe</th>\n",
              "      <th>V49_woe</th>\n",
              "      <th>...</th>\n",
              "      <th>V79_woe</th>\n",
              "      <th>V39_woe</th>\n",
              "      <th>M8_woe</th>\n",
              "      <th>V69_woe</th>\n",
              "      <th>P_emaildomain_woe</th>\n",
              "      <th>M9_woe</th>\n",
              "      <th>V94_woe</th>\n",
              "      <th>V303_woe</th>\n",
              "      <th>C5_woe</th>\n",
              "      <th>V5_woe</th>\n",
              "      <th>V90_woe</th>\n",
              "      <th>V8_woe</th>\n",
              "      <th>V73_woe</th>\n",
              "      <th>V32_woe</th>\n",
              "      <th>D3_woe</th>\n",
              "      <th>dist1_woe</th>\n",
              "      <th>V87_woe</th>\n",
              "      <th>V54_woe</th>\n",
              "      <th>V304_woe</th>\n",
              "      <th>V283_woe</th>\n",
              "      <th>V36_woe</th>\n",
              "      <th>V18_woe</th>\n",
              "      <th>V48_woe</th>\n",
              "      <th>M2_woe</th>\n",
              "      <th>V51_woe</th>\n",
              "      <th>V302_woe</th>\n",
              "      <th>C13_woe</th>\n",
              "      <th>V63_woe</th>\n",
              "      <th>V280_woe</th>\n",
              "      <th>V12_woe</th>\n",
              "      <th>V52_woe</th>\n",
              "      <th>D11_woe</th>\n",
              "      <th>D1_woe</th>\n",
              "      <th>card3_woe</th>\n",
              "      <th>M6_woe</th>\n",
              "      <th>V7_woe</th>\n",
              "      <th>V53_woe</th>\n",
              "      <th>D15_woe</th>\n",
              "      <th>M3_woe</th>\n",
              "      <th>V58_woe</th>\n",
              "    </tr>\n",
              "  </thead>\n",
              "  <tbody>\n",
              "    <tr>\n",
              "      <th>V308_woe</th>\n",
              "      <td>1.000000</td>\n",
              "      <td>0.164795</td>\n",
              "      <td>0.057348</td>\n",
              "      <td>0.004760</td>\n",
              "      <td>0.033834</td>\n",
              "      <td>0.048660</td>\n",
              "      <td>0.088834</td>\n",
              "      <td>0.039204</td>\n",
              "      <td>0.074615</td>\n",
              "      <td>0.027450</td>\n",
              "      <td>0.038930</td>\n",
              "      <td>0.098074</td>\n",
              "      <td>0.070637</td>\n",
              "      <td>0.056648</td>\n",
              "      <td>0.153400</td>\n",
              "      <td>0.027450</td>\n",
              "      <td>0.038772</td>\n",
              "      <td>0.027450</td>\n",
              "      <td>0.071328</td>\n",
              "      <td>0.139003</td>\n",
              "      <td>0.107583</td>\n",
              "      <td>0.027442</td>\n",
              "      <td>0.011991</td>\n",
              "      <td>0.055646</td>\n",
              "      <td>0.024665</td>\n",
              "      <td>0.071370</td>\n",
              "      <td>0.024765</td>\n",
              "      <td>0.057346</td>\n",
              "      <td>0.049989</td>\n",
              "      <td>0.136771</td>\n",
              "      <td>0.044013</td>\n",
              "      <td>0.048876</td>\n",
              "      <td>0.052725</td>\n",
              "      <td>0.046812</td>\n",
              "      <td>0.146981</td>\n",
              "      <td>0.129412</td>\n",
              "      <td>0.074592</td>\n",
              "      <td>0.027450</td>\n",
              "      <td>0.162118</td>\n",
              "      <td>0.128968</td>\n",
              "      <td>...</td>\n",
              "      <td>0.064836</td>\n",
              "      <td>0.039025</td>\n",
              "      <td>0.001474</td>\n",
              "      <td>0.131514</td>\n",
              "      <td>0.026447</td>\n",
              "      <td>0.001317</td>\n",
              "      <td>0.046914</td>\n",
              "      <td>0.055940</td>\n",
              "      <td>0.114490</td>\n",
              "      <td>0.027515</td>\n",
              "      <td>0.141159</td>\n",
              "      <td>0.027450</td>\n",
              "      <td>0.050851</td>\n",
              "      <td>0.051714</td>\n",
              "      <td>0.396027</td>\n",
              "      <td>0.070572</td>\n",
              "      <td>0.027162</td>\n",
              "      <td>0.115598</td>\n",
              "      <td>0.056488</td>\n",
              "      <td>0.247315</td>\n",
              "      <td>0.068924</td>\n",
              "      <td>0.049948</td>\n",
              "      <td>0.129457</td>\n",
              "      <td>0.019237</td>\n",
              "      <td>0.027344</td>\n",
              "      <td>0.058561</td>\n",
              "      <td>0.046612</td>\n",
              "      <td>0.049942</td>\n",
              "      <td>0.885216</td>\n",
              "      <td>0.071082</td>\n",
              "      <td>0.010828</td>\n",
              "      <td>0.036453</td>\n",
              "      <td>0.077686</td>\n",
              "      <td>0.051406</td>\n",
              "      <td>0.056946</td>\n",
              "      <td>0.027450</td>\n",
              "      <td>0.083406</td>\n",
              "      <td>0.065763</td>\n",
              "      <td>0.017026</td>\n",
              "      <td>0.073538</td>\n",
              "    </tr>\n",
              "    <tr>\n",
              "      <th>V56_woe</th>\n",
              "      <td>0.164795</td>\n",
              "      <td>1.000000</td>\n",
              "      <td>0.389751</td>\n",
              "      <td>0.264727</td>\n",
              "      <td>0.099963</td>\n",
              "      <td>0.456831</td>\n",
              "      <td>0.114189</td>\n",
              "      <td>0.266443</td>\n",
              "      <td>0.037819</td>\n",
              "      <td>0.337876</td>\n",
              "      <td>0.267977</td>\n",
              "      <td>0.351080</td>\n",
              "      <td>0.288790</td>\n",
              "      <td>0.451411</td>\n",
              "      <td>0.028938</td>\n",
              "      <td>0.337876</td>\n",
              "      <td>0.269466</td>\n",
              "      <td>0.337876</td>\n",
              "      <td>0.388149</td>\n",
              "      <td>0.285852</td>\n",
              "      <td>0.073738</td>\n",
              "      <td>0.337875</td>\n",
              "      <td>0.233155</td>\n",
              "      <td>0.453504</td>\n",
              "      <td>0.454007</td>\n",
              "      <td>0.388133</td>\n",
              "      <td>0.113364</td>\n",
              "      <td>0.389763</td>\n",
              "      <td>0.453378</td>\n",
              "      <td>0.611024</td>\n",
              "      <td>0.267925</td>\n",
              "      <td>0.455753</td>\n",
              "      <td>0.390700</td>\n",
              "      <td>0.376224</td>\n",
              "      <td>0.424218</td>\n",
              "      <td>0.320682</td>\n",
              "      <td>0.456495</td>\n",
              "      <td>0.337876</td>\n",
              "      <td>0.315915</td>\n",
              "      <td>0.182346</td>\n",
              "      <td>...</td>\n",
              "      <td>0.361017</td>\n",
              "      <td>0.268126</td>\n",
              "      <td>0.261790</td>\n",
              "      <td>0.322604</td>\n",
              "      <td>0.017179</td>\n",
              "      <td>0.259412</td>\n",
              "      <td>0.357537</td>\n",
              "      <td>0.549339</td>\n",
              "      <td>0.287604</td>\n",
              "      <td>0.337425</td>\n",
              "      <td>0.269996</td>\n",
              "      <td>0.337876</td>\n",
              "      <td>0.452575</td>\n",
              "      <td>0.416724</td>\n",
              "      <td>0.235697</td>\n",
              "      <td>0.247888</td>\n",
              "      <td>0.282343</td>\n",
              "      <td>0.410663</td>\n",
              "      <td>0.548655</td>\n",
              "      <td>0.336060</td>\n",
              "      <td>0.125896</td>\n",
              "      <td>0.416342</td>\n",
              "      <td>0.182109</td>\n",
              "      <td>0.337836</td>\n",
              "      <td>0.248339</td>\n",
              "      <td>0.546662</td>\n",
              "      <td>0.182148</td>\n",
              "      <td>0.454128</td>\n",
              "      <td>0.188149</td>\n",
              "      <td>0.350854</td>\n",
              "      <td>0.249311</td>\n",
              "      <td>0.305642</td>\n",
              "      <td>0.220618</td>\n",
              "      <td>0.068603</td>\n",
              "      <td>0.502943</td>\n",
              "      <td>0.337876</td>\n",
              "      <td>0.425086</td>\n",
              "      <td>0.258980</td>\n",
              "      <td>0.333848</td>\n",
              "      <td>0.458712</td>\n",
              "    </tr>\n",
              "    <tr>\n",
              "      <th>V92_woe</th>\n",
              "      <td>0.057348</td>\n",
              "      <td>0.389751</td>\n",
              "      <td>1.000000</td>\n",
              "      <td>0.450517</td>\n",
              "      <td>0.761304</td>\n",
              "      <td>0.902047</td>\n",
              "      <td>0.137125</td>\n",
              "      <td>0.840472</td>\n",
              "      <td>0.501971</td>\n",
              "      <td>0.601861</td>\n",
              "      <td>0.841785</td>\n",
              "      <td>0.568810</td>\n",
              "      <td>0.466367</td>\n",
              "      <td>0.945993</td>\n",
              "      <td>0.018053</td>\n",
              "      <td>0.601861</td>\n",
              "      <td>0.844758</td>\n",
              "      <td>0.601861</td>\n",
              "      <td>0.915265</td>\n",
              "      <td>0.388803</td>\n",
              "      <td>0.082826</td>\n",
              "      <td>0.601861</td>\n",
              "      <td>0.261100</td>\n",
              "      <td>0.947434</td>\n",
              "      <td>0.865596</td>\n",
              "      <td>0.915429</td>\n",
              "      <td>0.211284</td>\n",
              "      <td>0.999965</td>\n",
              "      <td>0.902271</td>\n",
              "      <td>0.375239</td>\n",
              "      <td>0.896751</td>\n",
              "      <td>0.904063</td>\n",
              "      <td>0.944223</td>\n",
              "      <td>0.934809</td>\n",
              "      <td>0.282763</td>\n",
              "      <td>0.408485</td>\n",
              "      <td>0.918819</td>\n",
              "      <td>0.601861</td>\n",
              "      <td>0.251198</td>\n",
              "      <td>0.332898</td>\n",
              "      <td>...</td>\n",
              "      <td>0.938711</td>\n",
              "      <td>0.843610</td>\n",
              "      <td>0.441891</td>\n",
              "      <td>0.407073</td>\n",
              "      <td>0.224720</td>\n",
              "      <td>0.434339</td>\n",
              "      <td>0.909527</td>\n",
              "      <td>0.856493</td>\n",
              "      <td>0.405763</td>\n",
              "      <td>0.600036</td>\n",
              "      <td>0.400105</td>\n",
              "      <td>0.601861</td>\n",
              "      <td>0.886238</td>\n",
              "      <td>0.955051</td>\n",
              "      <td>0.234794</td>\n",
              "      <td>0.406115</td>\n",
              "      <td>0.257457</td>\n",
              "      <td>0.594490</td>\n",
              "      <td>0.854827</td>\n",
              "      <td>0.212539</td>\n",
              "      <td>0.462857</td>\n",
              "      <td>0.905121</td>\n",
              "      <td>0.332052</td>\n",
              "      <td>0.558133</td>\n",
              "      <td>0.836836</td>\n",
              "      <td>0.853230</td>\n",
              "      <td>0.237020</td>\n",
              "      <td>0.900027</td>\n",
              "      <td>0.026843</td>\n",
              "      <td>0.549163</td>\n",
              "      <td>0.820817</td>\n",
              "      <td>0.525946</td>\n",
              "      <td>0.270532</td>\n",
              "      <td>0.722832</td>\n",
              "      <td>0.823038</td>\n",
              "      <td>0.601861</td>\n",
              "      <td>0.574436</td>\n",
              "      <td>0.368538</td>\n",
              "      <td>0.551237</td>\n",
              "      <td>0.920268</td>\n",
              "    </tr>\n",
              "    <tr>\n",
              "      <th>M7_woe</th>\n",
              "      <td>0.004760</td>\n",
              "      <td>0.264727</td>\n",
              "      <td>0.450517</td>\n",
              "      <td>1.000000</td>\n",
              "      <td>0.296110</td>\n",
              "      <td>0.455970</td>\n",
              "      <td>0.077218</td>\n",
              "      <td>0.379149</td>\n",
              "      <td>0.176610</td>\n",
              "      <td>0.747880</td>\n",
              "      <td>0.379767</td>\n",
              "      <td>0.470690</td>\n",
              "      <td>0.633205</td>\n",
              "      <td>0.468177</td>\n",
              "      <td>0.042151</td>\n",
              "      <td>0.747880</td>\n",
              "      <td>0.381375</td>\n",
              "      <td>0.747880</td>\n",
              "      <td>0.432540</td>\n",
              "      <td>0.263695</td>\n",
              "      <td>0.059141</td>\n",
              "      <td>0.747891</td>\n",
              "      <td>0.090911</td>\n",
              "      <td>0.468625</td>\n",
              "      <td>0.429450</td>\n",
              "      <td>0.432604</td>\n",
              "      <td>0.078068</td>\n",
              "      <td>0.450528</td>\n",
              "      <td>0.456032</td>\n",
              "      <td>0.211490</td>\n",
              "      <td>0.397569</td>\n",
              "      <td>0.456515</td>\n",
              "      <td>0.434784</td>\n",
              "      <td>0.445460</td>\n",
              "      <td>0.148816</td>\n",
              "      <td>0.280601</td>\n",
              "      <td>0.452191</td>\n",
              "      <td>0.747880</td>\n",
              "      <td>0.092109</td>\n",
              "      <td>0.214255</td>\n",
              "      <td>...</td>\n",
              "      <td>0.428669</td>\n",
              "      <td>0.380830</td>\n",
              "      <td>0.968357</td>\n",
              "      <td>0.279492</td>\n",
              "      <td>0.072484</td>\n",
              "      <td>0.955562</td>\n",
              "      <td>0.418742</td>\n",
              "      <td>0.469306</td>\n",
              "      <td>0.267018</td>\n",
              "      <td>0.744205</td>\n",
              "      <td>0.262131</td>\n",
              "      <td>0.747880</td>\n",
              "      <td>0.439413</td>\n",
              "      <td>0.456871</td>\n",
              "      <td>0.102845</td>\n",
              "      <td>0.452529</td>\n",
              "      <td>0.170608</td>\n",
              "      <td>0.493861</td>\n",
              "      <td>0.468582</td>\n",
              "      <td>0.076006</td>\n",
              "      <td>0.379795</td>\n",
              "      <td>0.444350</td>\n",
              "      <td>0.214058</td>\n",
              "      <td>0.731839</td>\n",
              "      <td>0.376868</td>\n",
              "      <td>0.467801</td>\n",
              "      <td>0.117723</td>\n",
              "      <td>0.455412</td>\n",
              "      <td>0.012609</td>\n",
              "      <td>0.463383</td>\n",
              "      <td>0.370641</td>\n",
              "      <td>0.644202</td>\n",
              "      <td>0.096706</td>\n",
              "      <td>0.276350</td>\n",
              "      <td>0.450189</td>\n",
              "      <td>0.747880</td>\n",
              "      <td>0.485767</td>\n",
              "      <td>0.155429</td>\n",
              "      <td>0.726834</td>\n",
              "      <td>0.452646</td>\n",
              "    </tr>\n",
              "    <tr>\n",
              "      <th>addr1_woe</th>\n",
              "      <td>0.033834</td>\n",
              "      <td>0.099963</td>\n",
              "      <td>0.761304</td>\n",
              "      <td>0.296110</td>\n",
              "      <td>1.000000</td>\n",
              "      <td>0.674357</td>\n",
              "      <td>0.061722</td>\n",
              "      <td>0.746594</td>\n",
              "      <td>0.726468</td>\n",
              "      <td>0.369436</td>\n",
              "      <td>0.747675</td>\n",
              "      <td>0.331347</td>\n",
              "      <td>0.293449</td>\n",
              "      <td>0.703158</td>\n",
              "      <td>0.089943</td>\n",
              "      <td>0.369436</td>\n",
              "      <td>0.748602</td>\n",
              "      <td>0.369436</td>\n",
              "      <td>0.802280</td>\n",
              "      <td>0.254459</td>\n",
              "      <td>0.007857</td>\n",
              "      <td>0.369435</td>\n",
              "      <td>0.175173</td>\n",
              "      <td>0.704941</td>\n",
              "      <td>0.698680</td>\n",
              "      <td>0.802110</td>\n",
              "      <td>0.166113</td>\n",
              "      <td>0.761282</td>\n",
              "      <td>0.674331</td>\n",
              "      <td>0.188622</td>\n",
              "      <td>0.788711</td>\n",
              "      <td>0.676811</td>\n",
              "      <td>0.718138</td>\n",
              "      <td>0.808128</td>\n",
              "      <td>0.231030</td>\n",
              "      <td>0.242115</td>\n",
              "      <td>0.745261</td>\n",
              "      <td>0.369436</td>\n",
              "      <td>0.160255</td>\n",
              "      <td>0.263743</td>\n",
              "      <td>...</td>\n",
              "      <td>0.816828</td>\n",
              "      <td>0.747612</td>\n",
              "      <td>0.290087</td>\n",
              "      <td>0.240534</td>\n",
              "      <td>0.286095</td>\n",
              "      <td>0.285586</td>\n",
              "      <td>0.789126</td>\n",
              "      <td>0.544036</td>\n",
              "      <td>0.277509</td>\n",
              "      <td>0.368485</td>\n",
              "      <td>0.259409</td>\n",
              "      <td>0.369436</td>\n",
              "      <td>0.716467</td>\n",
              "      <td>0.743447</td>\n",
              "      <td>0.137095</td>\n",
              "      <td>0.263798</td>\n",
              "      <td>0.069722</td>\n",
              "      <td>0.288472</td>\n",
              "      <td>0.541559</td>\n",
              "      <td>0.145051</td>\n",
              "      <td>0.395978</td>\n",
              "      <td>0.709584</td>\n",
              "      <td>0.262979</td>\n",
              "      <td>0.364451</td>\n",
              "      <td>0.801099</td>\n",
              "      <td>0.538754</td>\n",
              "      <td>0.132468</td>\n",
              "      <td>0.671622</td>\n",
              "      <td>0.002596</td>\n",
              "      <td>0.312462</td>\n",
              "      <td>0.784850</td>\n",
              "      <td>0.323724</td>\n",
              "      <td>0.166443</td>\n",
              "      <td>0.860432</td>\n",
              "      <td>0.538967</td>\n",
              "      <td>0.369436</td>\n",
              "      <td>0.270724</td>\n",
              "      <td>0.220493</td>\n",
              "      <td>0.360147</td>\n",
              "      <td>0.746965</td>\n",
              "    </tr>\n",
              "    <tr>\n",
              "      <th>...</th>\n",
              "      <td>...</td>\n",
              "      <td>...</td>\n",
              "      <td>...</td>\n",
              "      <td>...</td>\n",
              "      <td>...</td>\n",
              "      <td>...</td>\n",
              "      <td>...</td>\n",
              "      <td>...</td>\n",
              "      <td>...</td>\n",
              "      <td>...</td>\n",
              "      <td>...</td>\n",
              "      <td>...</td>\n",
              "      <td>...</td>\n",
              "      <td>...</td>\n",
              "      <td>...</td>\n",
              "      <td>...</td>\n",
              "      <td>...</td>\n",
              "      <td>...</td>\n",
              "      <td>...</td>\n",
              "      <td>...</td>\n",
              "      <td>...</td>\n",
              "      <td>...</td>\n",
              "      <td>...</td>\n",
              "      <td>...</td>\n",
              "      <td>...</td>\n",
              "      <td>...</td>\n",
              "      <td>...</td>\n",
              "      <td>...</td>\n",
              "      <td>...</td>\n",
              "      <td>...</td>\n",
              "      <td>...</td>\n",
              "      <td>...</td>\n",
              "      <td>...</td>\n",
              "      <td>...</td>\n",
              "      <td>...</td>\n",
              "      <td>...</td>\n",
              "      <td>...</td>\n",
              "      <td>...</td>\n",
              "      <td>...</td>\n",
              "      <td>...</td>\n",
              "      <td>...</td>\n",
              "      <td>...</td>\n",
              "      <td>...</td>\n",
              "      <td>...</td>\n",
              "      <td>...</td>\n",
              "      <td>...</td>\n",
              "      <td>...</td>\n",
              "      <td>...</td>\n",
              "      <td>...</td>\n",
              "      <td>...</td>\n",
              "      <td>...</td>\n",
              "      <td>...</td>\n",
              "      <td>...</td>\n",
              "      <td>...</td>\n",
              "      <td>...</td>\n",
              "      <td>...</td>\n",
              "      <td>...</td>\n",
              "      <td>...</td>\n",
              "      <td>...</td>\n",
              "      <td>...</td>\n",
              "      <td>...</td>\n",
              "      <td>...</td>\n",
              "      <td>...</td>\n",
              "      <td>...</td>\n",
              "      <td>...</td>\n",
              "      <td>...</td>\n",
              "      <td>...</td>\n",
              "      <td>...</td>\n",
              "      <td>...</td>\n",
              "      <td>...</td>\n",
              "      <td>...</td>\n",
              "      <td>...</td>\n",
              "      <td>...</td>\n",
              "      <td>...</td>\n",
              "      <td>...</td>\n",
              "      <td>...</td>\n",
              "      <td>...</td>\n",
              "      <td>...</td>\n",
              "      <td>...</td>\n",
              "      <td>...</td>\n",
              "      <td>...</td>\n",
              "    </tr>\n",
              "    <tr>\n",
              "      <th>V7_woe</th>\n",
              "      <td>0.027450</td>\n",
              "      <td>0.337876</td>\n",
              "      <td>0.601861</td>\n",
              "      <td>0.747880</td>\n",
              "      <td>0.369436</td>\n",
              "      <td>0.574525</td>\n",
              "      <td>0.102794</td>\n",
              "      <td>0.478646</td>\n",
              "      <td>0.180096</td>\n",
              "      <td>1.000000</td>\n",
              "      <td>0.479427</td>\n",
              "      <td>0.600317</td>\n",
              "      <td>0.775094</td>\n",
              "      <td>0.589906</td>\n",
              "      <td>0.052162</td>\n",
              "      <td>1.000000</td>\n",
              "      <td>0.481460</td>\n",
              "      <td>1.000000</td>\n",
              "      <td>0.544181</td>\n",
              "      <td>0.262136</td>\n",
              "      <td>0.072883</td>\n",
              "      <td>1.000000</td>\n",
              "      <td>0.167581</td>\n",
              "      <td>0.590470</td>\n",
              "      <td>0.523477</td>\n",
              "      <td>0.544261</td>\n",
              "      <td>0.125066</td>\n",
              "      <td>0.601874</td>\n",
              "      <td>0.574603</td>\n",
              "      <td>0.302409</td>\n",
              "      <td>0.501884</td>\n",
              "      <td>0.575212</td>\n",
              "      <td>0.581836</td>\n",
              "      <td>0.561276</td>\n",
              "      <td>0.185371</td>\n",
              "      <td>0.285444</td>\n",
              "      <td>0.569764</td>\n",
              "      <td>1.000000</td>\n",
              "      <td>0.167335</td>\n",
              "      <td>0.203981</td>\n",
              "      <td>...</td>\n",
              "      <td>0.573918</td>\n",
              "      <td>0.480772</td>\n",
              "      <td>0.734130</td>\n",
              "      <td>0.284672</td>\n",
              "      <td>0.102651</td>\n",
              "      <td>0.723112</td>\n",
              "      <td>0.550107</td>\n",
              "      <td>0.591298</td>\n",
              "      <td>0.264313</td>\n",
              "      <td>0.996977</td>\n",
              "      <td>0.270073</td>\n",
              "      <td>1.000000</td>\n",
              "      <td>0.541811</td>\n",
              "      <td>0.574827</td>\n",
              "      <td>0.165832</td>\n",
              "      <td>0.676713</td>\n",
              "      <td>0.240345</td>\n",
              "      <td>0.630650</td>\n",
              "      <td>0.590386</td>\n",
              "      <td>0.137442</td>\n",
              "      <td>0.464796</td>\n",
              "      <td>0.559054</td>\n",
              "      <td>0.203721</td>\n",
              "      <td>0.932378</td>\n",
              "      <td>0.463439</td>\n",
              "      <td>0.589399</td>\n",
              "      <td>0.175474</td>\n",
              "      <td>0.573822</td>\n",
              "      <td>0.011311</td>\n",
              "      <td>0.585270</td>\n",
              "      <td>0.451323</td>\n",
              "      <td>0.874140</td>\n",
              "      <td>0.178445</td>\n",
              "      <td>0.348208</td>\n",
              "      <td>0.566030</td>\n",
              "      <td>1.000000</td>\n",
              "      <td>0.616293</td>\n",
              "      <td>0.260549</td>\n",
              "      <td>0.920780</td>\n",
              "      <td>0.570337</td>\n",
              "    </tr>\n",
              "    <tr>\n",
              "      <th>V53_woe</th>\n",
              "      <td>0.083406</td>\n",
              "      <td>0.425086</td>\n",
              "      <td>0.574436</td>\n",
              "      <td>0.485767</td>\n",
              "      <td>0.270724</td>\n",
              "      <td>0.596942</td>\n",
              "      <td>0.103234</td>\n",
              "      <td>0.433022</td>\n",
              "      <td>0.038976</td>\n",
              "      <td>0.616293</td>\n",
              "      <td>0.433762</td>\n",
              "      <td>0.723184</td>\n",
              "      <td>0.443942</td>\n",
              "      <td>0.608485</td>\n",
              "      <td>0.052771</td>\n",
              "      <td>0.616293</td>\n",
              "      <td>0.436017</td>\n",
              "      <td>0.616293</td>\n",
              "      <td>0.539296</td>\n",
              "      <td>0.245973</td>\n",
              "      <td>0.066822</td>\n",
              "      <td>0.616301</td>\n",
              "      <td>0.064473</td>\n",
              "      <td>0.608738</td>\n",
              "      <td>0.546323</td>\n",
              "      <td>0.539363</td>\n",
              "      <td>0.042004</td>\n",
              "      <td>0.574454</td>\n",
              "      <td>0.596993</td>\n",
              "      <td>0.316230</td>\n",
              "      <td>0.451075</td>\n",
              "      <td>0.597044</td>\n",
              "      <td>0.560716</td>\n",
              "      <td>0.548038</td>\n",
              "      <td>0.165932</td>\n",
              "      <td>0.287889</td>\n",
              "      <td>0.591617</td>\n",
              "      <td>0.616293</td>\n",
              "      <td>0.083405</td>\n",
              "      <td>0.152450</td>\n",
              "      <td>...</td>\n",
              "      <td>0.536847</td>\n",
              "      <td>0.435372</td>\n",
              "      <td>0.472938</td>\n",
              "      <td>0.290198</td>\n",
              "      <td>0.059532</td>\n",
              "      <td>0.465502</td>\n",
              "      <td>0.514702</td>\n",
              "      <td>0.659740</td>\n",
              "      <td>0.243496</td>\n",
              "      <td>0.613323</td>\n",
              "      <td>0.228769</td>\n",
              "      <td>0.616293</td>\n",
              "      <td>0.560988</td>\n",
              "      <td>0.579803</td>\n",
              "      <td>0.108762</td>\n",
              "      <td>0.380875</td>\n",
              "      <td>0.279880</td>\n",
              "      <td>0.965008</td>\n",
              "      <td>0.658930</td>\n",
              "      <td>0.049218</td>\n",
              "      <td>0.515509</td>\n",
              "      <td>0.569016</td>\n",
              "      <td>0.152163</td>\n",
              "      <td>0.587151</td>\n",
              "      <td>0.408169</td>\n",
              "      <td>0.658019</td>\n",
              "      <td>0.174367</td>\n",
              "      <td>0.596837</td>\n",
              "      <td>0.075857</td>\n",
              "      <td>0.734784</td>\n",
              "      <td>0.399617</td>\n",
              "      <td>0.479422</td>\n",
              "      <td>0.085317</td>\n",
              "      <td>0.253623</td>\n",
              "      <td>0.613003</td>\n",
              "      <td>0.616293</td>\n",
              "      <td>1.000000</td>\n",
              "      <td>0.204033</td>\n",
              "      <td>0.580998</td>\n",
              "      <td>0.591895</td>\n",
              "    </tr>\n",
              "    <tr>\n",
              "      <th>D15_woe</th>\n",
              "      <td>0.065763</td>\n",
              "      <td>0.258980</td>\n",
              "      <td>0.368538</td>\n",
              "      <td>0.155429</td>\n",
              "      <td>0.220493</td>\n",
              "      <td>0.358662</td>\n",
              "      <td>0.392544</td>\n",
              "      <td>0.274987</td>\n",
              "      <td>0.150669</td>\n",
              "      <td>0.260549</td>\n",
              "      <td>0.275235</td>\n",
              "      <td>0.154121</td>\n",
              "      <td>0.251420</td>\n",
              "      <td>0.366459</td>\n",
              "      <td>0.347258</td>\n",
              "      <td>0.260549</td>\n",
              "      <td>0.275721</td>\n",
              "      <td>0.260549</td>\n",
              "      <td>0.352815</td>\n",
              "      <td>0.256193</td>\n",
              "      <td>0.278268</td>\n",
              "      <td>0.260517</td>\n",
              "      <td>0.643703</td>\n",
              "      <td>0.366849</td>\n",
              "      <td>0.374088</td>\n",
              "      <td>0.352830</td>\n",
              "      <td>0.649432</td>\n",
              "      <td>0.368552</td>\n",
              "      <td>0.359069</td>\n",
              "      <td>0.230528</td>\n",
              "      <td>0.289143</td>\n",
              "      <td>0.358911</td>\n",
              "      <td>0.355040</td>\n",
              "      <td>0.342082</td>\n",
              "      <td>0.105186</td>\n",
              "      <td>0.270375</td>\n",
              "      <td>0.370234</td>\n",
              "      <td>0.260549</td>\n",
              "      <td>0.583824</td>\n",
              "      <td>0.203513</td>\n",
              "      <td>...</td>\n",
              "      <td>0.383194</td>\n",
              "      <td>0.275524</td>\n",
              "      <td>0.159763</td>\n",
              "      <td>0.270156</td>\n",
              "      <td>0.109137</td>\n",
              "      <td>0.154836</td>\n",
              "      <td>0.394805</td>\n",
              "      <td>0.379677</td>\n",
              "      <td>0.274031</td>\n",
              "      <td>0.263896</td>\n",
              "      <td>0.264514</td>\n",
              "      <td>0.260549</td>\n",
              "      <td>0.373254</td>\n",
              "      <td>0.349091</td>\n",
              "      <td>0.430070</td>\n",
              "      <td>0.323605</td>\n",
              "      <td>0.167847</td>\n",
              "      <td>0.217698</td>\n",
              "      <td>0.379439</td>\n",
              "      <td>0.545844</td>\n",
              "      <td>0.005338</td>\n",
              "      <td>0.341894</td>\n",
              "      <td>0.202282</td>\n",
              "      <td>0.234643</td>\n",
              "      <td>0.294669</td>\n",
              "      <td>0.378922</td>\n",
              "      <td>0.389370</td>\n",
              "      <td>0.358836</td>\n",
              "      <td>0.067492</td>\n",
              "      <td>0.141171</td>\n",
              "      <td>0.297794</td>\n",
              "      <td>0.475561</td>\n",
              "      <td>0.673502</td>\n",
              "      <td>0.199330</td>\n",
              "      <td>0.375307</td>\n",
              "      <td>0.260549</td>\n",
              "      <td>0.204033</td>\n",
              "      <td>1.000000</td>\n",
              "      <td>0.232117</td>\n",
              "      <td>0.370630</td>\n",
              "    </tr>\n",
              "    <tr>\n",
              "      <th>M3_woe</th>\n",
              "      <td>0.017026</td>\n",
              "      <td>0.333848</td>\n",
              "      <td>0.551237</td>\n",
              "      <td>0.726834</td>\n",
              "      <td>0.360147</td>\n",
              "      <td>0.559425</td>\n",
              "      <td>0.090490</td>\n",
              "      <td>0.443807</td>\n",
              "      <td>0.174765</td>\n",
              "      <td>0.920780</td>\n",
              "      <td>0.444521</td>\n",
              "      <td>0.563629</td>\n",
              "      <td>0.713731</td>\n",
              "      <td>0.574401</td>\n",
              "      <td>0.039774</td>\n",
              "      <td>0.920780</td>\n",
              "      <td>0.446334</td>\n",
              "      <td>0.920780</td>\n",
              "      <td>0.529822</td>\n",
              "      <td>0.245476</td>\n",
              "      <td>0.048075</td>\n",
              "      <td>0.920773</td>\n",
              "      <td>0.153488</td>\n",
              "      <td>0.574950</td>\n",
              "      <td>0.511161</td>\n",
              "      <td>0.529900</td>\n",
              "      <td>0.109559</td>\n",
              "      <td>0.551250</td>\n",
              "      <td>0.559501</td>\n",
              "      <td>0.262806</td>\n",
              "      <td>0.465752</td>\n",
              "      <td>0.560094</td>\n",
              "      <td>0.531944</td>\n",
              "      <td>0.546509</td>\n",
              "      <td>0.169512</td>\n",
              "      <td>0.267101</td>\n",
              "      <td>0.554789</td>\n",
              "      <td>0.920780</td>\n",
              "      <td>0.156809</td>\n",
              "      <td>0.186132</td>\n",
              "      <td>...</td>\n",
              "      <td>0.524451</td>\n",
              "      <td>0.445704</td>\n",
              "      <td>0.720121</td>\n",
              "      <td>0.266307</td>\n",
              "      <td>0.094428</td>\n",
              "      <td>0.721291</td>\n",
              "      <td>0.502565</td>\n",
              "      <td>0.575739</td>\n",
              "      <td>0.254373</td>\n",
              "      <td>0.918855</td>\n",
              "      <td>0.242707</td>\n",
              "      <td>0.920780</td>\n",
              "      <td>0.528938</td>\n",
              "      <td>0.559661</td>\n",
              "      <td>0.161475</td>\n",
              "      <td>0.683301</td>\n",
              "      <td>0.204827</td>\n",
              "      <td>0.593435</td>\n",
              "      <td>0.574851</td>\n",
              "      <td>0.128699</td>\n",
              "      <td>0.435343</td>\n",
              "      <td>0.544303</td>\n",
              "      <td>0.185816</td>\n",
              "      <td>0.968691</td>\n",
              "      <td>0.429514</td>\n",
              "      <td>0.573891</td>\n",
              "      <td>0.174414</td>\n",
              "      <td>0.558741</td>\n",
              "      <td>0.000365</td>\n",
              "      <td>0.550640</td>\n",
              "      <td>0.417896</td>\n",
              "      <td>0.821712</td>\n",
              "      <td>0.163688</td>\n",
              "      <td>0.339089</td>\n",
              "      <td>0.553686</td>\n",
              "      <td>0.920780</td>\n",
              "      <td>0.580998</td>\n",
              "      <td>0.232117</td>\n",
              "      <td>1.000000</td>\n",
              "      <td>0.555347</td>\n",
              "    </tr>\n",
              "    <tr>\n",
              "      <th>V58_woe</th>\n",
              "      <td>0.073538</td>\n",
              "      <td>0.458712</td>\n",
              "      <td>0.920268</td>\n",
              "      <td>0.452646</td>\n",
              "      <td>0.746965</td>\n",
              "      <td>0.904905</td>\n",
              "      <td>0.155165</td>\n",
              "      <td>0.794429</td>\n",
              "      <td>0.490785</td>\n",
              "      <td>0.570337</td>\n",
              "      <td>0.795689</td>\n",
              "      <td>0.568164</td>\n",
              "      <td>0.442079</td>\n",
              "      <td>0.957609</td>\n",
              "      <td>0.030746</td>\n",
              "      <td>0.570337</td>\n",
              "      <td>0.797911</td>\n",
              "      <td>0.570337</td>\n",
              "      <td>0.962886</td>\n",
              "      <td>0.386262</td>\n",
              "      <td>0.102802</td>\n",
              "      <td>0.570337</td>\n",
              "      <td>0.279870</td>\n",
              "      <td>0.959066</td>\n",
              "      <td>0.944463</td>\n",
              "      <td>0.963048</td>\n",
              "      <td>0.206154</td>\n",
              "      <td>0.920262</td>\n",
              "      <td>0.904347</td>\n",
              "      <td>0.371597</td>\n",
              "      <td>0.844032</td>\n",
              "      <td>0.906021</td>\n",
              "      <td>0.872371</td>\n",
              "      <td>0.921451</td>\n",
              "      <td>0.278293</td>\n",
              "      <td>0.411647</td>\n",
              "      <td>0.998572</td>\n",
              "      <td>0.570337</td>\n",
              "      <td>0.264865</td>\n",
              "      <td>0.315981</td>\n",
              "      <td>...</td>\n",
              "      <td>0.941641</td>\n",
              "      <td>0.796769</td>\n",
              "      <td>0.443815</td>\n",
              "      <td>0.410439</td>\n",
              "      <td>0.227204</td>\n",
              "      <td>0.436216</td>\n",
              "      <td>0.913144</td>\n",
              "      <td>0.876810</td>\n",
              "      <td>0.411143</td>\n",
              "      <td>0.568613</td>\n",
              "      <td>0.377671</td>\n",
              "      <td>0.570337</td>\n",
              "      <td>0.965472</td>\n",
              "      <td>0.940499</td>\n",
              "      <td>0.241159</td>\n",
              "      <td>0.404352</td>\n",
              "      <td>0.256973</td>\n",
              "      <td>0.610343</td>\n",
              "      <td>0.875097</td>\n",
              "      <td>0.224097</td>\n",
              "      <td>0.439035</td>\n",
              "      <td>0.888383</td>\n",
              "      <td>0.315171</td>\n",
              "      <td>0.562384</td>\n",
              "      <td>0.832058</td>\n",
              "      <td>0.873185</td>\n",
              "      <td>0.256080</td>\n",
              "      <td>0.903048</td>\n",
              "      <td>0.047967</td>\n",
              "      <td>0.550813</td>\n",
              "      <td>0.816358</td>\n",
              "      <td>0.498558</td>\n",
              "      <td>0.292768</td>\n",
              "      <td>0.711195</td>\n",
              "      <td>0.828244</td>\n",
              "      <td>0.570337</td>\n",
              "      <td>0.591895</td>\n",
              "      <td>0.370630</td>\n",
              "      <td>0.555347</td>\n",
              "      <td>1.000000</td>\n",
              "    </tr>\n",
              "  </tbody>\n",
              "</table>\n",
              "<p>104 rows × 104 columns</p>\n",
              "</div>"
            ],
            "text/plain": [
              "           V308_woe   V56_woe   V92_woe  ...   D15_woe    M3_woe   V58_woe\n",
              "V308_woe   1.000000  0.164795  0.057348  ...  0.065763  0.017026  0.073538\n",
              "V56_woe    0.164795  1.000000  0.389751  ...  0.258980  0.333848  0.458712\n",
              "V92_woe    0.057348  0.389751  1.000000  ...  0.368538  0.551237  0.920268\n",
              "M7_woe     0.004760  0.264727  0.450517  ...  0.155429  0.726834  0.452646\n",
              "addr1_woe  0.033834  0.099963  0.761304  ...  0.220493  0.360147  0.746965\n",
              "...             ...       ...       ...  ...       ...       ...       ...\n",
              "V7_woe     0.027450  0.337876  0.601861  ...  0.260549  0.920780  0.570337\n",
              "V53_woe    0.083406  0.425086  0.574436  ...  0.204033  0.580998  0.591895\n",
              "D15_woe    0.065763  0.258980  0.368538  ...  1.000000  0.232117  0.370630\n",
              "M3_woe     0.017026  0.333848  0.551237  ...  0.232117  1.000000  0.555347\n",
              "V58_woe    0.073538  0.458712  0.920268  ...  0.370630  0.555347  1.000000\n",
              "\n",
              "[104 rows x 104 columns]"
            ]
          },
          "metadata": {
            "tags": []
          },
          "execution_count": 96
        }
      ]
    },
    {
      "cell_type": "code",
      "metadata": {
        "id": "RkPROZN7KPpP",
        "colab_type": "code",
        "colab": {}
      },
      "source": [
        "c.to_csv('/content/drive/My Drive/Colab Notebooks/correlation.csv')"
      ],
      "execution_count": 0,
      "outputs": []
    },
    {
      "cell_type": "code",
      "metadata": {
        "id": "tnIJbjgEKh4Y",
        "colab_type": "code",
        "outputId": "38628471-acc1-4f08-d83b-005599476372",
        "colab": {
          "base_uri": "https://localhost:8080/",
          "height": 221
        }
      },
      "source": [
        "s = c.unstack()\n",
        "so = s.sort_values(kind=\"quicksort\")\n",
        "so"
      ],
      "execution_count": 0,
      "outputs": [
        {
          "output_type": "execute_result",
          "data": {
            "text/plain": [
              "V36_woe   D3_woe      0.000205\n",
              "D3_woe    V36_woe     0.000205\n",
              "V280_woe  M3_woe      0.000365\n",
              "M3_woe    V280_woe    0.000365\n",
              "V76_woe   C2_woe      0.000782\n",
              "                        ...   \n",
              "V17_woe   V17_woe     1.000000\n",
              "V3_woe    V7_woe      1.000000\n",
              "          V8_woe      1.000000\n",
              "D15_woe   D15_woe     1.000000\n",
              "V58_woe   V58_woe     1.000000\n",
              "Length: 10816, dtype: float64"
            ]
          },
          "metadata": {
            "tags": []
          },
          "execution_count": 99
        }
      ]
    },
    {
      "cell_type": "code",
      "metadata": {
        "id": "hUGQJTc3K41D",
        "colab_type": "code",
        "outputId": "3fef437e-4df7-449a-9dfe-527c346464e8",
        "colab": {
          "base_uri": "https://localhost:8080/",
          "height": 330
        }
      },
      "source": [
        "sn.heatmap(c)"
      ],
      "execution_count": 0,
      "outputs": [
        {
          "output_type": "execute_result",
          "data": {
            "text/plain": [
              "<matplotlib.axes._subplots.AxesSubplot at 0x7fb3f0365a58>"
            ]
          },
          "metadata": {
            "tags": []
          },
          "execution_count": 100
        },
        {
          "output_type": "display_data",
          "data": {
            "image/png": "[encoded data removed]",
            "text/plain": [
              "<Figure size 432x288 with 2 Axes>"
            ]
          },
          "metadata": {
            "tags": []
          }
        }
      ]
    },
    {
      "cell_type": "code",
      "metadata": {
        "id": "hzmj9LtTLcDu",
        "colab_type": "code",
        "outputId": "e1a2a403-30b3-41f8-8def-b402316bf148",
        "colab": {
          "base_uri": "https://localhost:8080/",
          "height": 156
        }
      },
      "source": [
        "from sklearn.linear_model import LogisticRegression\n",
        "lr = LogisticRegression(penalty='l1', C=0.9, solver='saga', n_jobs=-1)\n",
        "lr.fit(df_woe[:280_000], df.isFraud[:280000])"
      ],
      "execution_count": 0,
      "outputs": [
        {
          "output_type": "stream",
          "text": [
            "/usr/local/lib/python3.6/dist-packages/sklearn/linear_model/sag.py:337: ConvergenceWarning: The max_iter was reached which means the coef_ did not converge\n",
            "  \"the coef_ did not converge\", ConvergenceWarning)\n"
          ],
          "name": "stderr"
        },
        {
          "output_type": "execute_result",
          "data": {
            "text/plain": [
              "LogisticRegression(C=0.9, class_weight=None, dual=False, fit_intercept=True,\n",
              "                   intercept_scaling=1, l1_ratio=None, max_iter=100,\n",
              "                   multi_class='warn', n_jobs=-1, penalty='l1',\n",
              "                   random_state=None, solver='saga', tol=0.0001, verbose=0,\n",
              "                   warm_start=False)"
            ]
          },
          "metadata": {
            "tags": []
          },
          "execution_count": 119
        }
      ]
    },
    {
      "cell_type": "code",
      "metadata": {
        "id": "-nhVXIGcLu8j",
        "colab_type": "code",
        "colab": {}
      },
      "source": [
        "train_pred = lr.predict_proba(df_woe[280000:])[:,1]\n"
      ],
      "execution_count": 0,
      "outputs": []
    },
    {
      "cell_type": "code",
      "metadata": {
        "id": "UJh29HvKL4VO",
        "colab_type": "code",
        "colab": {}
      },
      "source": [
        "from sklearn.metrics import roc_auc_score, confusion_matrix\n",
        "\n",
        "auc = roc_auc_score(df.isFraud[280000:], train_pred)\n",
        "#conf = confusion_matrix(df.isFraud, np.where(train_pred > 0.5,1,0) )"
      ],
      "execution_count": 0,
      "outputs": []
    },
    {
      "cell_type": "code",
      "metadata": {
        "id": "NQVsogfWMVWE",
        "colab_type": "code",
        "outputId": "c51b3121-42f0-43cc-9dba-8bd773d9bbed",
        "colab": {
          "base_uri": "https://localhost:8080/",
          "height": 34
        }
      },
      "source": [
        "auc"
      ],
      "execution_count": 0,
      "outputs": [
        {
          "output_type": "execute_result",
          "data": {
            "text/plain": [
              "0.8337943274718083"
            ]
          },
          "metadata": {
            "tags": []
          },
          "execution_count": 123
        }
      ]
    },
    {
      "cell_type": "code",
      "metadata": {
        "id": "EOJqk2j1MWb_",
        "colab_type": "code",
        "outputId": "4356b792-ceff-4a0c-c1a4-0403d1f266a2",
        "colab": {
          "base_uri": "https://localhost:8080/",
          "height": 51
        }
      },
      "source": [
        "conf"
      ],
      "execution_count": 0,
      "outputs": [
        {
          "output_type": "execute_result",
          "data": {
            "text/plain": [
              "array([[568900,    977],\n",
              "       [ 17209,   3454]])"
            ]
          },
          "metadata": {
            "tags": []
          },
          "execution_count": 108
        }
      ]
    },
    {
      "cell_type": "code",
      "metadata": {
        "id": "YqBC8YydMy_v",
        "colab_type": "code",
        "outputId": "ac189036-fe8e-4951-e152-c6f34aaf9fcd",
        "colab": {
          "base_uri": "https://localhost:8080/",
          "height": 51
        }
      },
      "source": [
        "conf = confusion_matrix(df.isFraud, np.where(train_pred > 0.75,1,0) )\n",
        "conf"
      ],
      "execution_count": 0,
      "outputs": [
        {
          "output_type": "execute_result",
          "data": {
            "text/plain": [
              "array([[569784,     93],\n",
              "       [ 19773,    890]])"
            ]
          },
          "metadata": {
            "tags": []
          },
          "execution_count": 111
        }
      ]
    },
    {
      "cell_type": "code",
      "metadata": {
        "id": "mlWJWPrXM4G4",
        "colab_type": "code",
        "colab": {}
      },
      "source": [
        "from sklearn.metrics import precision_recall_curve\n",
        "p, r, th = precision_recall_curve(df.isFraud, train_pred)"
      ],
      "execution_count": 0,
      "outputs": []
    },
    {
      "cell_type": "code",
      "metadata": {
        "id": "2sA5I25iNLs9",
        "colab_type": "code",
        "outputId": "2f603a1c-5c68-4185-c274-7c4706c11bb7",
        "colab": {
          "base_uri": "https://localhost:8080/",
          "height": 282
        }
      },
      "source": [
        "plot(r, p)"
      ],
      "execution_count": 0,
      "outputs": [
        {
          "output_type": "execute_result",
          "data": {
            "text/plain": [
              "[<matplotlib.lines.Line2D at 0x7fb3dafa12e8>]"
            ]
          },
          "metadata": {
            "tags": []
          },
          "execution_count": 116
        },
        {
          "output_type": "display_data",
          "data": {
            "image/png": "[encoded data removed]",
            "text/plain": [
              "<Figure size 432x288 with 1 Axes>"
            ]
          },
          "metadata": {
            "tags": []
          }
        }
      ]
    },
    {
      "cell_type": "code",
      "metadata": {
        "id": "rOh4Jkkq7nmC",
        "colab_type": "code",
        "outputId": "7f7fe7de-6eca-4d5d-882f-51a4469c71f1",
        "colab": {
          "base_uri": "https://localhost:8080/",
          "height": 428
        }
      },
      "source": [
        "!pip install scorecardpy"
      ],
      "execution_count": 6,
      "outputs": [
        {
          "output_type": "stream",
          "text": [
            "Collecting scorecardpy\n",
            "\u001b[?25l  Downloading https://files.pythonhosted.org/packages/b3/fd/be6c15335e537d2360f85823cbb0b1c02cdd2ed9ff52539db78545db7115/scorecardpy-0.1.9.1.1.tar.gz (55kB)\n",
            "\r\u001b[K     |██████                          | 10kB 19.6MB/s eta 0:00:01\r\u001b[K     |███████████▉                    | 20kB 3.2MB/s eta 0:00:01\r\u001b[K     |█████████████████▉              | 30kB 4.6MB/s eta 0:00:01\r\u001b[K     |███████████████████████▊        | 40kB 3.0MB/s eta 0:00:01\r\u001b[K     |█████████████████████████████▋  | 51kB 3.6MB/s eta 0:00:01\r\u001b[K     |████████████████████████████████| 61kB 2.9MB/s \n",
            "\u001b[?25hRequirement already satisfied: numpy in /usr/local/lib/python3.6/dist-packages (from scorecardpy) (1.17.4)\n",
            "Requirement already satisfied: pandas>=0.25.0 in /usr/local/lib/python3.6/dist-packages (from scorecardpy) (0.25.3)\n",
            "Requirement already satisfied: matplotlib in /usr/local/lib/python3.6/dist-packages (from scorecardpy) (3.1.2)\n",
            "Requirement already satisfied: scikit-learn>=0.19.1 in /usr/local/lib/python3.6/dist-packages (from scorecardpy) (0.21.3)\n",
            "Requirement already satisfied: pytz>=2017.2 in /usr/local/lib/python3.6/dist-packages (from pandas>=0.25.0->scorecardpy) (2018.9)\n",
            "Requirement already satisfied: python-dateutil>=2.6.1 in /usr/local/lib/python3.6/dist-packages (from pandas>=0.25.0->scorecardpy) (2.6.1)\n",
            "Requirement already satisfied: kiwisolver>=1.0.1 in /usr/local/lib/python3.6/dist-packages (from matplotlib->scorecardpy) (1.1.0)\n",
            "Requirement already satisfied: cycler>=0.10 in /usr/local/lib/python3.6/dist-packages (from matplotlib->scorecardpy) (0.10.0)\n",
            "Requirement already satisfied: pyparsing!=2.0.4,!=2.1.2,!=2.1.6,>=2.0.1 in /usr/local/lib/python3.6/dist-packages (from matplotlib->scorecardpy) (2.4.5)\n",
            "Requirement already satisfied: joblib>=0.11 in /usr/local/lib/python3.6/dist-packages (from scikit-learn>=0.19.1->scorecardpy) (0.14.1)\n",
            "Requirement already satisfied: scipy>=0.17.0 in /usr/local/lib/python3.6/dist-packages (from scikit-learn>=0.19.1->scorecardpy) (1.3.3)\n",
            "Requirement already satisfied: six>=1.5 in /usr/local/lib/python3.6/dist-packages (from python-dateutil>=2.6.1->pandas>=0.25.0->scorecardpy) (1.12.0)\n",
            "Requirement already satisfied: setuptools in /usr/local/lib/python3.6/dist-packages (from kiwisolver>=1.0.1->matplotlib->scorecardpy) (42.0.2)\n",
            "Building wheels for collected packages: scorecardpy\n",
            "  Building wheel for scorecardpy (setup.py) ... \u001b[?25l\u001b[?25hdone\n",
            "  Created wheel for scorecardpy: filename=scorecardpy-0.1.9.1.1-cp36-none-any.whl size=58169 sha256=827b8c47100d9534d7c5cb18e41592d01c696935504e38879c4df1f20ec1c3f2\n",
            "  Stored in directory: /root/.cache/pip/wheels/8f/4c/98/567ff70984acd88ffae211d8fc209e34b98fb43ff27f09fdd3\n",
            "Successfully built scorecardpy\n",
            "Installing collected packages: scorecardpy\n",
            "Successfully installed scorecardpy-0.1.9.1.1\n"
          ],
          "name": "stdout"
        }
      ]
    },
    {
      "cell_type": "code",
      "metadata": {
        "id": "CeR_8FsVP3IE",
        "colab_type": "code",
        "outputId": "f1d8eb36-b19e-4c8c-f7df-15cff501038c",
        "colab": {
          "base_uri": "https://localhost:8080/",
          "height": 34
        }
      },
      "source": [
        "# start here after \n",
        "df = pd.read_csv('/content/drive/My Drive/Colab Notebooks/train_transaction.csv')\n",
        "ivs = pd.read_csv('/content/drive/My Drive/Colab Notebooks/info_values_binning.csv')\n",
        "\n",
        "df_to_woe = df[ivs[ivs.iv > 0.1]['var']]\n",
        "shape(df_to_woe)"
      ],
      "execution_count": 3,
      "outputs": [
        {
          "output_type": "execute_result",
          "data": {
            "text/plain": [
              "(590540, 104)"
            ]
          },
          "metadata": {
            "tags": []
          },
          "execution_count": 3
        }
      ]
    },
    {
      "cell_type": "code",
      "metadata": {
        "id": "hJzniI_W62Kc",
        "colab_type": "code",
        "colab": {}
      },
      "source": [
        "import pickle\n",
        "infile = open('/content/drive/My Drive/Colab Notebooks/bins.pkl','rb')\n",
        "bins = pickle.load(infile)\n",
        "infile.close()"
      ],
      "execution_count": 0,
      "outputs": []
    },
    {
      "cell_type": "code",
      "metadata": {
        "id": "2Vch7QVi7UDm",
        "colab_type": "code",
        "outputId": "05b6dea5-d9df-4877-8746-742c24d01af2",
        "colab": {
          "base_uri": "https://localhost:8080/",
          "height": 51
        }
      },
      "source": [
        "# here starts\n",
        "import scorecardpy as sc\n",
        "df_woe = sc.woebin_ply(df_to_woe, bins)"
      ],
      "execution_count": 7,
      "outputs": [
        {
          "output_type": "stream",
          "text": [
            "[INFO] converting into woe values ...\n",
            "Woe transformating on 590540 rows and 104 columns in 00:02:40\n"
          ],
          "name": "stdout"
        }
      ]
    },
    {
      "cell_type": "markdown",
      "metadata": {
        "id": "Firt_mEQ72km",
        "colab_type": "text"
      },
      "source": [
        "Correlation map\n",
        "### \n",
        "\n",
        "\n"
      ]
    },
    {
      "cell_type": "code",
      "metadata": {
        "id": "vfV5-xFf7f_W",
        "colab_type": "code",
        "colab": {}
      },
      "source": [
        "c = df_woe.corr().abs()"
      ],
      "execution_count": 0,
      "outputs": []
    },
    {
      "cell_type": "code",
      "metadata": {
        "id": "KN75At6l--c_",
        "colab_type": "code",
        "colab": {}
      },
      "source": [
        "adj_mat = pd.DataFrame(np.where(c > 0.5, 1, 0))"
      ],
      "execution_count": 0,
      "outputs": []
    },
    {
      "cell_type": "code",
      "metadata": {
        "id": "j_lW1M9o-pYi",
        "colab_type": "code",
        "colab": {}
      },
      "source": [
        "adj_mat.columns = c.columns"
      ],
      "execution_count": 0,
      "outputs": []
    },
    {
      "cell_type": "code",
      "metadata": {
        "id": "cf-N6Qen9Cf3",
        "colab_type": "code",
        "colab": {}
      },
      "source": [
        "adj_mat.index = c.columns"
      ],
      "execution_count": 0,
      "outputs": []
    },
    {
      "cell_type": "code",
      "metadata": {
        "id": "ZGAUbozHAaF6",
        "colab_type": "code",
        "outputId": "0430bd67-1af6-4936-9255-372722c119ad",
        "colab": {
          "base_uri": "https://localhost:8080/",
          "height": 439
        }
      },
      "source": [
        "adj_mat"
      ],
      "execution_count": 19,
      "outputs": [
        {
          "output_type": "execute_result",
          "data": {
            "text/html": [
              "<div>\n",
              "<style scoped>\n",
              "    .dataframe tbody tr th:only-of-type {\n",
              "        vertical-align: middle;\n",
              "    }\n",
              "\n",
              "    .dataframe tbody tr th {\n",
              "        vertical-align: top;\n",
              "    }\n",
              "\n",
              "    .dataframe thead th {\n",
              "        text-align: right;\n",
              "    }\n",
              "</style>\n",
              "<table border=\"1\" class=\"dataframe\">\n",
              "  <thead>\n",
              "    <tr style=\"text-align: right;\">\n",
              "      <th></th>\n",
              "      <th>V283_woe</th>\n",
              "      <th>V93_woe</th>\n",
              "      <th>V43_woe</th>\n",
              "      <th>V34_woe</th>\n",
              "      <th>V302_woe</th>\n",
              "      <th>V280_woe</th>\n",
              "      <th>V56_woe</th>\n",
              "      <th>V58_woe</th>\n",
              "      <th>V15_woe</th>\n",
              "      <th>V2_woe</th>\n",
              "      <th>V38_woe</th>\n",
              "      <th>V4_woe</th>\n",
              "      <th>V76_woe</th>\n",
              "      <th>addr2_woe</th>\n",
              "      <th>V3_woe</th>\n",
              "      <th>V48_woe</th>\n",
              "      <th>V30_woe</th>\n",
              "      <th>V22_woe</th>\n",
              "      <th>V51_woe</th>\n",
              "      <th>V71_woe</th>\n",
              "      <th>V303_woe</th>\n",
              "      <th>card3_woe</th>\n",
              "      <th>V36_woe</th>\n",
              "      <th>P_emaildomain_woe</th>\n",
              "      <th>M7_woe</th>\n",
              "      <th>V9_woe</th>\n",
              "      <th>V33_woe</th>\n",
              "      <th>V50_woe</th>\n",
              "      <th>V79_woe</th>\n",
              "      <th>V32_woe</th>\n",
              "      <th>V57_woe</th>\n",
              "      <th>D2_woe</th>\n",
              "      <th>C14_woe</th>\n",
              "      <th>V53_woe</th>\n",
              "      <th>V74_woe</th>\n",
              "      <th>M9_woe</th>\n",
              "      <th>V63_woe</th>\n",
              "      <th>V11_woe</th>\n",
              "      <th>V5_woe</th>\n",
              "      <th>V6_woe</th>\n",
              "      <th>...</th>\n",
              "      <th>V54_woe</th>\n",
              "      <th>V80_woe</th>\n",
              "      <th>C13_woe</th>\n",
              "      <th>C1_woe</th>\n",
              "      <th>C11_woe</th>\n",
              "      <th>V18_woe</th>\n",
              "      <th>V21_woe</th>\n",
              "      <th>card5_woe</th>\n",
              "      <th>V85_woe</th>\n",
              "      <th>V39_woe</th>\n",
              "      <th>D3_woe</th>\n",
              "      <th>V31_woe</th>\n",
              "      <th>V91_woe</th>\n",
              "      <th>V73_woe</th>\n",
              "      <th>M2_woe</th>\n",
              "      <th>ProductCD_woe</th>\n",
              "      <th>V90_woe</th>\n",
              "      <th>V45_woe</th>\n",
              "      <th>V304_woe</th>\n",
              "      <th>V12_woe</th>\n",
              "      <th>C2_woe</th>\n",
              "      <th>V60_woe</th>\n",
              "      <th>M8_woe</th>\n",
              "      <th>V40_woe</th>\n",
              "      <th>D1_woe</th>\n",
              "      <th>M1_woe</th>\n",
              "      <th>V8_woe</th>\n",
              "      <th>V29_woe</th>\n",
              "      <th>C9_woe</th>\n",
              "      <th>V92_woe</th>\n",
              "      <th>C5_woe</th>\n",
              "      <th>card6_woe</th>\n",
              "      <th>V84_woe</th>\n",
              "      <th>M3_woe</th>\n",
              "      <th>V69_woe</th>\n",
              "      <th>M6_woe</th>\n",
              "      <th>V7_woe</th>\n",
              "      <th>V75_woe</th>\n",
              "      <th>V49_woe</th>\n",
              "      <th>V17_woe</th>\n",
              "    </tr>\n",
              "  </thead>\n",
              "  <tbody>\n",
              "    <tr>\n",
              "      <th>V283_woe</th>\n",
              "      <td>1</td>\n",
              "      <td>0</td>\n",
              "      <td>0</td>\n",
              "      <td>0</td>\n",
              "      <td>0</td>\n",
              "      <td>0</td>\n",
              "      <td>0</td>\n",
              "      <td>0</td>\n",
              "      <td>0</td>\n",
              "      <td>0</td>\n",
              "      <td>0</td>\n",
              "      <td>0</td>\n",
              "      <td>0</td>\n",
              "      <td>0</td>\n",
              "      <td>0</td>\n",
              "      <td>0</td>\n",
              "      <td>0</td>\n",
              "      <td>0</td>\n",
              "      <td>0</td>\n",
              "      <td>0</td>\n",
              "      <td>0</td>\n",
              "      <td>0</td>\n",
              "      <td>0</td>\n",
              "      <td>0</td>\n",
              "      <td>0</td>\n",
              "      <td>0</td>\n",
              "      <td>0</td>\n",
              "      <td>0</td>\n",
              "      <td>0</td>\n",
              "      <td>0</td>\n",
              "      <td>0</td>\n",
              "      <td>1</td>\n",
              "      <td>0</td>\n",
              "      <td>0</td>\n",
              "      <td>0</td>\n",
              "      <td>0</td>\n",
              "      <td>0</td>\n",
              "      <td>0</td>\n",
              "      <td>0</td>\n",
              "      <td>0</td>\n",
              "      <td>...</td>\n",
              "      <td>0</td>\n",
              "      <td>0</td>\n",
              "      <td>0</td>\n",
              "      <td>0</td>\n",
              "      <td>0</td>\n",
              "      <td>0</td>\n",
              "      <td>0</td>\n",
              "      <td>0</td>\n",
              "      <td>0</td>\n",
              "      <td>0</td>\n",
              "      <td>1</td>\n",
              "      <td>0</td>\n",
              "      <td>0</td>\n",
              "      <td>0</td>\n",
              "      <td>0</td>\n",
              "      <td>0</td>\n",
              "      <td>0</td>\n",
              "      <td>0</td>\n",
              "      <td>0</td>\n",
              "      <td>0</td>\n",
              "      <td>0</td>\n",
              "      <td>0</td>\n",
              "      <td>0</td>\n",
              "      <td>0</td>\n",
              "      <td>1</td>\n",
              "      <td>0</td>\n",
              "      <td>0</td>\n",
              "      <td>0</td>\n",
              "      <td>0</td>\n",
              "      <td>0</td>\n",
              "      <td>0</td>\n",
              "      <td>0</td>\n",
              "      <td>0</td>\n",
              "      <td>0</td>\n",
              "      <td>0</td>\n",
              "      <td>0</td>\n",
              "      <td>0</td>\n",
              "      <td>0</td>\n",
              "      <td>0</td>\n",
              "      <td>0</td>\n",
              "    </tr>\n",
              "    <tr>\n",
              "      <th>V93_woe</th>\n",
              "      <td>0</td>\n",
              "      <td>1</td>\n",
              "      <td>1</td>\n",
              "      <td>1</td>\n",
              "      <td>1</td>\n",
              "      <td>0</td>\n",
              "      <td>0</td>\n",
              "      <td>1</td>\n",
              "      <td>1</td>\n",
              "      <td>1</td>\n",
              "      <td>0</td>\n",
              "      <td>1</td>\n",
              "      <td>1</td>\n",
              "      <td>1</td>\n",
              "      <td>1</td>\n",
              "      <td>0</td>\n",
              "      <td>0</td>\n",
              "      <td>1</td>\n",
              "      <td>1</td>\n",
              "      <td>1</td>\n",
              "      <td>1</td>\n",
              "      <td>1</td>\n",
              "      <td>0</td>\n",
              "      <td>0</td>\n",
              "      <td>0</td>\n",
              "      <td>1</td>\n",
              "      <td>1</td>\n",
              "      <td>1</td>\n",
              "      <td>1</td>\n",
              "      <td>1</td>\n",
              "      <td>1</td>\n",
              "      <td>0</td>\n",
              "      <td>0</td>\n",
              "      <td>1</td>\n",
              "      <td>1</td>\n",
              "      <td>0</td>\n",
              "      <td>1</td>\n",
              "      <td>0</td>\n",
              "      <td>1</td>\n",
              "      <td>1</td>\n",
              "      <td>...</td>\n",
              "      <td>1</td>\n",
              "      <td>1</td>\n",
              "      <td>0</td>\n",
              "      <td>0</td>\n",
              "      <td>0</td>\n",
              "      <td>1</td>\n",
              "      <td>1</td>\n",
              "      <td>0</td>\n",
              "      <td>1</td>\n",
              "      <td>1</td>\n",
              "      <td>0</td>\n",
              "      <td>1</td>\n",
              "      <td>0</td>\n",
              "      <td>1</td>\n",
              "      <td>1</td>\n",
              "      <td>1</td>\n",
              "      <td>0</td>\n",
              "      <td>0</td>\n",
              "      <td>1</td>\n",
              "      <td>1</td>\n",
              "      <td>0</td>\n",
              "      <td>1</td>\n",
              "      <td>0</td>\n",
              "      <td>1</td>\n",
              "      <td>0</td>\n",
              "      <td>1</td>\n",
              "      <td>1</td>\n",
              "      <td>0</td>\n",
              "      <td>1</td>\n",
              "      <td>1</td>\n",
              "      <td>0</td>\n",
              "      <td>0</td>\n",
              "      <td>1</td>\n",
              "      <td>1</td>\n",
              "      <td>0</td>\n",
              "      <td>1</td>\n",
              "      <td>1</td>\n",
              "      <td>1</td>\n",
              "      <td>0</td>\n",
              "      <td>1</td>\n",
              "    </tr>\n",
              "    <tr>\n",
              "      <th>V43_woe</th>\n",
              "      <td>0</td>\n",
              "      <td>1</td>\n",
              "      <td>1</td>\n",
              "      <td>1</td>\n",
              "      <td>1</td>\n",
              "      <td>0</td>\n",
              "      <td>0</td>\n",
              "      <td>1</td>\n",
              "      <td>1</td>\n",
              "      <td>0</td>\n",
              "      <td>0</td>\n",
              "      <td>0</td>\n",
              "      <td>0</td>\n",
              "      <td>1</td>\n",
              "      <td>0</td>\n",
              "      <td>0</td>\n",
              "      <td>0</td>\n",
              "      <td>1</td>\n",
              "      <td>1</td>\n",
              "      <td>1</td>\n",
              "      <td>1</td>\n",
              "      <td>1</td>\n",
              "      <td>0</td>\n",
              "      <td>0</td>\n",
              "      <td>0</td>\n",
              "      <td>0</td>\n",
              "      <td>1</td>\n",
              "      <td>1</td>\n",
              "      <td>1</td>\n",
              "      <td>1</td>\n",
              "      <td>1</td>\n",
              "      <td>0</td>\n",
              "      <td>0</td>\n",
              "      <td>0</td>\n",
              "      <td>1</td>\n",
              "      <td>0</td>\n",
              "      <td>1</td>\n",
              "      <td>0</td>\n",
              "      <td>0</td>\n",
              "      <td>0</td>\n",
              "      <td>...</td>\n",
              "      <td>0</td>\n",
              "      <td>1</td>\n",
              "      <td>0</td>\n",
              "      <td>0</td>\n",
              "      <td>0</td>\n",
              "      <td>1</td>\n",
              "      <td>1</td>\n",
              "      <td>0</td>\n",
              "      <td>1</td>\n",
              "      <td>1</td>\n",
              "      <td>0</td>\n",
              "      <td>1</td>\n",
              "      <td>0</td>\n",
              "      <td>1</td>\n",
              "      <td>0</td>\n",
              "      <td>1</td>\n",
              "      <td>0</td>\n",
              "      <td>0</td>\n",
              "      <td>1</td>\n",
              "      <td>0</td>\n",
              "      <td>0</td>\n",
              "      <td>1</td>\n",
              "      <td>0</td>\n",
              "      <td>1</td>\n",
              "      <td>0</td>\n",
              "      <td>0</td>\n",
              "      <td>0</td>\n",
              "      <td>0</td>\n",
              "      <td>1</td>\n",
              "      <td>1</td>\n",
              "      <td>0</td>\n",
              "      <td>0</td>\n",
              "      <td>1</td>\n",
              "      <td>0</td>\n",
              "      <td>0</td>\n",
              "      <td>1</td>\n",
              "      <td>0</td>\n",
              "      <td>0</td>\n",
              "      <td>0</td>\n",
              "      <td>1</td>\n",
              "    </tr>\n",
              "    <tr>\n",
              "      <th>V34_woe</th>\n",
              "      <td>0</td>\n",
              "      <td>1</td>\n",
              "      <td>1</td>\n",
              "      <td>1</td>\n",
              "      <td>1</td>\n",
              "      <td>0</td>\n",
              "      <td>0</td>\n",
              "      <td>1</td>\n",
              "      <td>1</td>\n",
              "      <td>0</td>\n",
              "      <td>0</td>\n",
              "      <td>0</td>\n",
              "      <td>0</td>\n",
              "      <td>1</td>\n",
              "      <td>0</td>\n",
              "      <td>0</td>\n",
              "      <td>0</td>\n",
              "      <td>1</td>\n",
              "      <td>1</td>\n",
              "      <td>1</td>\n",
              "      <td>1</td>\n",
              "      <td>1</td>\n",
              "      <td>0</td>\n",
              "      <td>0</td>\n",
              "      <td>0</td>\n",
              "      <td>0</td>\n",
              "      <td>1</td>\n",
              "      <td>1</td>\n",
              "      <td>1</td>\n",
              "      <td>1</td>\n",
              "      <td>1</td>\n",
              "      <td>0</td>\n",
              "      <td>0</td>\n",
              "      <td>0</td>\n",
              "      <td>1</td>\n",
              "      <td>0</td>\n",
              "      <td>1</td>\n",
              "      <td>0</td>\n",
              "      <td>0</td>\n",
              "      <td>0</td>\n",
              "      <td>...</td>\n",
              "      <td>1</td>\n",
              "      <td>1</td>\n",
              "      <td>0</td>\n",
              "      <td>0</td>\n",
              "      <td>0</td>\n",
              "      <td>1</td>\n",
              "      <td>1</td>\n",
              "      <td>0</td>\n",
              "      <td>1</td>\n",
              "      <td>1</td>\n",
              "      <td>0</td>\n",
              "      <td>1</td>\n",
              "      <td>0</td>\n",
              "      <td>1</td>\n",
              "      <td>0</td>\n",
              "      <td>1</td>\n",
              "      <td>0</td>\n",
              "      <td>0</td>\n",
              "      <td>1</td>\n",
              "      <td>0</td>\n",
              "      <td>0</td>\n",
              "      <td>1</td>\n",
              "      <td>0</td>\n",
              "      <td>1</td>\n",
              "      <td>0</td>\n",
              "      <td>1</td>\n",
              "      <td>0</td>\n",
              "      <td>0</td>\n",
              "      <td>1</td>\n",
              "      <td>1</td>\n",
              "      <td>0</td>\n",
              "      <td>0</td>\n",
              "      <td>1</td>\n",
              "      <td>0</td>\n",
              "      <td>0</td>\n",
              "      <td>1</td>\n",
              "      <td>0</td>\n",
              "      <td>0</td>\n",
              "      <td>0</td>\n",
              "      <td>1</td>\n",
              "    </tr>\n",
              "    <tr>\n",
              "      <th>V302_woe</th>\n",
              "      <td>0</td>\n",
              "      <td>1</td>\n",
              "      <td>1</td>\n",
              "      <td>1</td>\n",
              "      <td>1</td>\n",
              "      <td>0</td>\n",
              "      <td>1</td>\n",
              "      <td>1</td>\n",
              "      <td>1</td>\n",
              "      <td>1</td>\n",
              "      <td>0</td>\n",
              "      <td>1</td>\n",
              "      <td>1</td>\n",
              "      <td>1</td>\n",
              "      <td>1</td>\n",
              "      <td>0</td>\n",
              "      <td>0</td>\n",
              "      <td>1</td>\n",
              "      <td>1</td>\n",
              "      <td>1</td>\n",
              "      <td>1</td>\n",
              "      <td>0</td>\n",
              "      <td>0</td>\n",
              "      <td>0</td>\n",
              "      <td>0</td>\n",
              "      <td>1</td>\n",
              "      <td>1</td>\n",
              "      <td>1</td>\n",
              "      <td>1</td>\n",
              "      <td>1</td>\n",
              "      <td>1</td>\n",
              "      <td>0</td>\n",
              "      <td>0</td>\n",
              "      <td>1</td>\n",
              "      <td>1</td>\n",
              "      <td>0</td>\n",
              "      <td>1</td>\n",
              "      <td>0</td>\n",
              "      <td>1</td>\n",
              "      <td>1</td>\n",
              "      <td>...</td>\n",
              "      <td>1</td>\n",
              "      <td>1</td>\n",
              "      <td>0</td>\n",
              "      <td>0</td>\n",
              "      <td>0</td>\n",
              "      <td>1</td>\n",
              "      <td>1</td>\n",
              "      <td>0</td>\n",
              "      <td>1</td>\n",
              "      <td>1</td>\n",
              "      <td>0</td>\n",
              "      <td>1</td>\n",
              "      <td>0</td>\n",
              "      <td>1</td>\n",
              "      <td>1</td>\n",
              "      <td>1</td>\n",
              "      <td>0</td>\n",
              "      <td>0</td>\n",
              "      <td>1</td>\n",
              "      <td>1</td>\n",
              "      <td>0</td>\n",
              "      <td>1</td>\n",
              "      <td>0</td>\n",
              "      <td>1</td>\n",
              "      <td>0</td>\n",
              "      <td>1</td>\n",
              "      <td>1</td>\n",
              "      <td>0</td>\n",
              "      <td>1</td>\n",
              "      <td>1</td>\n",
              "      <td>0</td>\n",
              "      <td>0</td>\n",
              "      <td>1</td>\n",
              "      <td>1</td>\n",
              "      <td>0</td>\n",
              "      <td>1</td>\n",
              "      <td>1</td>\n",
              "      <td>1</td>\n",
              "      <td>0</td>\n",
              "      <td>1</td>\n",
              "    </tr>\n",
              "    <tr>\n",
              "      <th>...</th>\n",
              "      <td>...</td>\n",
              "      <td>...</td>\n",
              "      <td>...</td>\n",
              "      <td>...</td>\n",
              "      <td>...</td>\n",
              "      <td>...</td>\n",
              "      <td>...</td>\n",
              "      <td>...</td>\n",
              "      <td>...</td>\n",
              "      <td>...</td>\n",
              "      <td>...</td>\n",
              "      <td>...</td>\n",
              "      <td>...</td>\n",
              "      <td>...</td>\n",
              "      <td>...</td>\n",
              "      <td>...</td>\n",
              "      <td>...</td>\n",
              "      <td>...</td>\n",
              "      <td>...</td>\n",
              "      <td>...</td>\n",
              "      <td>...</td>\n",
              "      <td>...</td>\n",
              "      <td>...</td>\n",
              "      <td>...</td>\n",
              "      <td>...</td>\n",
              "      <td>...</td>\n",
              "      <td>...</td>\n",
              "      <td>...</td>\n",
              "      <td>...</td>\n",
              "      <td>...</td>\n",
              "      <td>...</td>\n",
              "      <td>...</td>\n",
              "      <td>...</td>\n",
              "      <td>...</td>\n",
              "      <td>...</td>\n",
              "      <td>...</td>\n",
              "      <td>...</td>\n",
              "      <td>...</td>\n",
              "      <td>...</td>\n",
              "      <td>...</td>\n",
              "      <td>...</td>\n",
              "      <td>...</td>\n",
              "      <td>...</td>\n",
              "      <td>...</td>\n",
              "      <td>...</td>\n",
              "      <td>...</td>\n",
              "      <td>...</td>\n",
              "      <td>...</td>\n",
              "      <td>...</td>\n",
              "      <td>...</td>\n",
              "      <td>...</td>\n",
              "      <td>...</td>\n",
              "      <td>...</td>\n",
              "      <td>...</td>\n",
              "      <td>...</td>\n",
              "      <td>...</td>\n",
              "      <td>...</td>\n",
              "      <td>...</td>\n",
              "      <td>...</td>\n",
              "      <td>...</td>\n",
              "      <td>...</td>\n",
              "      <td>...</td>\n",
              "      <td>...</td>\n",
              "      <td>...</td>\n",
              "      <td>...</td>\n",
              "      <td>...</td>\n",
              "      <td>...</td>\n",
              "      <td>...</td>\n",
              "      <td>...</td>\n",
              "      <td>...</td>\n",
              "      <td>...</td>\n",
              "      <td>...</td>\n",
              "      <td>...</td>\n",
              "      <td>...</td>\n",
              "      <td>...</td>\n",
              "      <td>...</td>\n",
              "      <td>...</td>\n",
              "      <td>...</td>\n",
              "      <td>...</td>\n",
              "      <td>...</td>\n",
              "      <td>...</td>\n",
              "    </tr>\n",
              "    <tr>\n",
              "      <th>M6_woe</th>\n",
              "      <td>0</td>\n",
              "      <td>1</td>\n",
              "      <td>1</td>\n",
              "      <td>1</td>\n",
              "      <td>1</td>\n",
              "      <td>0</td>\n",
              "      <td>1</td>\n",
              "      <td>1</td>\n",
              "      <td>1</td>\n",
              "      <td>1</td>\n",
              "      <td>0</td>\n",
              "      <td>1</td>\n",
              "      <td>1</td>\n",
              "      <td>1</td>\n",
              "      <td>1</td>\n",
              "      <td>0</td>\n",
              "      <td>0</td>\n",
              "      <td>1</td>\n",
              "      <td>1</td>\n",
              "      <td>1</td>\n",
              "      <td>1</td>\n",
              "      <td>1</td>\n",
              "      <td>0</td>\n",
              "      <td>0</td>\n",
              "      <td>0</td>\n",
              "      <td>1</td>\n",
              "      <td>1</td>\n",
              "      <td>1</td>\n",
              "      <td>1</td>\n",
              "      <td>1</td>\n",
              "      <td>1</td>\n",
              "      <td>0</td>\n",
              "      <td>0</td>\n",
              "      <td>1</td>\n",
              "      <td>1</td>\n",
              "      <td>0</td>\n",
              "      <td>1</td>\n",
              "      <td>0</td>\n",
              "      <td>1</td>\n",
              "      <td>1</td>\n",
              "      <td>...</td>\n",
              "      <td>1</td>\n",
              "      <td>1</td>\n",
              "      <td>0</td>\n",
              "      <td>0</td>\n",
              "      <td>0</td>\n",
              "      <td>1</td>\n",
              "      <td>1</td>\n",
              "      <td>0</td>\n",
              "      <td>1</td>\n",
              "      <td>1</td>\n",
              "      <td>0</td>\n",
              "      <td>1</td>\n",
              "      <td>0</td>\n",
              "      <td>1</td>\n",
              "      <td>1</td>\n",
              "      <td>1</td>\n",
              "      <td>0</td>\n",
              "      <td>0</td>\n",
              "      <td>1</td>\n",
              "      <td>1</td>\n",
              "      <td>0</td>\n",
              "      <td>1</td>\n",
              "      <td>0</td>\n",
              "      <td>1</td>\n",
              "      <td>0</td>\n",
              "      <td>1</td>\n",
              "      <td>1</td>\n",
              "      <td>0</td>\n",
              "      <td>1</td>\n",
              "      <td>1</td>\n",
              "      <td>0</td>\n",
              "      <td>0</td>\n",
              "      <td>1</td>\n",
              "      <td>1</td>\n",
              "      <td>0</td>\n",
              "      <td>1</td>\n",
              "      <td>1</td>\n",
              "      <td>1</td>\n",
              "      <td>0</td>\n",
              "      <td>1</td>\n",
              "    </tr>\n",
              "    <tr>\n",
              "      <th>V7_woe</th>\n",
              "      <td>0</td>\n",
              "      <td>1</td>\n",
              "      <td>0</td>\n",
              "      <td>0</td>\n",
              "      <td>1</td>\n",
              "      <td>0</td>\n",
              "      <td>0</td>\n",
              "      <td>1</td>\n",
              "      <td>1</td>\n",
              "      <td>1</td>\n",
              "      <td>0</td>\n",
              "      <td>1</td>\n",
              "      <td>1</td>\n",
              "      <td>0</td>\n",
              "      <td>1</td>\n",
              "      <td>0</td>\n",
              "      <td>0</td>\n",
              "      <td>1</td>\n",
              "      <td>0</td>\n",
              "      <td>1</td>\n",
              "      <td>1</td>\n",
              "      <td>0</td>\n",
              "      <td>0</td>\n",
              "      <td>0</td>\n",
              "      <td>1</td>\n",
              "      <td>1</td>\n",
              "      <td>1</td>\n",
              "      <td>1</td>\n",
              "      <td>1</td>\n",
              "      <td>1</td>\n",
              "      <td>1</td>\n",
              "      <td>0</td>\n",
              "      <td>0</td>\n",
              "      <td>1</td>\n",
              "      <td>1</td>\n",
              "      <td>1</td>\n",
              "      <td>1</td>\n",
              "      <td>1</td>\n",
              "      <td>1</td>\n",
              "      <td>1</td>\n",
              "      <td>...</td>\n",
              "      <td>1</td>\n",
              "      <td>1</td>\n",
              "      <td>0</td>\n",
              "      <td>0</td>\n",
              "      <td>0</td>\n",
              "      <td>1</td>\n",
              "      <td>1</td>\n",
              "      <td>0</td>\n",
              "      <td>1</td>\n",
              "      <td>0</td>\n",
              "      <td>0</td>\n",
              "      <td>1</td>\n",
              "      <td>0</td>\n",
              "      <td>1</td>\n",
              "      <td>1</td>\n",
              "      <td>1</td>\n",
              "      <td>0</td>\n",
              "      <td>0</td>\n",
              "      <td>1</td>\n",
              "      <td>1</td>\n",
              "      <td>0</td>\n",
              "      <td>1</td>\n",
              "      <td>1</td>\n",
              "      <td>0</td>\n",
              "      <td>0</td>\n",
              "      <td>1</td>\n",
              "      <td>1</td>\n",
              "      <td>0</td>\n",
              "      <td>1</td>\n",
              "      <td>1</td>\n",
              "      <td>0</td>\n",
              "      <td>0</td>\n",
              "      <td>1</td>\n",
              "      <td>1</td>\n",
              "      <td>0</td>\n",
              "      <td>1</td>\n",
              "      <td>1</td>\n",
              "      <td>1</td>\n",
              "      <td>0</td>\n",
              "      <td>1</td>\n",
              "    </tr>\n",
              "    <tr>\n",
              "      <th>V75_woe</th>\n",
              "      <td>0</td>\n",
              "      <td>1</td>\n",
              "      <td>0</td>\n",
              "      <td>0</td>\n",
              "      <td>1</td>\n",
              "      <td>0</td>\n",
              "      <td>0</td>\n",
              "      <td>1</td>\n",
              "      <td>0</td>\n",
              "      <td>1</td>\n",
              "      <td>0</td>\n",
              "      <td>1</td>\n",
              "      <td>1</td>\n",
              "      <td>0</td>\n",
              "      <td>1</td>\n",
              "      <td>0</td>\n",
              "      <td>0</td>\n",
              "      <td>0</td>\n",
              "      <td>0</td>\n",
              "      <td>1</td>\n",
              "      <td>1</td>\n",
              "      <td>0</td>\n",
              "      <td>1</td>\n",
              "      <td>0</td>\n",
              "      <td>0</td>\n",
              "      <td>1</td>\n",
              "      <td>0</td>\n",
              "      <td>0</td>\n",
              "      <td>1</td>\n",
              "      <td>1</td>\n",
              "      <td>1</td>\n",
              "      <td>0</td>\n",
              "      <td>0</td>\n",
              "      <td>1</td>\n",
              "      <td>0</td>\n",
              "      <td>0</td>\n",
              "      <td>1</td>\n",
              "      <td>0</td>\n",
              "      <td>1</td>\n",
              "      <td>1</td>\n",
              "      <td>...</td>\n",
              "      <td>1</td>\n",
              "      <td>1</td>\n",
              "      <td>0</td>\n",
              "      <td>0</td>\n",
              "      <td>0</td>\n",
              "      <td>0</td>\n",
              "      <td>0</td>\n",
              "      <td>0</td>\n",
              "      <td>1</td>\n",
              "      <td>0</td>\n",
              "      <td>0</td>\n",
              "      <td>1</td>\n",
              "      <td>0</td>\n",
              "      <td>0</td>\n",
              "      <td>1</td>\n",
              "      <td>0</td>\n",
              "      <td>0</td>\n",
              "      <td>0</td>\n",
              "      <td>1</td>\n",
              "      <td>1</td>\n",
              "      <td>0</td>\n",
              "      <td>1</td>\n",
              "      <td>0</td>\n",
              "      <td>0</td>\n",
              "      <td>0</td>\n",
              "      <td>1</td>\n",
              "      <td>1</td>\n",
              "      <td>0</td>\n",
              "      <td>1</td>\n",
              "      <td>1</td>\n",
              "      <td>0</td>\n",
              "      <td>0</td>\n",
              "      <td>1</td>\n",
              "      <td>1</td>\n",
              "      <td>0</td>\n",
              "      <td>1</td>\n",
              "      <td>1</td>\n",
              "      <td>1</td>\n",
              "      <td>0</td>\n",
              "      <td>0</td>\n",
              "    </tr>\n",
              "    <tr>\n",
              "      <th>V49_woe</th>\n",
              "      <td>0</td>\n",
              "      <td>0</td>\n",
              "      <td>0</td>\n",
              "      <td>0</td>\n",
              "      <td>0</td>\n",
              "      <td>0</td>\n",
              "      <td>0</td>\n",
              "      <td>0</td>\n",
              "      <td>0</td>\n",
              "      <td>0</td>\n",
              "      <td>0</td>\n",
              "      <td>0</td>\n",
              "      <td>0</td>\n",
              "      <td>0</td>\n",
              "      <td>0</td>\n",
              "      <td>1</td>\n",
              "      <td>1</td>\n",
              "      <td>0</td>\n",
              "      <td>0</td>\n",
              "      <td>0</td>\n",
              "      <td>0</td>\n",
              "      <td>0</td>\n",
              "      <td>0</td>\n",
              "      <td>0</td>\n",
              "      <td>0</td>\n",
              "      <td>0</td>\n",
              "      <td>0</td>\n",
              "      <td>0</td>\n",
              "      <td>0</td>\n",
              "      <td>0</td>\n",
              "      <td>0</td>\n",
              "      <td>0</td>\n",
              "      <td>0</td>\n",
              "      <td>0</td>\n",
              "      <td>0</td>\n",
              "      <td>0</td>\n",
              "      <td>0</td>\n",
              "      <td>1</td>\n",
              "      <td>0</td>\n",
              "      <td>0</td>\n",
              "      <td>...</td>\n",
              "      <td>0</td>\n",
              "      <td>0</td>\n",
              "      <td>0</td>\n",
              "      <td>0</td>\n",
              "      <td>0</td>\n",
              "      <td>0</td>\n",
              "      <td>0</td>\n",
              "      <td>0</td>\n",
              "      <td>0</td>\n",
              "      <td>0</td>\n",
              "      <td>0</td>\n",
              "      <td>0</td>\n",
              "      <td>1</td>\n",
              "      <td>0</td>\n",
              "      <td>0</td>\n",
              "      <td>0</td>\n",
              "      <td>1</td>\n",
              "      <td>0</td>\n",
              "      <td>0</td>\n",
              "      <td>0</td>\n",
              "      <td>0</td>\n",
              "      <td>0</td>\n",
              "      <td>0</td>\n",
              "      <td>0</td>\n",
              "      <td>0</td>\n",
              "      <td>0</td>\n",
              "      <td>0</td>\n",
              "      <td>1</td>\n",
              "      <td>0</td>\n",
              "      <td>0</td>\n",
              "      <td>1</td>\n",
              "      <td>0</td>\n",
              "      <td>0</td>\n",
              "      <td>0</td>\n",
              "      <td>1</td>\n",
              "      <td>0</td>\n",
              "      <td>0</td>\n",
              "      <td>0</td>\n",
              "      <td>1</td>\n",
              "      <td>0</td>\n",
              "    </tr>\n",
              "    <tr>\n",
              "      <th>V17_woe</th>\n",
              "      <td>0</td>\n",
              "      <td>1</td>\n",
              "      <td>1</td>\n",
              "      <td>1</td>\n",
              "      <td>1</td>\n",
              "      <td>0</td>\n",
              "      <td>0</td>\n",
              "      <td>1</td>\n",
              "      <td>1</td>\n",
              "      <td>1</td>\n",
              "      <td>0</td>\n",
              "      <td>1</td>\n",
              "      <td>1</td>\n",
              "      <td>1</td>\n",
              "      <td>1</td>\n",
              "      <td>0</td>\n",
              "      <td>0</td>\n",
              "      <td>1</td>\n",
              "      <td>1</td>\n",
              "      <td>1</td>\n",
              "      <td>1</td>\n",
              "      <td>1</td>\n",
              "      <td>0</td>\n",
              "      <td>0</td>\n",
              "      <td>0</td>\n",
              "      <td>1</td>\n",
              "      <td>1</td>\n",
              "      <td>1</td>\n",
              "      <td>1</td>\n",
              "      <td>1</td>\n",
              "      <td>1</td>\n",
              "      <td>0</td>\n",
              "      <td>0</td>\n",
              "      <td>1</td>\n",
              "      <td>1</td>\n",
              "      <td>0</td>\n",
              "      <td>1</td>\n",
              "      <td>0</td>\n",
              "      <td>1</td>\n",
              "      <td>1</td>\n",
              "      <td>...</td>\n",
              "      <td>1</td>\n",
              "      <td>1</td>\n",
              "      <td>0</td>\n",
              "      <td>0</td>\n",
              "      <td>0</td>\n",
              "      <td>1</td>\n",
              "      <td>1</td>\n",
              "      <td>0</td>\n",
              "      <td>1</td>\n",
              "      <td>1</td>\n",
              "      <td>0</td>\n",
              "      <td>1</td>\n",
              "      <td>0</td>\n",
              "      <td>1</td>\n",
              "      <td>1</td>\n",
              "      <td>1</td>\n",
              "      <td>0</td>\n",
              "      <td>0</td>\n",
              "      <td>1</td>\n",
              "      <td>1</td>\n",
              "      <td>0</td>\n",
              "      <td>1</td>\n",
              "      <td>0</td>\n",
              "      <td>1</td>\n",
              "      <td>0</td>\n",
              "      <td>1</td>\n",
              "      <td>1</td>\n",
              "      <td>0</td>\n",
              "      <td>1</td>\n",
              "      <td>1</td>\n",
              "      <td>0</td>\n",
              "      <td>0</td>\n",
              "      <td>1</td>\n",
              "      <td>1</td>\n",
              "      <td>0</td>\n",
              "      <td>1</td>\n",
              "      <td>1</td>\n",
              "      <td>0</td>\n",
              "      <td>0</td>\n",
              "      <td>1</td>\n",
              "    </tr>\n",
              "  </tbody>\n",
              "</table>\n",
              "<p>104 rows × 104 columns</p>\n",
              "</div>"
            ],
            "text/plain": [
              "          V283_woe  V93_woe  V43_woe  ...  V75_woe  V49_woe  V17_woe\n",
              "V283_woe         1        0        0  ...        0        0        0\n",
              "V93_woe          0        1        1  ...        1        0        1\n",
              "V43_woe          0        1        1  ...        0        0        1\n",
              "V34_woe          0        1        1  ...        0        0        1\n",
              "V302_woe         0        1        1  ...        1        0        1\n",
              "...            ...      ...      ...  ...      ...      ...      ...\n",
              "M6_woe           0        1        1  ...        1        0        1\n",
              "V7_woe           0        1        0  ...        1        0        1\n",
              "V75_woe          0        1        0  ...        1        0        0\n",
              "V49_woe          0        0        0  ...        0        1        0\n",
              "V17_woe          0        1        1  ...        0        0        1\n",
              "\n",
              "[104 rows x 104 columns]"
            ]
          },
          "metadata": {
            "tags": []
          },
          "execution_count": 19
        }
      ]
    },
    {
      "cell_type": "code",
      "metadata": {
        "id": "96nV54cg9GG5",
        "colab_type": "code",
        "colab": {}
      },
      "source": [
        "import networkx as nx\n",
        "\n",
        "correlation_network = nx.from_pandas_adjacency(adj_mat)"
      ],
      "execution_count": 0,
      "outputs": []
    },
    {
      "cell_type": "code",
      "metadata": {
        "id": "SBzb30kN9gpQ",
        "colab_type": "code",
        "outputId": "f0ffa693-e61e-4ff1-b5db-717f6c672a76",
        "colab": {
          "base_uri": "https://localhost:8080/",
          "height": 575
        }
      },
      "source": [
        "figsize(10, 10)\n",
        "nx.draw_networkx(correlation_network  )"
      ],
      "execution_count": 22,
      "outputs": [
        {
          "output_type": "display_data",
          "data": {
            "image/png": "[encoded data removed]",
            "text/plain": [
              "<Figure size 720x720 with 1 Axes>"
            ]
          },
          "metadata": {
            "tags": []
          }
        }
      ]
    },
    {
      "cell_type": "code",
      "metadata": {
        "id": "xocrKxH89jOw",
        "colab_type": "code",
        "colab": {}
      },
      "source": [
        "from networkx.algorithms.community import k_clique_communities\n",
        "sets = list(k_clique_communities(correlation_network, 2))"
      ],
      "execution_count": 0,
      "outputs": []
    },
    {
      "cell_type": "code",
      "metadata": {
        "id": "-r8xTWRvBCOn",
        "colab_type": "code",
        "outputId": "2f4df0d3-cccc-43a3-cebf-603d376d1283",
        "colab": {
          "base_uri": "https://localhost:8080/",
          "height": 34
        }
      },
      "source": [
        "len(sets)"
      ],
      "execution_count": 24,
      "outputs": [
        {
          "output_type": "execute_result",
          "data": {
            "text/plain": [
              "6"
            ]
          },
          "metadata": {
            "tags": []
          },
          "execution_count": 24
        }
      ]
    },
    {
      "cell_type": "code",
      "metadata": {
        "id": "nTd4TevYDKQg",
        "colab_type": "code",
        "colab": {}
      },
      "source": [
        "sets = sorted(map(sorted, sets))\n"
      ],
      "execution_count": 0,
      "outputs": []
    },
    {
      "cell_type": "code",
      "metadata": {
        "id": "S-R1x6fyDuiC",
        "colab_type": "code",
        "colab": {
          "base_uri": "https://localhost:8080/",
          "height": 1000
        },
        "outputId": "91b009fd-6090-4ae1-d744-fd146cfe6465"
      },
      "source": [
        "sets"
      ],
      "execution_count": 26,
      "outputs": [
        {
          "output_type": "execute_result",
          "data": {
            "text/plain": [
              "[['C11_woe', 'C1_woe', 'C2_woe'],\n",
              " ['C13_woe', 'C14_woe'],\n",
              " ['C5_woe',\n",
              "  'C9_woe',\n",
              "  'D11_woe',\n",
              "  'M1_woe',\n",
              "  'M2_woe',\n",
              "  'M3_woe',\n",
              "  'M4_woe',\n",
              "  'M6_woe',\n",
              "  'M7_woe',\n",
              "  'M8_woe',\n",
              "  'M9_woe',\n",
              "  'ProductCD_woe',\n",
              "  'V10_woe',\n",
              "  'V11_woe',\n",
              "  'V12_woe',\n",
              "  'V13_woe',\n",
              "  'V15_woe',\n",
              "  'V16_woe',\n",
              "  'V17_woe',\n",
              "  'V18_woe',\n",
              "  'V1_woe',\n",
              "  'V21_woe',\n",
              "  'V22_woe',\n",
              "  'V29_woe',\n",
              "  'V2_woe',\n",
              "  'V302_woe',\n",
              "  'V303_woe',\n",
              "  'V304_woe',\n",
              "  'V30_woe',\n",
              "  'V31_woe',\n",
              "  'V32_woe',\n",
              "  'V33_woe',\n",
              "  'V34_woe',\n",
              "  'V36_woe',\n",
              "  'V38_woe',\n",
              "  'V39_woe',\n",
              "  'V3_woe',\n",
              "  'V40_woe',\n",
              "  'V42_woe',\n",
              "  'V43_woe',\n",
              "  'V48_woe',\n",
              "  'V49_woe',\n",
              "  'V4_woe',\n",
              "  'V50_woe',\n",
              "  'V51_woe',\n",
              "  'V52_woe',\n",
              "  'V53_woe',\n",
              "  'V54_woe',\n",
              "  'V56_woe',\n",
              "  'V57_woe',\n",
              "  'V58_woe',\n",
              "  'V59_woe',\n",
              "  'V5_woe',\n",
              "  'V60_woe',\n",
              "  'V63_woe',\n",
              "  'V64_woe',\n",
              "  'V69_woe',\n",
              "  'V6_woe',\n",
              "  'V70_woe',\n",
              "  'V71_woe',\n",
              "  'V72_woe',\n",
              "  'V73_woe',\n",
              "  'V74_woe',\n",
              "  'V75_woe',\n",
              "  'V76_woe',\n",
              "  'V78_woe',\n",
              "  'V79_woe',\n",
              "  'V7_woe',\n",
              "  'V80_woe',\n",
              "  'V81_woe',\n",
              "  'V84_woe',\n",
              "  'V85_woe',\n",
              "  'V8_woe',\n",
              "  'V90_woe',\n",
              "  'V91_woe',\n",
              "  'V92_woe',\n",
              "  'V93_woe',\n",
              "  'V94_woe',\n",
              "  'V9_woe',\n",
              "  'addr1_woe',\n",
              "  'addr2_woe',\n",
              "  'card3_woe',\n",
              "  'dist1_woe'],\n",
              " ['D10_woe',\n",
              "  'D15_woe',\n",
              "  'D1_woe',\n",
              "  'D2_woe',\n",
              "  'D3_woe',\n",
              "  'D4_woe',\n",
              "  'D5_woe',\n",
              "  'V282_woe',\n",
              "  'V283_woe'],\n",
              " ['V280_woe', 'V308_woe'],\n",
              " ['V45_woe', 'V87_woe']]"
            ]
          },
          "metadata": {
            "tags": []
          },
          "execution_count": 26
        }
      ]
    },
    {
      "cell_type": "code",
      "metadata": {
        "id": "ndumRRlgCRuR",
        "colab_type": "code",
        "outputId": "db66759b-d08f-46fe-dabe-7f007daba5eb",
        "colab": {
          "base_uri": "https://localhost:8080/",
          "height": 119
        }
      },
      "source": [
        "final_vars = []\n",
        "for i in range(0,len(sets)):\n",
        "  f = sets[i][0]\n",
        "  print(f)\n",
        "  for j in range(1, len(sets[i])-1):\n",
        "    if ivs[ivs['var'] == sets[i][j]]['iv'].any() > ivs[ivs['var'] == f]['iv'].any():\n",
        "      f = j\n",
        "  final_vars = final_vars + [f]"
      ],
      "execution_count": 27,
      "outputs": [
        {
          "output_type": "stream",
          "text": [
            "C11_woe\n",
            "C13_woe\n",
            "C5_woe\n",
            "D10_woe\n",
            "V280_woe\n",
            "V45_woe\n"
          ],
          "name": "stdout"
        }
      ]
    },
    {
      "cell_type": "code",
      "metadata": {
        "id": "CihWnUvUCXYN",
        "colab_type": "code",
        "outputId": "25c7fa2c-13e2-4456-87c4-c07ccdbf2c27",
        "colab": {
          "base_uri": "https://localhost:8080/",
          "height": 34
        }
      },
      "source": [
        "final_vars"
      ],
      "execution_count": 28,
      "outputs": [
        {
          "output_type": "execute_result",
          "data": {
            "text/plain": [
              "['C11_woe', 'C13_woe', 'C5_woe', 'D10_woe', 'V280_woe', 'V45_woe']"
            ]
          },
          "metadata": {
            "tags": []
          },
          "execution_count": 28
        }
      ]
    },
    {
      "cell_type": "code",
      "metadata": {
        "id": "blwUiR0nitYl",
        "colab_type": "code",
        "colab": {
          "base_uri": "https://localhost:8080/",
          "height": 80
        },
        "outputId": "9fe03076-57da-4794-ad97-ecf51b27d069"
      },
      "source": [
        "ivs[ivs['var'] == 'V45']"
      ],
      "execution_count": 39,
      "outputs": [
        {
          "output_type": "execute_result",
          "data": {
            "text/html": [
              "<div>\n",
              "<style scoped>\n",
              "    .dataframe tbody tr th:only-of-type {\n",
              "        vertical-align: middle;\n",
              "    }\n",
              "\n",
              "    .dataframe tbody tr th {\n",
              "        vertical-align: top;\n",
              "    }\n",
              "\n",
              "    .dataframe thead th {\n",
              "        text-align: right;\n",
              "    }\n",
              "</style>\n",
              "<table border=\"1\" class=\"dataframe\">\n",
              "  <thead>\n",
              "    <tr style=\"text-align: right;\">\n",
              "      <th></th>\n",
              "      <th>Unnamed: 0</th>\n",
              "      <th>var</th>\n",
              "      <th>iv</th>\n",
              "    </tr>\n",
              "  </thead>\n",
              "  <tbody>\n",
              "    <tr>\n",
              "      <th>84</th>\n",
              "      <td>0</td>\n",
              "      <td>V45</td>\n",
              "      <td>0.357436</td>\n",
              "    </tr>\n",
              "  </tbody>\n",
              "</table>\n",
              "</div>"
            ],
            "text/plain": [
              "    Unnamed: 0  var        iv\n",
              "84           0  V45  0.357436"
            ]
          },
          "metadata": {
            "tags": []
          },
          "execution_count": 39
        }
      ]
    },
    {
      "cell_type": "markdown",
      "metadata": {
        "id": "rbkNhldOFk8P",
        "colab_type": "text"
      },
      "source": [
        "Now comes the logistic regression\n"
      ]
    },
    {
      "cell_type": "code",
      "metadata": {
        "id": "hDxgoVjwFkCi",
        "colab_type": "code",
        "outputId": "99fd3c67-cc88-4869-9a79-add0a9cce122",
        "colab": {
          "base_uri": "https://localhost:8080/",
          "height": 102
        }
      },
      "source": [
        "from sklearn.linear_model import LogisticRegression\n",
        "\n",
        "tr_s = 300_000\n",
        "\n",
        "lr = LogisticRegression(penalty='l1', C=0.9, solver='saga', n_jobs=-1)\n",
        "lr.fit(df_woe[final_vars][:tr_s], df.isFraud[:tr_s])"
      ],
      "execution_count": 44,
      "outputs": [
        {
          "output_type": "execute_result",
          "data": {
            "text/plain": [
              "LogisticRegression(C=0.9, class_weight=None, dual=False, fit_intercept=True,\n",
              "                   intercept_scaling=1, l1_ratio=None, max_iter=100,\n",
              "                   multi_class='warn', n_jobs=-1, penalty='l1',\n",
              "                   random_state=None, solver='saga', tol=0.0001, verbose=0,\n",
              "                   warm_start=False)"
            ]
          },
          "metadata": {
            "tags": []
          },
          "execution_count": 44
        }
      ]
    },
    {
      "cell_type": "code",
      "metadata": {
        "id": "dMYofvwCE13b",
        "colab_type": "code",
        "colab": {}
      },
      "source": [
        "train_pred = lr.predict_proba(df_woe[final_vars][tr_s:])[:,1]\n"
      ],
      "execution_count": 0,
      "outputs": []
    },
    {
      "cell_type": "code",
      "metadata": {
        "id": "pQJjvEuTGNSD",
        "colab_type": "code",
        "outputId": "1c418c64-c284-48ee-acf3-34a512b4e905",
        "colab": {
          "base_uri": "https://localhost:8080/",
          "height": 34
        }
      },
      "source": [
        "from sklearn.metrics import roc_auc_score, confusion_matrix\n",
        "\n",
        "auc = roc_auc_score(df.isFraud[tr_s:], train_pred)\n",
        "print(auc)"
      ],
      "execution_count": 46,
      "outputs": [
        {
          "output_type": "stream",
          "text": [
            "0.8135358671396153\n"
          ],
          "name": "stdout"
        }
      ]
    },
    {
      "cell_type": "code",
      "metadata": {
        "id": "TQeRsHxRNKks",
        "colab_type": "code",
        "outputId": "cec80624-94da-4e86-a49e-4604b2ddbe36",
        "colab": {
          "base_uri": "https://localhost:8080/",
          "height": 51
        }
      },
      "source": [
        "confusion_matrix(df.isFraud[tr_s:], np.where(train_pred > 0.25, 1, 0))"
      ],
      "execution_count": 47,
      "outputs": [
        {
          "output_type": "execute_result",
          "data": {
            "text/plain": [
              "array([[277940,   2036],\n",
              "       [  8555,   2009]])"
            ]
          },
          "metadata": {
            "tags": []
          },
          "execution_count": 47
        }
      ]
    },
    {
      "cell_type": "code",
      "metadata": {
        "id": "gcBJmse_LObp",
        "colab_type": "code",
        "outputId": "cc196bf2-f886-45f1-aa99-094ec16cec82",
        "colab": {
          "base_uri": "https://localhost:8080/",
          "height": 614
        }
      },
      "source": [
        "from sklearn.metrics import precision_recall_curve\n",
        "p_bm, r_bm, th = precision_recall_curve(df.isFraud[tr_s:], train_pred)\n",
        "\n",
        "plot(p_bm, r_bm)\n",
        "ylabel('Recall', size = 18)\n",
        "xlabel('Precision', size = 18)\n",
        "show()"
      ],
      "execution_count": 0,
      "outputs": [
        {
          "output_type": "display_data",
          "data": {
            "image/png": "[encoded data removed]",
            "text/plain": [
              "<Figure size 720x720 with 1 Axes>"
            ]
          },
          "metadata": {
            "tags": []
          }
        }
      ]
    },
    {
      "cell_type": "markdown",
      "metadata": {
        "id": "JueygjxqHugx",
        "colab_type": "text"
      },
      "source": [
        "Well it is not the best :) but we have only 6 variables."
      ]
    },
    {
      "cell_type": "code",
      "metadata": {
        "id": "qtwovvehGYoS",
        "colab_type": "code",
        "outputId": "5edf78e1-e97a-45ec-8c2c-6222f12286dd",
        "colab": {
          "base_uri": "https://localhost:8080/",
          "height": 187
        }
      },
      "source": [
        "# Try to tweak the model:\n",
        "C_par = [0.3, 0.5, 0.5, 0.7, 2]\n",
        "penalty_par = ['l1', 'l2']\n",
        "\n",
        "for i in C_par:\n",
        "  for j in penalty_par:\n",
        "    lr = LogisticRegression(penalty= j, C=i, solver='saga', n_jobs=-1)\n",
        "    lr.fit(df_woe[final_vars][:tr_s], df.isFraud[:tr_s])\n",
        "    train_pred = lr.predict_proba(df_woe[final_vars][tr_s:])[:,1]\n",
        "    auc2 = roc_auc_score(df.isFraud[tr_s:], train_pred)\n",
        "    print('auc: ' + str(round(auc2, 4))+ ' C: ' + str(i)+ ' penalty: ' + j)"
      ],
      "execution_count": 0,
      "outputs": [
        {
          "output_type": "stream",
          "text": [
            "auc: 0.8142 C: 0.3 penalty: l1\n",
            "auc: 0.8142 C: 0.3 penalty: l2\n",
            "auc: 0.8142 C: 0.5 penalty: l1\n",
            "auc: 0.8142 C: 0.5 penalty: l2\n",
            "auc: 0.8142 C: 0.5 penalty: l1\n",
            "auc: 0.8142 C: 0.5 penalty: l2\n",
            "auc: 0.8142 C: 0.7 penalty: l1\n",
            "auc: 0.8142 C: 0.7 penalty: l2\n",
            "auc: 0.8142 C: 0.9 penalty: l1\n",
            "auc: 0.8142 C: 0.9 penalty: l2\n"
          ],
          "name": "stdout"
        }
      ]
    },
    {
      "cell_type": "markdown",
      "metadata": {
        "id": "hNBzi8aJK12K",
        "colab_type": "text"
      },
      "source": [
        "# Model is so robust\n",
        "### trying out full df"
      ]
    },
    {
      "cell_type": "code",
      "metadata": {
        "id": "Qxm13tRiHFZs",
        "colab_type": "code",
        "colab": {}
      },
      "source": [
        "df_test = pd.read_csv('/content/drive/My Drive/Colab Notebooks/test_transaction.csv')\n"
      ],
      "execution_count": 0,
      "outputs": []
    },
    {
      "cell_type": "code",
      "metadata": {
        "id": "wjiAMAZOMZdj",
        "colab_type": "code",
        "outputId": "c7ea07d5-8702-44a0-f7f4-a1daffc80784",
        "colab": {
          "base_uri": "https://localhost:8080/",
          "height": 85
        }
      },
      "source": [
        "df_to_woe.columns"
      ],
      "execution_count": 41,
      "outputs": [
        {
          "output_type": "execute_result",
          "data": {
            "text/plain": [
              "Index(['V308', 'V56', 'V92', 'M7', 'addr1', 'V64', 'C1', 'V42', 'M4', 'V2',\n",
              "       ...\n",
              "       'V52', 'D11', 'D1', 'card3', 'M6', 'V7', 'V53', 'D15', 'M3', 'V58'],\n",
              "      dtype='object', length=104)"
            ]
          },
          "metadata": {
            "tags": []
          },
          "execution_count": 41
        }
      ]
    },
    {
      "cell_type": "code",
      "metadata": {
        "id": "Gi4jXySeMIJi",
        "colab_type": "code",
        "outputId": "5d868d61-ed94-4992-e4b1-18773b4dc393",
        "colab": {
          "base_uri": "https://localhost:8080/",
          "height": 51
        }
      },
      "source": [
        "df_test_woe = sc.woebin_ply(df_test[df_to_woe.columns ], bins)"
      ],
      "execution_count": 42,
      "outputs": [
        {
          "output_type": "stream",
          "text": [
            "[INFO] converting into woe values ...\n",
            "Woe transformating on 506691 rows and 104 columns in 00:02:29\n"
          ],
          "name": "stdout"
        }
      ]
    },
    {
      "cell_type": "code",
      "metadata": {
        "id": "3mOMyc90Mspl",
        "colab_type": "code",
        "colab": {}
      },
      "source": [
        "\n",
        "test_pred = lr.predict_proba(df_test_woe[final_vars].fillna(0))[:,1]\n"
      ],
      "execution_count": 0,
      "outputs": []
    },
    {
      "cell_type": "code",
      "metadata": {
        "id": "V7Or9qpgN4T2",
        "colab_type": "code",
        "colab": {}
      },
      "source": [
        "submission = pd.DataFrame({'TransactionID':df_test['TransactionID'], 'isFraud': test_pred})\n",
        "submission.to_csv('/content/drive/My Drive/Colab Notebooks/submission.csv', index = False)"
      ],
      "execution_count": 0,
      "outputs": []
    },
    {
      "cell_type": "code",
      "metadata": {
        "id": "SmjJdP40OeZH",
        "colab_type": "code",
        "outputId": "7cce6c7e-59c7-4249-9375-ce4cc11dc365",
        "colab": {
          "base_uri": "https://localhost:8080/",
          "height": 34
        }
      },
      "source": [
        "len(test_pred)"
      ],
      "execution_count": 0,
      "outputs": [
        {
          "output_type": "execute_result",
          "data": {
            "text/plain": [
              "206691"
            ]
          },
          "metadata": {
            "tags": []
          },
          "execution_count": 124
        }
      ]
    },
    {
      "cell_type": "markdown",
      "metadata": {
        "id": "ZZKpN0lYQzLd",
        "colab_type": "text"
      },
      "source": [
        "# Using the whole, correlating dataset dataset"
      ]
    },
    {
      "cell_type": "code",
      "metadata": {
        "id": "RdPEDLuTQxMm",
        "colab_type": "code",
        "outputId": "d5dece70-7afe-406a-c9eb-a8c24e4e464f",
        "colab": {
          "base_uri": "https://localhost:8080/",
          "height": 531
        }
      },
      "source": [
        "# Try to tweak the model:\n",
        "C_par = [0.3, 0.5, 0.5, 0.7, 2]\n",
        "penalty_par = ['l1', 'l2']\n",
        "\n",
        "for i in C_par:\n",
        "  for j in penalty_par:\n",
        "    lr = LogisticRegression(penalty= j, C=i, solver='saga', n_jobs=-1)\n",
        "    lr.fit(df_woe[:tr_s], df.isFraud[:tr_s])\n",
        "    train_pred = lr.predict_proba(df_woe[tr_s:])[:,1]\n",
        "    auc2 = roc_auc_score(df.isFraud[tr_s:], train_pred)\n",
        "    print('auc: ' + str(round(auc2, 4))+ ' C: ' + str(i)+ ' penalty: ' + j)"
      ],
      "execution_count": 0,
      "outputs": [
        {
          "output_type": "stream",
          "text": [
            "auc: 0.8339 C: 0.3 penalty: l1\n",
            "auc: 0.8337 C: 0.3 penalty: l2\n"
          ],
          "name": "stdout"
        },
        {
          "output_type": "stream",
          "text": [
            "/usr/local/lib/python3.6/dist-packages/sklearn/linear_model/sag.py:337: ConvergenceWarning: The max_iter was reached which means the coef_ did not converge\n",
            "  \"the coef_ did not converge\", ConvergenceWarning)\n"
          ],
          "name": "stderr"
        },
        {
          "output_type": "stream",
          "text": [
            "auc: 0.8336 C: 0.5 penalty: l1\n"
          ],
          "name": "stdout"
        },
        {
          "output_type": "stream",
          "text": [
            "/usr/local/lib/python3.6/dist-packages/sklearn/linear_model/sag.py:337: ConvergenceWarning: The max_iter was reached which means the coef_ did not converge\n",
            "  \"the coef_ did not converge\", ConvergenceWarning)\n"
          ],
          "name": "stderr"
        },
        {
          "output_type": "stream",
          "text": [
            "auc: 0.8334 C: 0.5 penalty: l2\n"
          ],
          "name": "stdout"
        },
        {
          "output_type": "error",
          "ename": "KeyboardInterrupt",
          "evalue": "ignored",
          "traceback": [
            "\u001b[0;31m---------------------------------------------------------------------------\u001b[0m",
            "\u001b[0;31mKeyboardInterrupt\u001b[0m                         Traceback (most recent call last)",
            "\u001b[0;32m<ipython-input-128-267c62635d27>\u001b[0m in \u001b[0;36m<module>\u001b[0;34m()\u001b[0m\n\u001b[1;32m      5\u001b[0m   \u001b[0;32mfor\u001b[0m \u001b[0mj\u001b[0m \u001b[0;32min\u001b[0m \u001b[0mpenalty_par\u001b[0m\u001b[0;34m:\u001b[0m\u001b[0;34m\u001b[0m\u001b[0;34m\u001b[0m\u001b[0m\n\u001b[1;32m      6\u001b[0m     \u001b[0mlr\u001b[0m \u001b[0;34m=\u001b[0m \u001b[0mLogisticRegression\u001b[0m\u001b[0;34m(\u001b[0m\u001b[0mpenalty\u001b[0m\u001b[0;34m=\u001b[0m \u001b[0mj\u001b[0m\u001b[0;34m,\u001b[0m \u001b[0mC\u001b[0m\u001b[0;34m=\u001b[0m\u001b[0mi\u001b[0m\u001b[0;34m,\u001b[0m \u001b[0msolver\u001b[0m\u001b[0;34m=\u001b[0m\u001b[0;34m'saga'\u001b[0m\u001b[0;34m,\u001b[0m \u001b[0mn_jobs\u001b[0m\u001b[0;34m=\u001b[0m\u001b[0;34m-\u001b[0m\u001b[0;36m1\u001b[0m\u001b[0;34m)\u001b[0m\u001b[0;34m\u001b[0m\u001b[0;34m\u001b[0m\u001b[0m\n\u001b[0;32m----> 7\u001b[0;31m     \u001b[0mlr\u001b[0m\u001b[0;34m.\u001b[0m\u001b[0mfit\u001b[0m\u001b[0;34m(\u001b[0m\u001b[0mdf_woe\u001b[0m\u001b[0;34m[\u001b[0m\u001b[0;34m:\u001b[0m\u001b[0mtr_s\u001b[0m\u001b[0;34m]\u001b[0m\u001b[0;34m,\u001b[0m \u001b[0mdf\u001b[0m\u001b[0;34m.\u001b[0m\u001b[0misFraud\u001b[0m\u001b[0;34m[\u001b[0m\u001b[0;34m:\u001b[0m\u001b[0mtr_s\u001b[0m\u001b[0;34m]\u001b[0m\u001b[0;34m)\u001b[0m\u001b[0;34m\u001b[0m\u001b[0;34m\u001b[0m\u001b[0m\n\u001b[0m\u001b[1;32m      8\u001b[0m     \u001b[0mtrain_pred\u001b[0m \u001b[0;34m=\u001b[0m \u001b[0mlr\u001b[0m\u001b[0;34m.\u001b[0m\u001b[0mpredict_proba\u001b[0m\u001b[0;34m(\u001b[0m\u001b[0mdf_woe\u001b[0m\u001b[0;34m[\u001b[0m\u001b[0mtr_s\u001b[0m\u001b[0;34m:\u001b[0m\u001b[0;34m]\u001b[0m\u001b[0;34m)\u001b[0m\u001b[0;34m[\u001b[0m\u001b[0;34m:\u001b[0m\u001b[0;34m,\u001b[0m\u001b[0;36m1\u001b[0m\u001b[0;34m]\u001b[0m\u001b[0;34m\u001b[0m\u001b[0;34m\u001b[0m\u001b[0m\n\u001b[1;32m      9\u001b[0m     \u001b[0mauc2\u001b[0m \u001b[0;34m=\u001b[0m \u001b[0mroc_auc_score\u001b[0m\u001b[0;34m(\u001b[0m\u001b[0mdf\u001b[0m\u001b[0;34m.\u001b[0m\u001b[0misFraud\u001b[0m\u001b[0;34m[\u001b[0m\u001b[0mtr_s\u001b[0m\u001b[0;34m:\u001b[0m\u001b[0;34m]\u001b[0m\u001b[0;34m,\u001b[0m \u001b[0mtrain_pred\u001b[0m\u001b[0;34m)\u001b[0m\u001b[0;34m\u001b[0m\u001b[0;34m\u001b[0m\u001b[0m\n",
            "\u001b[0;32m/usr/local/lib/python3.6/dist-packages/sklearn/linear_model/logistic.py\u001b[0m in \u001b[0;36mfit\u001b[0;34m(self, X, y, sample_weight)\u001b[0m\n\u001b[1;32m   1604\u001b[0m                       \u001b[0mpenalty\u001b[0m\u001b[0;34m=\u001b[0m\u001b[0mpenalty\u001b[0m\u001b[0;34m,\u001b[0m \u001b[0mmax_squared_sum\u001b[0m\u001b[0;34m=\u001b[0m\u001b[0mmax_squared_sum\u001b[0m\u001b[0;34m,\u001b[0m\u001b[0;34m\u001b[0m\u001b[0;34m\u001b[0m\u001b[0m\n\u001b[1;32m   1605\u001b[0m                       sample_weight=sample_weight)\n\u001b[0;32m-> 1606\u001b[0;31m             for class_, warm_start_coef_ in zip(classes_, warm_start_coef))\n\u001b[0m\u001b[1;32m   1607\u001b[0m \u001b[0;34m\u001b[0m\u001b[0m\n\u001b[1;32m   1608\u001b[0m         \u001b[0mfold_coefs_\u001b[0m\u001b[0;34m,\u001b[0m \u001b[0m_\u001b[0m\u001b[0;34m,\u001b[0m \u001b[0mn_iter_\u001b[0m \u001b[0;34m=\u001b[0m \u001b[0mzip\u001b[0m\u001b[0;34m(\u001b[0m\u001b[0;34m*\u001b[0m\u001b[0mfold_coefs_\u001b[0m\u001b[0;34m)\u001b[0m\u001b[0;34m\u001b[0m\u001b[0;34m\u001b[0m\u001b[0m\n",
            "\u001b[0;32m/usr/local/lib/python3.6/dist-packages/joblib/parallel.py\u001b[0m in \u001b[0;36m__call__\u001b[0;34m(self, iterable)\u001b[0m\n\u001b[1;32m   1015\u001b[0m \u001b[0;34m\u001b[0m\u001b[0m\n\u001b[1;32m   1016\u001b[0m             \u001b[0;32mwith\u001b[0m \u001b[0mself\u001b[0m\u001b[0;34m.\u001b[0m\u001b[0m_backend\u001b[0m\u001b[0;34m.\u001b[0m\u001b[0mretrieval_context\u001b[0m\u001b[0;34m(\u001b[0m\u001b[0;34m)\u001b[0m\u001b[0;34m:\u001b[0m\u001b[0;34m\u001b[0m\u001b[0;34m\u001b[0m\u001b[0m\n\u001b[0;32m-> 1017\u001b[0;31m                 \u001b[0mself\u001b[0m\u001b[0;34m.\u001b[0m\u001b[0mretrieve\u001b[0m\u001b[0;34m(\u001b[0m\u001b[0;34m)\u001b[0m\u001b[0;34m\u001b[0m\u001b[0;34m\u001b[0m\u001b[0m\n\u001b[0m\u001b[1;32m   1018\u001b[0m             \u001b[0;31m# Make sure that we get a last message telling us we are done\u001b[0m\u001b[0;34m\u001b[0m\u001b[0;34m\u001b[0m\u001b[0;34m\u001b[0m\u001b[0m\n\u001b[1;32m   1019\u001b[0m             \u001b[0melapsed_time\u001b[0m \u001b[0;34m=\u001b[0m \u001b[0mtime\u001b[0m\u001b[0;34m.\u001b[0m\u001b[0mtime\u001b[0m\u001b[0;34m(\u001b[0m\u001b[0;34m)\u001b[0m \u001b[0;34m-\u001b[0m \u001b[0mself\u001b[0m\u001b[0;34m.\u001b[0m\u001b[0m_start_time\u001b[0m\u001b[0;34m\u001b[0m\u001b[0;34m\u001b[0m\u001b[0m\n",
            "\u001b[0;32m/usr/local/lib/python3.6/dist-packages/joblib/parallel.py\u001b[0m in \u001b[0;36mretrieve\u001b[0;34m(self)\u001b[0m\n\u001b[1;32m    907\u001b[0m             \u001b[0;32mtry\u001b[0m\u001b[0;34m:\u001b[0m\u001b[0;34m\u001b[0m\u001b[0;34m\u001b[0m\u001b[0m\n\u001b[1;32m    908\u001b[0m                 \u001b[0;32mif\u001b[0m \u001b[0mgetattr\u001b[0m\u001b[0;34m(\u001b[0m\u001b[0mself\u001b[0m\u001b[0;34m.\u001b[0m\u001b[0m_backend\u001b[0m\u001b[0;34m,\u001b[0m \u001b[0;34m'supports_timeout'\u001b[0m\u001b[0;34m,\u001b[0m \u001b[0;32mFalse\u001b[0m\u001b[0;34m)\u001b[0m\u001b[0;34m:\u001b[0m\u001b[0;34m\u001b[0m\u001b[0;34m\u001b[0m\u001b[0m\n\u001b[0;32m--> 909\u001b[0;31m                     \u001b[0mself\u001b[0m\u001b[0;34m.\u001b[0m\u001b[0m_output\u001b[0m\u001b[0;34m.\u001b[0m\u001b[0mextend\u001b[0m\u001b[0;34m(\u001b[0m\u001b[0mjob\u001b[0m\u001b[0;34m.\u001b[0m\u001b[0mget\u001b[0m\u001b[0;34m(\u001b[0m\u001b[0mtimeout\u001b[0m\u001b[0;34m=\u001b[0m\u001b[0mself\u001b[0m\u001b[0;34m.\u001b[0m\u001b[0mtimeout\u001b[0m\u001b[0;34m)\u001b[0m\u001b[0;34m)\u001b[0m\u001b[0;34m\u001b[0m\u001b[0;34m\u001b[0m\u001b[0m\n\u001b[0m\u001b[1;32m    910\u001b[0m                 \u001b[0;32melse\u001b[0m\u001b[0;34m:\u001b[0m\u001b[0;34m\u001b[0m\u001b[0;34m\u001b[0m\u001b[0m\n\u001b[1;32m    911\u001b[0m                     \u001b[0mself\u001b[0m\u001b[0;34m.\u001b[0m\u001b[0m_output\u001b[0m\u001b[0;34m.\u001b[0m\u001b[0mextend\u001b[0m\u001b[0;34m(\u001b[0m\u001b[0mjob\u001b[0m\u001b[0;34m.\u001b[0m\u001b[0mget\u001b[0m\u001b[0;34m(\u001b[0m\u001b[0;34m)\u001b[0m\u001b[0;34m)\u001b[0m\u001b[0;34m\u001b[0m\u001b[0;34m\u001b[0m\u001b[0m\n",
            "\u001b[0;32m/usr/lib/python3.6/multiprocessing/pool.py\u001b[0m in \u001b[0;36mget\u001b[0;34m(self, timeout)\u001b[0m\n\u001b[1;32m    636\u001b[0m \u001b[0;34m\u001b[0m\u001b[0m\n\u001b[1;32m    637\u001b[0m     \u001b[0;32mdef\u001b[0m \u001b[0mget\u001b[0m\u001b[0;34m(\u001b[0m\u001b[0mself\u001b[0m\u001b[0;34m,\u001b[0m \u001b[0mtimeout\u001b[0m\u001b[0;34m=\u001b[0m\u001b[0;32mNone\u001b[0m\u001b[0;34m)\u001b[0m\u001b[0;34m:\u001b[0m\u001b[0;34m\u001b[0m\u001b[0;34m\u001b[0m\u001b[0m\n\u001b[0;32m--> 638\u001b[0;31m         \u001b[0mself\u001b[0m\u001b[0;34m.\u001b[0m\u001b[0mwait\u001b[0m\u001b[0;34m(\u001b[0m\u001b[0mtimeout\u001b[0m\u001b[0;34m)\u001b[0m\u001b[0;34m\u001b[0m\u001b[0;34m\u001b[0m\u001b[0m\n\u001b[0m\u001b[1;32m    639\u001b[0m         \u001b[0;32mif\u001b[0m \u001b[0;32mnot\u001b[0m \u001b[0mself\u001b[0m\u001b[0;34m.\u001b[0m\u001b[0mready\u001b[0m\u001b[0;34m(\u001b[0m\u001b[0;34m)\u001b[0m\u001b[0;34m:\u001b[0m\u001b[0;34m\u001b[0m\u001b[0;34m\u001b[0m\u001b[0m\n\u001b[1;32m    640\u001b[0m             \u001b[0;32mraise\u001b[0m \u001b[0mTimeoutError\u001b[0m\u001b[0;34m\u001b[0m\u001b[0;34m\u001b[0m\u001b[0m\n",
            "\u001b[0;32m/usr/lib/python3.6/multiprocessing/pool.py\u001b[0m in \u001b[0;36mwait\u001b[0;34m(self, timeout)\u001b[0m\n\u001b[1;32m    633\u001b[0m \u001b[0;34m\u001b[0m\u001b[0m\n\u001b[1;32m    634\u001b[0m     \u001b[0;32mdef\u001b[0m \u001b[0mwait\u001b[0m\u001b[0;34m(\u001b[0m\u001b[0mself\u001b[0m\u001b[0;34m,\u001b[0m \u001b[0mtimeout\u001b[0m\u001b[0;34m=\u001b[0m\u001b[0;32mNone\u001b[0m\u001b[0;34m)\u001b[0m\u001b[0;34m:\u001b[0m\u001b[0;34m\u001b[0m\u001b[0;34m\u001b[0m\u001b[0m\n\u001b[0;32m--> 635\u001b[0;31m         \u001b[0mself\u001b[0m\u001b[0;34m.\u001b[0m\u001b[0m_event\u001b[0m\u001b[0;34m.\u001b[0m\u001b[0mwait\u001b[0m\u001b[0;34m(\u001b[0m\u001b[0mtimeout\u001b[0m\u001b[0;34m)\u001b[0m\u001b[0;34m\u001b[0m\u001b[0;34m\u001b[0m\u001b[0m\n\u001b[0m\u001b[1;32m    636\u001b[0m \u001b[0;34m\u001b[0m\u001b[0m\n\u001b[1;32m    637\u001b[0m     \u001b[0;32mdef\u001b[0m \u001b[0mget\u001b[0m\u001b[0;34m(\u001b[0m\u001b[0mself\u001b[0m\u001b[0;34m,\u001b[0m \u001b[0mtimeout\u001b[0m\u001b[0;34m=\u001b[0m\u001b[0;32mNone\u001b[0m\u001b[0;34m)\u001b[0m\u001b[0;34m:\u001b[0m\u001b[0;34m\u001b[0m\u001b[0;34m\u001b[0m\u001b[0m\n",
            "\u001b[0;32m/usr/lib/python3.6/threading.py\u001b[0m in \u001b[0;36mwait\u001b[0;34m(self, timeout)\u001b[0m\n\u001b[1;32m    549\u001b[0m             \u001b[0msignaled\u001b[0m \u001b[0;34m=\u001b[0m \u001b[0mself\u001b[0m\u001b[0;34m.\u001b[0m\u001b[0m_flag\u001b[0m\u001b[0;34m\u001b[0m\u001b[0;34m\u001b[0m\u001b[0m\n\u001b[1;32m    550\u001b[0m             \u001b[0;32mif\u001b[0m \u001b[0;32mnot\u001b[0m \u001b[0msignaled\u001b[0m\u001b[0;34m:\u001b[0m\u001b[0;34m\u001b[0m\u001b[0;34m\u001b[0m\u001b[0m\n\u001b[0;32m--> 551\u001b[0;31m                 \u001b[0msignaled\u001b[0m \u001b[0;34m=\u001b[0m \u001b[0mself\u001b[0m\u001b[0;34m.\u001b[0m\u001b[0m_cond\u001b[0m\u001b[0;34m.\u001b[0m\u001b[0mwait\u001b[0m\u001b[0;34m(\u001b[0m\u001b[0mtimeout\u001b[0m\u001b[0;34m)\u001b[0m\u001b[0;34m\u001b[0m\u001b[0;34m\u001b[0m\u001b[0m\n\u001b[0m\u001b[1;32m    552\u001b[0m             \u001b[0;32mreturn\u001b[0m \u001b[0msignaled\u001b[0m\u001b[0;34m\u001b[0m\u001b[0;34m\u001b[0m\u001b[0m\n\u001b[1;32m    553\u001b[0m \u001b[0;34m\u001b[0m\u001b[0m\n",
            "\u001b[0;32m/usr/lib/python3.6/threading.py\u001b[0m in \u001b[0;36mwait\u001b[0;34m(self, timeout)\u001b[0m\n\u001b[1;32m    293\u001b[0m         \u001b[0;32mtry\u001b[0m\u001b[0;34m:\u001b[0m    \u001b[0;31m# restore state no matter what (e.g., KeyboardInterrupt)\u001b[0m\u001b[0;34m\u001b[0m\u001b[0;34m\u001b[0m\u001b[0m\n\u001b[1;32m    294\u001b[0m             \u001b[0;32mif\u001b[0m \u001b[0mtimeout\u001b[0m \u001b[0;32mis\u001b[0m \u001b[0;32mNone\u001b[0m\u001b[0;34m:\u001b[0m\u001b[0;34m\u001b[0m\u001b[0;34m\u001b[0m\u001b[0m\n\u001b[0;32m--> 295\u001b[0;31m                 \u001b[0mwaiter\u001b[0m\u001b[0;34m.\u001b[0m\u001b[0macquire\u001b[0m\u001b[0;34m(\u001b[0m\u001b[0;34m)\u001b[0m\u001b[0;34m\u001b[0m\u001b[0;34m\u001b[0m\u001b[0m\n\u001b[0m\u001b[1;32m    296\u001b[0m                 \u001b[0mgotit\u001b[0m \u001b[0;34m=\u001b[0m \u001b[0;32mTrue\u001b[0m\u001b[0;34m\u001b[0m\u001b[0;34m\u001b[0m\u001b[0m\n\u001b[1;32m    297\u001b[0m             \u001b[0;32melse\u001b[0m\u001b[0;34m:\u001b[0m\u001b[0;34m\u001b[0m\u001b[0;34m\u001b[0m\u001b[0m\n",
            "\u001b[0;31mKeyboardInterrupt\u001b[0m: "
          ]
        }
      ]
    },
    {
      "cell_type": "code",
      "metadata": {
        "id": "rFEWBTQXSN5W",
        "colab_type": "code",
        "outputId": "276c40f4-3188-48f0-baae-017684bdb6f8",
        "colab": {
          "base_uri": "https://localhost:8080/",
          "height": 88
        }
      },
      "source": [
        "lr = LogisticRegression(penalty= 'l1', C=0.9, solver='saga', n_jobs=-1)\n",
        "lr.fit(df_woe[:tr_s], df.isFraud[:tr_s])\n",
        "train_pred = lr.predict_proba(df_woe[tr_s:])[:,1]\n",
        "auc2 = roc_auc_score(df.isFraud[tr_s:], train_pred)\n",
        "print(auc2)"
      ],
      "execution_count": 0,
      "outputs": [
        {
          "output_type": "stream",
          "text": [
            "/usr/local/lib/python3.6/dist-packages/sklearn/linear_model/sag.py:337: ConvergenceWarning: The max_iter was reached which means the coef_ did not converge\n",
            "  \"the coef_ did not converge\", ConvergenceWarning)\n"
          ],
          "name": "stderr"
        },
        {
          "output_type": "stream",
          "text": [
            "0.8332852576510128\n"
          ],
          "name": "stdout"
        }
      ]
    },
    {
      "cell_type": "code",
      "metadata": {
        "id": "5i8MuhjTPbzY",
        "colab_type": "code",
        "outputId": "f2e6b66e-7339-41ea-bd84-63fc25109874",
        "colab": {
          "base_uri": "https://localhost:8080/",
          "height": 614
        }
      },
      "source": [
        "from sklearn.metrics import precision_recall_curve\n",
        "p_bm, r_bm, th = precision_recall_curve(df.isFraud[tr_s:], train_pred)\n",
        "\n",
        "plot(p_bm, r_bm)\n",
        "ylabel('Recall', size = 18)\n",
        "xlabel('Precision', size = 18)\n",
        "show()"
      ],
      "execution_count": 0,
      "outputs": [
        {
          "output_type": "display_data",
          "data": {
            "image/png": "[encoded data removed]",
            "text/plain": [
              "<Figure size 720x720 with 1 Axes>"
            ]
          },
          "metadata": {
            "tags": []
          }
        }
      ]
    },
    {
      "cell_type": "code",
      "metadata": {
        "id": "Z70lx5AOSfM4",
        "colab_type": "code",
        "colab": {}
      },
      "source": [
        "test_pred = lr.predict_proba(df_test_woe.fillna(0))[:,1]\n",
        "submission = pd.DataFrame({'TransactionID':df_test['TransactionID'], 'isFraud': test_pred})\n",
        "submission.to_csv('/content/drive/My Drive/Colab Notebooks/submission_104.csv', index = False)"
      ],
      "execution_count": 0,
      "outputs": []
    },
    {
      "cell_type": "code",
      "metadata": {
        "id": "WC2Jd4sIS42g",
        "colab_type": "code",
        "outputId": "101b06fa-f520-4dea-a346-2e1ae121affc",
        "colab": {
          "base_uri": "https://localhost:8080/",
          "height": 34
        }
      },
      "source": [
        "# trying out random forest\n",
        "\n",
        "from sklearn.ensemble import RandomForestClassifier\n",
        "\n",
        "clf = RandomForestClassifier(max_depth=10, n_estimators=10, max_features = 0.7, random_state=0)\n",
        "clf.fit(df_woe[final_vars], df.isFraud)\n",
        "\n",
        "train_pred = clf.predict_proba(df_woe[final_vars][tr_s:])[:,1]\n",
        "auc2 = roc_auc_score(df.isFraud[tr_s:], train_pred)\n",
        "print(auc2)"
      ],
      "execution_count": 0,
      "outputs": [
        {
          "output_type": "stream",
          "text": [
            "0.8486206330397097\n"
          ],
          "name": "stdout"
        }
      ]
    },
    {
      "cell_type": "markdown",
      "metadata": {
        "id": "_GMDLMOyUgHz",
        "colab_type": "text"
      },
      "source": [
        "## It is already better: see if some tuning can help:"
      ]
    },
    {
      "cell_type": "code",
      "metadata": {
        "id": "XiXTQMUOUUKP",
        "colab_type": "code",
        "outputId": "91d75430-7b2b-4088-8bcd-ca8aa9cc1ace",
        "colab": {
          "base_uri": "https://localhost:8080/",
          "height": 357
        }
      },
      "source": [
        "C_par = [5, 7, 10, 15, 20]\n",
        "penalty_par = [10, 20, 30, 100]\n",
        "\n",
        "for i in C_par:\n",
        "  for j in penalty_par:\n",
        "    lr = RandomForestClassifier(max_depth=i, n_estimators=j, max_features = 0.7, random_state=0, warm_start=False)\n",
        "    lr.fit(df_woe[final_vars][:tr_s], df.isFraud[:tr_s])\n",
        "    train_pred = lr.predict_proba(df_woe[final_vars][tr_s:])[:,1]\n",
        "    auc2 = roc_auc_score(df.isFraud[tr_s:], train_pred)\n",
        "    print('auc: ' + str(round(auc2, 4))+ ' max_depth: ' + str(i)+ ' n_estimators: ' + str(j))"
      ],
      "execution_count": 0,
      "outputs": [
        {
          "output_type": "stream",
          "text": [
            "auc: 0.8208 max_depth: 5 n_estimators: 10\n",
            "auc: 0.8249 max_depth: 5 n_estimators: 20\n",
            "auc: 0.8249 max_depth: 5 n_estimators: 30\n",
            "auc: 0.8261 max_depth: 5 n_estimators: 100\n",
            "auc: 0.8284 max_depth: 7 n_estimators: 10\n",
            "auc: 0.8293 max_depth: 7 n_estimators: 20\n",
            "auc: 0.8296 max_depth: 7 n_estimators: 30\n",
            "auc: 0.8301 max_depth: 7 n_estimators: 100\n",
            "auc: 0.8181 max_depth: 10 n_estimators: 10\n",
            "auc: 0.8209 max_depth: 10 n_estimators: 20\n",
            "auc: 0.8215 max_depth: 10 n_estimators: 30\n",
            "auc: 0.822 max_depth: 10 n_estimators: 100\n",
            "auc: 0.8099 max_depth: 15 n_estimators: 10\n",
            "auc: 0.8112 max_depth: 15 n_estimators: 20\n",
            "auc: 0.8115 max_depth: 15 n_estimators: 30\n",
            "auc: 0.8117 max_depth: 15 n_estimators: 100\n",
            "auc: 0.81 max_depth: 20 n_estimators: 10\n",
            "auc: 0.8111 max_depth: 20 n_estimators: 20\n",
            "auc: 0.8114 max_depth: 20 n_estimators: 30\n",
            "auc: 0.8118 max_depth: 20 n_estimators: 100\n"
          ],
          "name": "stdout"
        }
      ]
    },
    {
      "cell_type": "code",
      "metadata": {
        "id": "tYLc7Q4HU6OS",
        "colab_type": "code",
        "outputId": "dce516ff-ae5a-4dae-b066-2137752d02f2",
        "colab": {
          "base_uri": "https://localhost:8080/",
          "height": 34
        }
      },
      "source": [
        "# trying out random forest\n",
        "\n",
        "from sklearn.ensemble import RandomForestClassifier\n",
        "\n",
        "clf = RandomForestClassifier(max_depth=10, n_estimators=10, max_features = 0.7, random_state=0)\n",
        "clf.fit(df_woe[final_vars], df.isFraud)\n",
        "\n",
        "train_pred = clf.predict_proba(df_woe[final_vars][tr_s:])[:,1]\n",
        "auc2 = roc_auc_score(df.isFraud[tr_s:], train_pred)\n",
        "print(auc2)"
      ],
      "execution_count": 48,
      "outputs": [
        {
          "output_type": "stream",
          "text": [
            "0.8486206330397097\n"
          ],
          "name": "stdout"
        }
      ]
    },
    {
      "cell_type": "code",
      "metadata": {
        "id": "lxLjak-6WSRZ",
        "colab_type": "code",
        "outputId": "764ea8b1-4f34-47ec-a745-c36cda0d3863",
        "colab": {
          "base_uri": "https://localhost:8080/",
          "height": 614
        }
      },
      "source": [
        "from sklearn.metrics import precision_recall_curve\n",
        "p_rf0, r_rf0, th = precision_recall_curve(df.isFraud[tr_s:], train_pred)\n",
        "\n",
        "plot(p_rf0, r_rf0)\n",
        "ylabel('Recall', size = 18)\n",
        "xlabel('Precision', size = 18)\n",
        "show()"
      ],
      "execution_count": 51,
      "outputs": [
        {
          "output_type": "display_data",
          "data": {
            "image/png": "[encoded data removed]",
            "text/plain": [
              "<Figure size 720x720 with 1 Axes>"
            ]
          },
          "metadata": {
            "tags": []
          }
        }
      ]
    },
    {
      "cell_type": "code",
      "metadata": {
        "id": "o3AFdSarWZt7",
        "colab_type": "code",
        "colab": {}
      },
      "source": [
        "test_pred = clf.predict_proba(df_test_woe[final_vars].fillna(0))[:,1]\n",
        "submission = pd.DataFrame({'TransactionID':df_test['TransactionID'], 'isFraud': test_pred})\n",
        "submission.to_csv('/content/drive/My Drive/Colab Notebooks/submission_rf0.csv', index = False)"
      ],
      "execution_count": 0,
      "outputs": []
    },
    {
      "cell_type": "markdown",
      "metadata": {
        "id": "yv74YYKUWeFx",
        "colab_type": "text"
      },
      "source": [
        "## what happens if not woe-binned :"
      ]
    },
    {
      "cell_type": "code",
      "metadata": {
        "id": "u7thGOufXHm-",
        "colab_type": "code",
        "colab": {}
      },
      "source": [
        "final_vars\n",
        "final_not_woe = []\n",
        "for i in final_vars:\n",
        "    final_not_woe.append(i.replace('_woe',''))"
      ],
      "execution_count": 0,
      "outputs": []
    },
    {
      "cell_type": "code",
      "metadata": {
        "id": "jQLv8TbgXnml",
        "colab_type": "code",
        "outputId": "93c710a8-6981-4db9-c03c-23391840a881",
        "colab": {
          "base_uri": "https://localhost:8080/",
          "height": 34
        }
      },
      "source": [
        "final_not_woe"
      ],
      "execution_count": 53,
      "outputs": [
        {
          "output_type": "execute_result",
          "data": {
            "text/plain": [
              "['C11', 'C13', 'C5', 'D10', 'V280', 'V45']"
            ]
          },
          "metadata": {
            "tags": []
          },
          "execution_count": 53
        }
      ]
    },
    {
      "cell_type": "code",
      "metadata": {
        "id": "LwhdT9YXWuy-",
        "colab_type": "code",
        "outputId": "b15ba22c-156b-4f1e-95bc-2652e50c44f7",
        "colab": {
          "base_uri": "https://localhost:8080/",
          "height": 136
        }
      },
      "source": [
        "clf = RandomForestClassifier(max_depth=10, n_estimators=10, max_features = 0.7, random_state=0)\n",
        "clf.fit(df[final_not_woe].fillna(0), df.isFraud)"
      ],
      "execution_count": 54,
      "outputs": [
        {
          "output_type": "execute_result",
          "data": {
            "text/plain": [
              "RandomForestClassifier(bootstrap=True, class_weight=None, criterion='gini',\n",
              "                       max_depth=10, max_features=0.7, max_leaf_nodes=None,\n",
              "                       min_impurity_decrease=0.0, min_impurity_split=None,\n",
              "                       min_samples_leaf=1, min_samples_split=2,\n",
              "                       min_weight_fraction_leaf=0.0, n_estimators=10,\n",
              "                       n_jobs=None, oob_score=False, random_state=0, verbose=0,\n",
              "                       warm_start=False)"
            ]
          },
          "metadata": {
            "tags": []
          },
          "execution_count": 54
        }
      ]
    },
    {
      "cell_type": "code",
      "metadata": {
        "id": "7YG_A2lQXvsW",
        "colab_type": "code",
        "outputId": "40f5137f-2965-437c-819b-1454c36aa20e",
        "colab": {
          "base_uri": "https://localhost:8080/",
          "height": 34
        }
      },
      "source": [
        "train_pred = clf.predict_proba(df[final_not_woe][tr_s:].fillna(0))[:,1]\n",
        "auc2 = roc_auc_score(df.isFraud[tr_s:], train_pred)\n",
        "print(auc2)"
      ],
      "execution_count": 55,
      "outputs": [
        {
          "output_type": "stream",
          "text": [
            "0.8596531277098052\n"
          ],
          "name": "stdout"
        }
      ]
    },
    {
      "cell_type": "code",
      "metadata": {
        "id": "RLjM2sJIX4Gz",
        "colab_type": "code",
        "outputId": "7e7c7b9f-339b-437e-d389-8b7890eeefa5",
        "colab": {
          "base_uri": "https://localhost:8080/",
          "height": 614
        }
      },
      "source": [
        "p_rf0, r_rf0, th = precision_recall_curve(df.isFraud[tr_s:], train_pred)\n",
        "\n",
        "plot(p_rf0, r_rf0)\n",
        "ylabel('Recall', size = 18)\n",
        "xlabel('Precision', size = 18)\n",
        "show()"
      ],
      "execution_count": 56,
      "outputs": [
        {
          "output_type": "display_data",
          "data": {
            "image/png": "[encoded data removed]",
            "text/plain": [
              "<Figure size 720x720 with 1 Axes>"
            ]
          },
          "metadata": {
            "tags": []
          }
        }
      ]
    },
    {
      "cell_type": "code",
      "metadata": {
        "id": "rqvjZA3nYFp-",
        "colab_type": "code",
        "colab": {}
      },
      "source": [
        "test_pred = clf.predict_proba(df_test[final_not_woe].fillna(0))[:,1]\n",
        "submission = pd.DataFrame({'TransactionID':df_test['TransactionID'], 'isFraud': test_pred})\n",
        "submission.to_csv('/content/drive/My Drive/Colab Notebooks/submission_rf_nw.csv', index = False)"
      ],
      "execution_count": 0,
      "outputs": []
    },
    {
      "cell_type": "code",
      "metadata": {
        "id": "TDWPeAG6YTA1",
        "colab_type": "code",
        "colab": {}
      },
      "source": [
        ""
      ],
      "execution_count": 0,
      "outputs": []
    },
    {
      "cell_type": "markdown",
      "metadata": {
        "id": "4xnQmAAtY4Z7",
        "colab_type": "text"
      },
      "source": [
        "## Ok, test it with bigger data:\n",
        "#### first with woe binning"
      ]
    },
    {
      "cell_type": "code",
      "metadata": {
        "id": "OFVrGeLLZJRd",
        "colab_type": "code",
        "outputId": "585f5df1-3ffc-480f-f326-e9ea6ce501c7",
        "colab": {
          "base_uri": "https://localhost:8080/",
          "height": 631
        }
      },
      "source": [
        "clf = RandomForestClassifier(max_depth=15, n_estimators=2, max_features = 0.7, random_state=0)\n",
        "clf.fit(df_woe[:tr_s], df.isFraud[:tr_s])\n",
        "\n",
        "train_pred = clf.predict_proba(df_woe[tr_s:].fillna(0))[:,1]\n",
        "auc2 = roc_auc_score(df.isFraud[tr_s:], train_pred)\n",
        "print(auc2)\n",
        "\n",
        "p_rf0, r_rf0, th = precision_recall_curve(df.isFraud[tr_s:], train_pred)\n",
        "\n",
        "plot(p_rf0, r_rf0)\n",
        "ylabel('Recall', size = 18)\n",
        "xlabel('Precision', size = 18)\n",
        "show()"
      ],
      "execution_count": 57,
      "outputs": [
        {
          "output_type": "stream",
          "text": [
            "0.9278801815227263\n"
          ],
          "name": "stdout"
        },
        {
          "output_type": "display_data",
          "data": {
            "image/png": "[encoded data removed]",
            "text/plain": [
              "<Figure size 720x720 with 1 Axes>"
            ]
          },
          "metadata": {
            "tags": []
          }
        }
      ]
    },
    {
      "cell_type": "markdown",
      "metadata": {
        "id": "pGOy9kw0k5KN",
        "colab_type": "text"
      },
      "source": [
        "An incredibel high precision recall"
      ]
    },
    {
      "cell_type": "code",
      "metadata": {
        "id": "efmxQoQLZn7B",
        "colab_type": "code",
        "colab": {
          "base_uri": "https://localhost:8080/",
          "height": 631
        },
        "outputId": "531577a4-b5ef-49fb-df02-1099b6530c4c"
      },
      "source": [
        "clf = RandomForestClassifier(max_depth=15, n_estimators=4, max_features = 0.7, random_state=0)\n",
        "clf.fit(df_woe[:tr_s], df.isFraud[:tr_s])\n",
        "\n",
        "train_pred = clf.predict_proba(df_woe[tr_s:].fillna(0))[:,1]\n",
        "auc2 = roc_auc_score(df.isFraud[tr_s:], train_pred)\n",
        "print(auc2)\n",
        "\n",
        "p_rf0, r_rf0, th = precision_recall_curve(df.isFraud[tr_s:], train_pred)\n",
        "\n",
        "plot(p_rf0, r_rf0)\n",
        "ylabel('Recall', size = 18)\n",
        "xlabel('Precision', size = 18)\n",
        "show()"
      ],
      "execution_count": 58,
      "outputs": [
        {
          "output_type": "stream",
          "text": [
            "0.9403797342782462\n"
          ],
          "name": "stdout"
        },
        {
          "output_type": "display_data",
          "data": {
            "image/png": "[encoded data removed]",
            "text/plain": [
              "<Figure size 720x720 with 1 Axes>"
            ]
          },
          "metadata": {
            "tags": []
          }
        }
      ]
    },
    {
      "cell_type": "code",
      "metadata": {
        "id": "c1QGevBflD_N",
        "colab_type": "code",
        "colab": {
          "base_uri": "https://localhost:8080/",
          "height": 631
        },
        "outputId": "b17e5269-f157-4eb7-d128-74a1937e8a85"
      },
      "source": [
        "clf = RandomForestClassifier(max_depth=15, n_estimators=6, max_features = 0.7, random_state=0)\n",
        "clf.fit(df_woe[:tr_s], df.isFraud[:tr_s])\n",
        "\n",
        "train_pred = clf.predict_proba(df_woe[tr_s:].fillna(0))[:,1]\n",
        "auc2 = roc_auc_score(df.isFraud[tr_s:], train_pred)\n",
        "print(auc2)\n",
        "\n",
        "p_rf0, r_rf0, th = precision_recall_curve(df.isFraud[tr_s:], train_pred)\n",
        "\n",
        "plot(p_rf0, r_rf0)\n",
        "ylabel('Recall', size = 18)\n",
        "xlabel('Precision', size = 18)\n",
        "show()"
      ],
      "execution_count": 59,
      "outputs": [
        {
          "output_type": "stream",
          "text": [
            "0.9441180442379997\n"
          ],
          "name": "stdout"
        },
        {
          "output_type": "display_data",
          "data": {
            "image/png": "[encoded data removed]",
            "text/plain": [
              "<Figure size 720x720 with 1 Axes>"
            ]
          },
          "metadata": {
            "tags": []
          }
        }
      ]
    },
    {
      "cell_type": "code",
      "metadata": {
        "id": "eQyVdmfolTUI",
        "colab_type": "code",
        "colab": {
          "base_uri": "https://localhost:8080/",
          "height": 631
        },
        "outputId": "e8f0e105-864d-4c12-feb3-6ec5f4b1f30b"
      },
      "source": [
        "clf = RandomForestClassifier(max_depth=15, n_estimators=10, max_features = 0.7, random_state=0)\n",
        "clf.fit(df_woe, df.isFraud)\n",
        "\n",
        "train_pred = clf.predict_proba(df_woe[tr_s:].fillna(0))[:,1]\n",
        "auc2 = roc_auc_score(df.isFraud[tr_s:], train_pred)\n",
        "print(auc2)\n",
        "\n",
        "p_rf0, r_rf0, th = precision_recall_curve(df.isFraud[tr_s:], train_pred)\n",
        "\n",
        "plot(p_rf0, r_rf0)\n",
        "ylabel('Recall', size = 18)\n",
        "xlabel('Precision', size = 18)\n",
        "show()"
      ],
      "execution_count": 60,
      "outputs": [
        {
          "output_type": "stream",
          "text": [
            "0.9463054453796587\n"
          ],
          "name": "stdout"
        },
        {
          "output_type": "display_data",
          "data": {
            "image/png": "[encoded data removed]",
            "text/plain": [
              "<Figure size 720x720 with 1 Axes>"
            ]
          },
          "metadata": {
            "tags": []
          }
        }
      ]
    },
    {
      "cell_type": "code",
      "metadata": {
        "id": "ofCTABSplxXu",
        "colab_type": "code",
        "colab": {
          "base_uri": "https://localhost:8080/",
          "height": 136
        },
        "outputId": "03e97c24-2668-4789-94e1-63b5f9ef2055"
      },
      "source": [
        "clf = RandomForestClassifier(max_depth=15, n_estimators=10, max_features = 0.7, random_state=0)\n",
        "clf.fit(df_woe, df.isFraud)\n",
        "\n"
      ],
      "execution_count": 61,
      "outputs": [
        {
          "output_type": "execute_result",
          "data": {
            "text/plain": [
              "RandomForestClassifier(bootstrap=True, class_weight=None, criterion='gini',\n",
              "                       max_depth=15, max_features=0.7, max_leaf_nodes=None,\n",
              "                       min_impurity_decrease=0.0, min_impurity_split=None,\n",
              "                       min_samples_leaf=1, min_samples_split=2,\n",
              "                       min_weight_fraction_leaf=0.0, n_estimators=10,\n",
              "                       n_jobs=None, oob_score=False, random_state=0, verbose=0,\n",
              "                       warm_start=False)"
            ]
          },
          "metadata": {
            "tags": []
          },
          "execution_count": 61
        }
      ]
    },
    {
      "cell_type": "code",
      "metadata": {
        "id": "ITtNjzO4lnrG",
        "colab_type": "code",
        "colab": {}
      },
      "source": [
        "test_pred = clf.predict_proba(df_test_woe.fillna(0))[:,1]\n",
        "submission = pd.DataFrame({'TransactionID':df_test['TransactionID'], 'isFraud': test_pred})\n",
        "submission.to_csv('/content/drive/My Drive/Colab Notebooks/submission_rf_big_w.csv', index = False)"
      ],
      "execution_count": 0,
      "outputs": []
    },
    {
      "cell_type": "markdown",
      "metadata": {
        "id": "VWvvEuyXm5Zg",
        "colab_type": "text"
      },
      "source": [
        "## Trying out without woe binning"
      ]
    },
    {
      "cell_type": "code",
      "metadata": {
        "id": "nI_XTBmGn_ms",
        "colab_type": "code",
        "colab": {
          "base_uri": "https://localhost:8080/",
          "height": 119
        },
        "outputId": "0017b69f-ad3c-4231-fae8-390b200e5df8"
      },
      "source": [
        "df.dtypes.head()"
      ],
      "execution_count": 84,
      "outputs": [
        {
          "output_type": "execute_result",
          "data": {
            "text/plain": [
              "TransactionID       int64\n",
              "isFraud             int64\n",
              "TransactionDT       int64\n",
              "TransactionAmt    float64\n",
              "ProductCD          object\n",
              "dtype: object"
            ]
          },
          "metadata": {
            "tags": []
          },
          "execution_count": 84
        }
      ]
    },
    {
      "cell_type": "code",
      "metadata": {
        "id": "VplH1pJGmeEH",
        "colab_type": "code",
        "colab": {
          "base_uri": "https://localhost:8080/",
          "height": 631
        },
        "outputId": "fd0d8ae1-45fb-43ab-c891-23f6db9c07c3"
      },
      "source": [
        "clf = RandomForestClassifier(max_depth=15, n_estimators=20, max_features = 0.8, random_state=0)\n",
        "clf.fit(df[list(df_to_woe.columns)][:tr_s].fillna(0).select_dtypes(exclude = 'object'), df[:tr_s].isFraud)\n",
        "\n",
        "train_pred = clf.predict_proba(df[list(df_to_woe.columns)][tr_s:].fillna(0).select_dtypes(exclude = 'object'))[:,1]\n",
        "auc2 = roc_auc_score(df.isFraud[tr_s:], train_pred)\n",
        "print(auc2)\n",
        "\n",
        "p_rf0, r_rf0, th = precision_recall_curve(df.isFraud[tr_s:], train_pred)\n",
        "\n",
        "plot(p_rf0, r_rf0)\n",
        "ylabel('Recall', size = 18)\n",
        "xlabel('Precision', size = 18)\n",
        "show()"
      ],
      "execution_count": 90,
      "outputs": [
        {
          "output_type": "stream",
          "text": [
            "0.8445158131934649\n"
          ],
          "name": "stdout"
        },
        {
          "output_type": "display_data",
          "data": {
            "image/png": "[encoded data removed]",
            "text/plain": [
              "<Figure size 720x720 with 1 Axes>"
            ]
          },
          "metadata": {
            "tags": []
          }
        }
      ]
    },
    {
      "cell_type": "code",
      "metadata": {
        "id": "T17zIfHZnL9T",
        "colab_type": "code",
        "colab": {
          "base_uri": "https://localhost:8080/",
          "height": 439
        },
        "outputId": "9ec7a198-bec4-4d34-eaf4-3f9650e0c35e"
      },
      "source": [
        "df[list(df_to_woe.columns)][:tr_s].fillna(0).select_dtypes(exclude = 'object')"
      ],
      "execution_count": 88,
      "outputs": [
        {
          "output_type": "execute_result",
          "data": {
            "text/html": [
              "<div>\n",
              "<style scoped>\n",
              "    .dataframe tbody tr th:only-of-type {\n",
              "        vertical-align: middle;\n",
              "    }\n",
              "\n",
              "    .dataframe tbody tr th {\n",
              "        vertical-align: top;\n",
              "    }\n",
              "\n",
              "    .dataframe thead th {\n",
              "        text-align: right;\n",
              "    }\n",
              "</style>\n",
              "<table border=\"1\" class=\"dataframe\">\n",
              "  <thead>\n",
              "    <tr style=\"text-align: right;\">\n",
              "      <th></th>\n",
              "      <th>V308</th>\n",
              "      <th>V56</th>\n",
              "      <th>V92</th>\n",
              "      <th>addr1</th>\n",
              "      <th>V64</th>\n",
              "      <th>C1</th>\n",
              "      <th>V42</th>\n",
              "      <th>V2</th>\n",
              "      <th>V43</th>\n",
              "      <th>V13</th>\n",
              "      <th>V10</th>\n",
              "      <th>V71</th>\n",
              "      <th>C2</th>\n",
              "      <th>V1</th>\n",
              "      <th>V40</th>\n",
              "      <th>V9</th>\n",
              "      <th>V15</th>\n",
              "      <th>V29</th>\n",
              "      <th>C11</th>\n",
              "      <th>V4</th>\n",
              "      <th>D2</th>\n",
              "      <th>V72</th>\n",
              "      <th>V74</th>\n",
              "      <th>V16</th>\n",
              "      <th>D4</th>\n",
              "      <th>V93</th>\n",
              "      <th>V59</th>\n",
              "      <th>V78</th>\n",
              "      <th>V60</th>\n",
              "      <th>V50</th>\n",
              "      <th>V81</th>\n",
              "      <th>V38</th>\n",
              "      <th>V70</th>\n",
              "      <th>V57</th>\n",
              "      <th>V6</th>\n",
              "      <th>V282</th>\n",
              "      <th>V49</th>\n",
              "      <th>D5</th>\n",
              "      <th>V11</th>\n",
              "      <th>V75</th>\n",
              "      <th>...</th>\n",
              "      <th>V84</th>\n",
              "      <th>card5</th>\n",
              "      <th>C14</th>\n",
              "      <th>V21</th>\n",
              "      <th>V3</th>\n",
              "      <th>V17</th>\n",
              "      <th>V79</th>\n",
              "      <th>V39</th>\n",
              "      <th>V69</th>\n",
              "      <th>V94</th>\n",
              "      <th>V303</th>\n",
              "      <th>C5</th>\n",
              "      <th>V5</th>\n",
              "      <th>V90</th>\n",
              "      <th>V8</th>\n",
              "      <th>V73</th>\n",
              "      <th>V32</th>\n",
              "      <th>D3</th>\n",
              "      <th>dist1</th>\n",
              "      <th>V87</th>\n",
              "      <th>V54</th>\n",
              "      <th>V304</th>\n",
              "      <th>V283</th>\n",
              "      <th>V36</th>\n",
              "      <th>V18</th>\n",
              "      <th>V48</th>\n",
              "      <th>V51</th>\n",
              "      <th>V302</th>\n",
              "      <th>C13</th>\n",
              "      <th>V63</th>\n",
              "      <th>V280</th>\n",
              "      <th>V12</th>\n",
              "      <th>V52</th>\n",
              "      <th>D11</th>\n",
              "      <th>D1</th>\n",
              "      <th>card3</th>\n",
              "      <th>V7</th>\n",
              "      <th>V53</th>\n",
              "      <th>D15</th>\n",
              "      <th>V58</th>\n",
              "    </tr>\n",
              "  </thead>\n",
              "  <tbody>\n",
              "    <tr>\n",
              "      <th>0</th>\n",
              "      <td>0.000000</td>\n",
              "      <td>1.0</td>\n",
              "      <td>0.0</td>\n",
              "      <td>315.0</td>\n",
              "      <td>0.0</td>\n",
              "      <td>1.0</td>\n",
              "      <td>0.0</td>\n",
              "      <td>1.0</td>\n",
              "      <td>0.0</td>\n",
              "      <td>1.0</td>\n",
              "      <td>0.0</td>\n",
              "      <td>0.0</td>\n",
              "      <td>1.0</td>\n",
              "      <td>1.0</td>\n",
              "      <td>0.0</td>\n",
              "      <td>1.0</td>\n",
              "      <td>0.0</td>\n",
              "      <td>0.0</td>\n",
              "      <td>2.0</td>\n",
              "      <td>1.0</td>\n",
              "      <td>0.0</td>\n",
              "      <td>0.0</td>\n",
              "      <td>0.0</td>\n",
              "      <td>0.0</td>\n",
              "      <td>0.0</td>\n",
              "      <td>0.0</td>\n",
              "      <td>0.0</td>\n",
              "      <td>1.0</td>\n",
              "      <td>0.0</td>\n",
              "      <td>0.0</td>\n",
              "      <td>0.0</td>\n",
              "      <td>0.0</td>\n",
              "      <td>0.0</td>\n",
              "      <td>0.0</td>\n",
              "      <td>1.0</td>\n",
              "      <td>1.0</td>\n",
              "      <td>0.0</td>\n",
              "      <td>0.0</td>\n",
              "      <td>0.0</td>\n",
              "      <td>1.0</td>\n",
              "      <td>...</td>\n",
              "      <td>0.0</td>\n",
              "      <td>142.0</td>\n",
              "      <td>1.0</td>\n",
              "      <td>0.0</td>\n",
              "      <td>1.0</td>\n",
              "      <td>0.0</td>\n",
              "      <td>0.0</td>\n",
              "      <td>0.0</td>\n",
              "      <td>0.0</td>\n",
              "      <td>0.0</td>\n",
              "      <td>0.0</td>\n",
              "      <td>0.0</td>\n",
              "      <td>1.0</td>\n",
              "      <td>0.0</td>\n",
              "      <td>1.0</td>\n",
              "      <td>0.0</td>\n",
              "      <td>0.0</td>\n",
              "      <td>13.0</td>\n",
              "      <td>19.0</td>\n",
              "      <td>1.0</td>\n",
              "      <td>1.0</td>\n",
              "      <td>0.0</td>\n",
              "      <td>1.0</td>\n",
              "      <td>0.0</td>\n",
              "      <td>0.0</td>\n",
              "      <td>0.0</td>\n",
              "      <td>0.0</td>\n",
              "      <td>0.0</td>\n",
              "      <td>1.0</td>\n",
              "      <td>0.0</td>\n",
              "      <td>0.0</td>\n",
              "      <td>1.0</td>\n",
              "      <td>0.0</td>\n",
              "      <td>13.0</td>\n",
              "      <td>14.0</td>\n",
              "      <td>150.0</td>\n",
              "      <td>1.0</td>\n",
              "      <td>1.0</td>\n",
              "      <td>0.0</td>\n",
              "      <td>0.0</td>\n",
              "    </tr>\n",
              "    <tr>\n",
              "      <th>1</th>\n",
              "      <td>0.000000</td>\n",
              "      <td>1.0</td>\n",
              "      <td>0.0</td>\n",
              "      <td>325.0</td>\n",
              "      <td>0.0</td>\n",
              "      <td>1.0</td>\n",
              "      <td>0.0</td>\n",
              "      <td>0.0</td>\n",
              "      <td>0.0</td>\n",
              "      <td>0.0</td>\n",
              "      <td>0.0</td>\n",
              "      <td>0.0</td>\n",
              "      <td>1.0</td>\n",
              "      <td>0.0</td>\n",
              "      <td>0.0</td>\n",
              "      <td>0.0</td>\n",
              "      <td>0.0</td>\n",
              "      <td>0.0</td>\n",
              "      <td>1.0</td>\n",
              "      <td>0.0</td>\n",
              "      <td>0.0</td>\n",
              "      <td>0.0</td>\n",
              "      <td>0.0</td>\n",
              "      <td>0.0</td>\n",
              "      <td>0.0</td>\n",
              "      <td>0.0</td>\n",
              "      <td>0.0</td>\n",
              "      <td>1.0</td>\n",
              "      <td>0.0</td>\n",
              "      <td>0.0</td>\n",
              "      <td>0.0</td>\n",
              "      <td>1.0</td>\n",
              "      <td>0.0</td>\n",
              "      <td>0.0</td>\n",
              "      <td>0.0</td>\n",
              "      <td>1.0</td>\n",
              "      <td>0.0</td>\n",
              "      <td>0.0</td>\n",
              "      <td>0.0</td>\n",
              "      <td>0.0</td>\n",
              "      <td>...</td>\n",
              "      <td>0.0</td>\n",
              "      <td>102.0</td>\n",
              "      <td>1.0</td>\n",
              "      <td>0.0</td>\n",
              "      <td>0.0</td>\n",
              "      <td>0.0</td>\n",
              "      <td>0.0</td>\n",
              "      <td>0.0</td>\n",
              "      <td>0.0</td>\n",
              "      <td>0.0</td>\n",
              "      <td>0.0</td>\n",
              "      <td>0.0</td>\n",
              "      <td>0.0</td>\n",
              "      <td>0.0</td>\n",
              "      <td>0.0</td>\n",
              "      <td>0.0</td>\n",
              "      <td>0.0</td>\n",
              "      <td>0.0</td>\n",
              "      <td>0.0</td>\n",
              "      <td>1.0</td>\n",
              "      <td>0.0</td>\n",
              "      <td>0.0</td>\n",
              "      <td>1.0</td>\n",
              "      <td>0.0</td>\n",
              "      <td>0.0</td>\n",
              "      <td>0.0</td>\n",
              "      <td>0.0</td>\n",
              "      <td>0.0</td>\n",
              "      <td>1.0</td>\n",
              "      <td>0.0</td>\n",
              "      <td>0.0</td>\n",
              "      <td>0.0</td>\n",
              "      <td>0.0</td>\n",
              "      <td>0.0</td>\n",
              "      <td>0.0</td>\n",
              "      <td>150.0</td>\n",
              "      <td>0.0</td>\n",
              "      <td>0.0</td>\n",
              "      <td>0.0</td>\n",
              "      <td>0.0</td>\n",
              "    </tr>\n",
              "    <tr>\n",
              "      <th>2</th>\n",
              "      <td>0.000000</td>\n",
              "      <td>1.0</td>\n",
              "      <td>0.0</td>\n",
              "      <td>330.0</td>\n",
              "      <td>0.0</td>\n",
              "      <td>1.0</td>\n",
              "      <td>0.0</td>\n",
              "      <td>1.0</td>\n",
              "      <td>0.0</td>\n",
              "      <td>1.0</td>\n",
              "      <td>0.0</td>\n",
              "      <td>0.0</td>\n",
              "      <td>1.0</td>\n",
              "      <td>1.0</td>\n",
              "      <td>0.0</td>\n",
              "      <td>1.0</td>\n",
              "      <td>0.0</td>\n",
              "      <td>0.0</td>\n",
              "      <td>1.0</td>\n",
              "      <td>1.0</td>\n",
              "      <td>0.0</td>\n",
              "      <td>0.0</td>\n",
              "      <td>0.0</td>\n",
              "      <td>0.0</td>\n",
              "      <td>0.0</td>\n",
              "      <td>0.0</td>\n",
              "      <td>0.0</td>\n",
              "      <td>1.0</td>\n",
              "      <td>0.0</td>\n",
              "      <td>0.0</td>\n",
              "      <td>0.0</td>\n",
              "      <td>1.0</td>\n",
              "      <td>0.0</td>\n",
              "      <td>0.0</td>\n",
              "      <td>1.0</td>\n",
              "      <td>1.0</td>\n",
              "      <td>0.0</td>\n",
              "      <td>0.0</td>\n",
              "      <td>0.0</td>\n",
              "      <td>1.0</td>\n",
              "      <td>...</td>\n",
              "      <td>0.0</td>\n",
              "      <td>166.0</td>\n",
              "      <td>1.0</td>\n",
              "      <td>0.0</td>\n",
              "      <td>1.0</td>\n",
              "      <td>0.0</td>\n",
              "      <td>0.0</td>\n",
              "      <td>0.0</td>\n",
              "      <td>0.0</td>\n",
              "      <td>0.0</td>\n",
              "      <td>0.0</td>\n",
              "      <td>0.0</td>\n",
              "      <td>1.0</td>\n",
              "      <td>0.0</td>\n",
              "      <td>1.0</td>\n",
              "      <td>0.0</td>\n",
              "      <td>0.0</td>\n",
              "      <td>0.0</td>\n",
              "      <td>287.0</td>\n",
              "      <td>1.0</td>\n",
              "      <td>1.0</td>\n",
              "      <td>0.0</td>\n",
              "      <td>1.0</td>\n",
              "      <td>1.0</td>\n",
              "      <td>0.0</td>\n",
              "      <td>0.0</td>\n",
              "      <td>0.0</td>\n",
              "      <td>0.0</td>\n",
              "      <td>1.0</td>\n",
              "      <td>0.0</td>\n",
              "      <td>0.0</td>\n",
              "      <td>1.0</td>\n",
              "      <td>0.0</td>\n",
              "      <td>315.0</td>\n",
              "      <td>0.0</td>\n",
              "      <td>150.0</td>\n",
              "      <td>1.0</td>\n",
              "      <td>1.0</td>\n",
              "      <td>315.0</td>\n",
              "      <td>0.0</td>\n",
              "    </tr>\n",
              "    <tr>\n",
              "      <th>3</th>\n",
              "      <td>925.000000</td>\n",
              "      <td>1.0</td>\n",
              "      <td>0.0</td>\n",
              "      <td>476.0</td>\n",
              "      <td>0.0</td>\n",
              "      <td>2.0</td>\n",
              "      <td>0.0</td>\n",
              "      <td>0.0</td>\n",
              "      <td>0.0</td>\n",
              "      <td>1.0</td>\n",
              "      <td>0.0</td>\n",
              "      <td>0.0</td>\n",
              "      <td>5.0</td>\n",
              "      <td>0.0</td>\n",
              "      <td>0.0</td>\n",
              "      <td>0.0</td>\n",
              "      <td>0.0</td>\n",
              "      <td>0.0</td>\n",
              "      <td>1.0</td>\n",
              "      <td>0.0</td>\n",
              "      <td>112.0</td>\n",
              "      <td>0.0</td>\n",
              "      <td>0.0</td>\n",
              "      <td>0.0</td>\n",
              "      <td>94.0</td>\n",
              "      <td>0.0</td>\n",
              "      <td>0.0</td>\n",
              "      <td>1.0</td>\n",
              "      <td>0.0</td>\n",
              "      <td>0.0</td>\n",
              "      <td>0.0</td>\n",
              "      <td>1.0</td>\n",
              "      <td>0.0</td>\n",
              "      <td>0.0</td>\n",
              "      <td>0.0</td>\n",
              "      <td>0.0</td>\n",
              "      <td>0.0</td>\n",
              "      <td>0.0</td>\n",
              "      <td>0.0</td>\n",
              "      <td>1.0</td>\n",
              "      <td>...</td>\n",
              "      <td>0.0</td>\n",
              "      <td>117.0</td>\n",
              "      <td>1.0</td>\n",
              "      <td>0.0</td>\n",
              "      <td>0.0</td>\n",
              "      <td>0.0</td>\n",
              "      <td>0.0</td>\n",
              "      <td>0.0</td>\n",
              "      <td>0.0</td>\n",
              "      <td>0.0</td>\n",
              "      <td>0.0</td>\n",
              "      <td>0.0</td>\n",
              "      <td>0.0</td>\n",
              "      <td>0.0</td>\n",
              "      <td>0.0</td>\n",
              "      <td>0.0</td>\n",
              "      <td>0.0</td>\n",
              "      <td>0.0</td>\n",
              "      <td>0.0</td>\n",
              "      <td>1.0</td>\n",
              "      <td>1.0</td>\n",
              "      <td>0.0</td>\n",
              "      <td>0.0</td>\n",
              "      <td>1.0</td>\n",
              "      <td>0.0</td>\n",
              "      <td>0.0</td>\n",
              "      <td>0.0</td>\n",
              "      <td>0.0</td>\n",
              "      <td>25.0</td>\n",
              "      <td>0.0</td>\n",
              "      <td>28.0</td>\n",
              "      <td>1.0</td>\n",
              "      <td>0.0</td>\n",
              "      <td>0.0</td>\n",
              "      <td>112.0</td>\n",
              "      <td>150.0</td>\n",
              "      <td>0.0</td>\n",
              "      <td>1.0</td>\n",
              "      <td>111.0</td>\n",
              "      <td>0.0</td>\n",
              "    </tr>\n",
              "    <tr>\n",
              "      <th>4</th>\n",
              "      <td>0.000000</td>\n",
              "      <td>0.0</td>\n",
              "      <td>0.0</td>\n",
              "      <td>420.0</td>\n",
              "      <td>0.0</td>\n",
              "      <td>1.0</td>\n",
              "      <td>0.0</td>\n",
              "      <td>0.0</td>\n",
              "      <td>0.0</td>\n",
              "      <td>0.0</td>\n",
              "      <td>0.0</td>\n",
              "      <td>0.0</td>\n",
              "      <td>1.0</td>\n",
              "      <td>0.0</td>\n",
              "      <td>0.0</td>\n",
              "      <td>0.0</td>\n",
              "      <td>0.0</td>\n",
              "      <td>0.0</td>\n",
              "      <td>1.0</td>\n",
              "      <td>0.0</td>\n",
              "      <td>0.0</td>\n",
              "      <td>0.0</td>\n",
              "      <td>0.0</td>\n",
              "      <td>0.0</td>\n",
              "      <td>0.0</td>\n",
              "      <td>0.0</td>\n",
              "      <td>0.0</td>\n",
              "      <td>0.0</td>\n",
              "      <td>0.0</td>\n",
              "      <td>0.0</td>\n",
              "      <td>0.0</td>\n",
              "      <td>0.0</td>\n",
              "      <td>0.0</td>\n",
              "      <td>0.0</td>\n",
              "      <td>0.0</td>\n",
              "      <td>1.0</td>\n",
              "      <td>0.0</td>\n",
              "      <td>0.0</td>\n",
              "      <td>0.0</td>\n",
              "      <td>0.0</td>\n",
              "      <td>...</td>\n",
              "      <td>0.0</td>\n",
              "      <td>102.0</td>\n",
              "      <td>1.0</td>\n",
              "      <td>0.0</td>\n",
              "      <td>0.0</td>\n",
              "      <td>0.0</td>\n",
              "      <td>0.0</td>\n",
              "      <td>0.0</td>\n",
              "      <td>0.0</td>\n",
              "      <td>0.0</td>\n",
              "      <td>1.0</td>\n",
              "      <td>0.0</td>\n",
              "      <td>0.0</td>\n",
              "      <td>0.0</td>\n",
              "      <td>0.0</td>\n",
              "      <td>0.0</td>\n",
              "      <td>0.0</td>\n",
              "      <td>0.0</td>\n",
              "      <td>0.0</td>\n",
              "      <td>0.0</td>\n",
              "      <td>0.0</td>\n",
              "      <td>1.0</td>\n",
              "      <td>1.0</td>\n",
              "      <td>0.0</td>\n",
              "      <td>0.0</td>\n",
              "      <td>0.0</td>\n",
              "      <td>0.0</td>\n",
              "      <td>1.0</td>\n",
              "      <td>1.0</td>\n",
              "      <td>0.0</td>\n",
              "      <td>0.0</td>\n",
              "      <td>0.0</td>\n",
              "      <td>0.0</td>\n",
              "      <td>0.0</td>\n",
              "      <td>0.0</td>\n",
              "      <td>150.0</td>\n",
              "      <td>0.0</td>\n",
              "      <td>0.0</td>\n",
              "      <td>0.0</td>\n",
              "      <td>0.0</td>\n",
              "    </tr>\n",
              "    <tr>\n",
              "      <th>...</th>\n",
              "      <td>...</td>\n",
              "      <td>...</td>\n",
              "      <td>...</td>\n",
              "      <td>...</td>\n",
              "      <td>...</td>\n",
              "      <td>...</td>\n",
              "      <td>...</td>\n",
              "      <td>...</td>\n",
              "      <td>...</td>\n",
              "      <td>...</td>\n",
              "      <td>...</td>\n",
              "      <td>...</td>\n",
              "      <td>...</td>\n",
              "      <td>...</td>\n",
              "      <td>...</td>\n",
              "      <td>...</td>\n",
              "      <td>...</td>\n",
              "      <td>...</td>\n",
              "      <td>...</td>\n",
              "      <td>...</td>\n",
              "      <td>...</td>\n",
              "      <td>...</td>\n",
              "      <td>...</td>\n",
              "      <td>...</td>\n",
              "      <td>...</td>\n",
              "      <td>...</td>\n",
              "      <td>...</td>\n",
              "      <td>...</td>\n",
              "      <td>...</td>\n",
              "      <td>...</td>\n",
              "      <td>...</td>\n",
              "      <td>...</td>\n",
              "      <td>...</td>\n",
              "      <td>...</td>\n",
              "      <td>...</td>\n",
              "      <td>...</td>\n",
              "      <td>...</td>\n",
              "      <td>...</td>\n",
              "      <td>...</td>\n",
              "      <td>...</td>\n",
              "      <td>...</td>\n",
              "      <td>...</td>\n",
              "      <td>...</td>\n",
              "      <td>...</td>\n",
              "      <td>...</td>\n",
              "      <td>...</td>\n",
              "      <td>...</td>\n",
              "      <td>...</td>\n",
              "      <td>...</td>\n",
              "      <td>...</td>\n",
              "      <td>...</td>\n",
              "      <td>...</td>\n",
              "      <td>...</td>\n",
              "      <td>...</td>\n",
              "      <td>...</td>\n",
              "      <td>...</td>\n",
              "      <td>...</td>\n",
              "      <td>...</td>\n",
              "      <td>...</td>\n",
              "      <td>...</td>\n",
              "      <td>...</td>\n",
              "      <td>...</td>\n",
              "      <td>...</td>\n",
              "      <td>...</td>\n",
              "      <td>...</td>\n",
              "      <td>...</td>\n",
              "      <td>...</td>\n",
              "      <td>...</td>\n",
              "      <td>...</td>\n",
              "      <td>...</td>\n",
              "      <td>...</td>\n",
              "      <td>...</td>\n",
              "      <td>...</td>\n",
              "      <td>...</td>\n",
              "      <td>...</td>\n",
              "      <td>...</td>\n",
              "      <td>...</td>\n",
              "      <td>...</td>\n",
              "      <td>...</td>\n",
              "      <td>...</td>\n",
              "      <td>...</td>\n",
              "    </tr>\n",
              "    <tr>\n",
              "      <th>299995</th>\n",
              "      <td>0.000000</td>\n",
              "      <td>1.0</td>\n",
              "      <td>0.0</td>\n",
              "      <td>299.0</td>\n",
              "      <td>0.0</td>\n",
              "      <td>2.0</td>\n",
              "      <td>0.0</td>\n",
              "      <td>1.0</td>\n",
              "      <td>0.0</td>\n",
              "      <td>2.0</td>\n",
              "      <td>1.0</td>\n",
              "      <td>0.0</td>\n",
              "      <td>2.0</td>\n",
              "      <td>1.0</td>\n",
              "      <td>0.0</td>\n",
              "      <td>1.0</td>\n",
              "      <td>0.0</td>\n",
              "      <td>1.0</td>\n",
              "      <td>3.0</td>\n",
              "      <td>1.0</td>\n",
              "      <td>198.0</td>\n",
              "      <td>0.0</td>\n",
              "      <td>0.0</td>\n",
              "      <td>0.0</td>\n",
              "      <td>193.0</td>\n",
              "      <td>0.0</td>\n",
              "      <td>0.0</td>\n",
              "      <td>1.0</td>\n",
              "      <td>0.0</td>\n",
              "      <td>0.0</td>\n",
              "      <td>0.0</td>\n",
              "      <td>1.0</td>\n",
              "      <td>1.0</td>\n",
              "      <td>0.0</td>\n",
              "      <td>1.0</td>\n",
              "      <td>0.0</td>\n",
              "      <td>1.0</td>\n",
              "      <td>37.0</td>\n",
              "      <td>1.0</td>\n",
              "      <td>1.0</td>\n",
              "      <td>...</td>\n",
              "      <td>0.0</td>\n",
              "      <td>226.0</td>\n",
              "      <td>2.0</td>\n",
              "      <td>0.0</td>\n",
              "      <td>1.0</td>\n",
              "      <td>0.0</td>\n",
              "      <td>0.0</td>\n",
              "      <td>0.0</td>\n",
              "      <td>1.0</td>\n",
              "      <td>0.0</td>\n",
              "      <td>0.0</td>\n",
              "      <td>1.0</td>\n",
              "      <td>1.0</td>\n",
              "      <td>1.0</td>\n",
              "      <td>1.0</td>\n",
              "      <td>0.0</td>\n",
              "      <td>0.0</td>\n",
              "      <td>37.0</td>\n",
              "      <td>2.0</td>\n",
              "      <td>1.0</td>\n",
              "      <td>2.0</td>\n",
              "      <td>0.0</td>\n",
              "      <td>0.0</td>\n",
              "      <td>1.0</td>\n",
              "      <td>0.0</td>\n",
              "      <td>1.0</td>\n",
              "      <td>0.0</td>\n",
              "      <td>0.0</td>\n",
              "      <td>10.0</td>\n",
              "      <td>0.0</td>\n",
              "      <td>0.0</td>\n",
              "      <td>1.0</td>\n",
              "      <td>0.0</td>\n",
              "      <td>193.0</td>\n",
              "      <td>198.0</td>\n",
              "      <td>150.0</td>\n",
              "      <td>1.0</td>\n",
              "      <td>1.0</td>\n",
              "      <td>168.0</td>\n",
              "      <td>0.0</td>\n",
              "    </tr>\n",
              "    <tr>\n",
              "      <th>299996</th>\n",
              "      <td>57.950001</td>\n",
              "      <td>1.0</td>\n",
              "      <td>0.0</td>\n",
              "      <td>299.0</td>\n",
              "      <td>0.0</td>\n",
              "      <td>2.0</td>\n",
              "      <td>0.0</td>\n",
              "      <td>1.0</td>\n",
              "      <td>0.0</td>\n",
              "      <td>2.0</td>\n",
              "      <td>1.0</td>\n",
              "      <td>0.0</td>\n",
              "      <td>2.0</td>\n",
              "      <td>1.0</td>\n",
              "      <td>0.0</td>\n",
              "      <td>1.0</td>\n",
              "      <td>0.0</td>\n",
              "      <td>1.0</td>\n",
              "      <td>3.0</td>\n",
              "      <td>1.0</td>\n",
              "      <td>198.0</td>\n",
              "      <td>0.0</td>\n",
              "      <td>0.0</td>\n",
              "      <td>0.0</td>\n",
              "      <td>193.0</td>\n",
              "      <td>0.0</td>\n",
              "      <td>0.0</td>\n",
              "      <td>1.0</td>\n",
              "      <td>0.0</td>\n",
              "      <td>0.0</td>\n",
              "      <td>0.0</td>\n",
              "      <td>1.0</td>\n",
              "      <td>1.0</td>\n",
              "      <td>0.0</td>\n",
              "      <td>1.0</td>\n",
              "      <td>0.0</td>\n",
              "      <td>1.0</td>\n",
              "      <td>0.0</td>\n",
              "      <td>1.0</td>\n",
              "      <td>1.0</td>\n",
              "      <td>...</td>\n",
              "      <td>0.0</td>\n",
              "      <td>226.0</td>\n",
              "      <td>2.0</td>\n",
              "      <td>0.0</td>\n",
              "      <td>1.0</td>\n",
              "      <td>0.0</td>\n",
              "      <td>0.0</td>\n",
              "      <td>0.0</td>\n",
              "      <td>1.0</td>\n",
              "      <td>0.0</td>\n",
              "      <td>0.0</td>\n",
              "      <td>1.0</td>\n",
              "      <td>1.0</td>\n",
              "      <td>1.0</td>\n",
              "      <td>1.0</td>\n",
              "      <td>0.0</td>\n",
              "      <td>0.0</td>\n",
              "      <td>0.0</td>\n",
              "      <td>2.0</td>\n",
              "      <td>1.0</td>\n",
              "      <td>2.0</td>\n",
              "      <td>0.0</td>\n",
              "      <td>0.0</td>\n",
              "      <td>1.0</td>\n",
              "      <td>0.0</td>\n",
              "      <td>1.0</td>\n",
              "      <td>0.0</td>\n",
              "      <td>0.0</td>\n",
              "      <td>11.0</td>\n",
              "      <td>0.0</td>\n",
              "      <td>1.0</td>\n",
              "      <td>1.0</td>\n",
              "      <td>0.0</td>\n",
              "      <td>193.0</td>\n",
              "      <td>198.0</td>\n",
              "      <td>150.0</td>\n",
              "      <td>1.0</td>\n",
              "      <td>1.0</td>\n",
              "      <td>168.0</td>\n",
              "      <td>0.0</td>\n",
              "    </tr>\n",
              "    <tr>\n",
              "      <th>299997</th>\n",
              "      <td>0.000000</td>\n",
              "      <td>1.0</td>\n",
              "      <td>0.0</td>\n",
              "      <td>126.0</td>\n",
              "      <td>0.0</td>\n",
              "      <td>1.0</td>\n",
              "      <td>0.0</td>\n",
              "      <td>1.0</td>\n",
              "      <td>0.0</td>\n",
              "      <td>1.0</td>\n",
              "      <td>1.0</td>\n",
              "      <td>0.0</td>\n",
              "      <td>1.0</td>\n",
              "      <td>1.0</td>\n",
              "      <td>0.0</td>\n",
              "      <td>1.0</td>\n",
              "      <td>0.0</td>\n",
              "      <td>1.0</td>\n",
              "      <td>1.0</td>\n",
              "      <td>1.0</td>\n",
              "      <td>0.0</td>\n",
              "      <td>0.0</td>\n",
              "      <td>0.0</td>\n",
              "      <td>0.0</td>\n",
              "      <td>0.0</td>\n",
              "      <td>0.0</td>\n",
              "      <td>0.0</td>\n",
              "      <td>1.0</td>\n",
              "      <td>0.0</td>\n",
              "      <td>0.0</td>\n",
              "      <td>0.0</td>\n",
              "      <td>1.0</td>\n",
              "      <td>1.0</td>\n",
              "      <td>0.0</td>\n",
              "      <td>1.0</td>\n",
              "      <td>1.0</td>\n",
              "      <td>1.0</td>\n",
              "      <td>0.0</td>\n",
              "      <td>1.0</td>\n",
              "      <td>1.0</td>\n",
              "      <td>...</td>\n",
              "      <td>0.0</td>\n",
              "      <td>226.0</td>\n",
              "      <td>0.0</td>\n",
              "      <td>0.0</td>\n",
              "      <td>1.0</td>\n",
              "      <td>0.0</td>\n",
              "      <td>0.0</td>\n",
              "      <td>0.0</td>\n",
              "      <td>1.0</td>\n",
              "      <td>0.0</td>\n",
              "      <td>0.0</td>\n",
              "      <td>1.0</td>\n",
              "      <td>1.0</td>\n",
              "      <td>1.0</td>\n",
              "      <td>1.0</td>\n",
              "      <td>0.0</td>\n",
              "      <td>0.0</td>\n",
              "      <td>0.0</td>\n",
              "      <td>9.0</td>\n",
              "      <td>1.0</td>\n",
              "      <td>1.0</td>\n",
              "      <td>0.0</td>\n",
              "      <td>1.0</td>\n",
              "      <td>1.0</td>\n",
              "      <td>0.0</td>\n",
              "      <td>1.0</td>\n",
              "      <td>0.0</td>\n",
              "      <td>0.0</td>\n",
              "      <td>0.0</td>\n",
              "      <td>0.0</td>\n",
              "      <td>0.0</td>\n",
              "      <td>1.0</td>\n",
              "      <td>0.0</td>\n",
              "      <td>0.0</td>\n",
              "      <td>0.0</td>\n",
              "      <td>150.0</td>\n",
              "      <td>1.0</td>\n",
              "      <td>1.0</td>\n",
              "      <td>0.0</td>\n",
              "      <td>0.0</td>\n",
              "    </tr>\n",
              "    <tr>\n",
              "      <th>299998</th>\n",
              "      <td>0.000000</td>\n",
              "      <td>1.0</td>\n",
              "      <td>0.0</td>\n",
              "      <td>436.0</td>\n",
              "      <td>0.0</td>\n",
              "      <td>1.0</td>\n",
              "      <td>0.0</td>\n",
              "      <td>1.0</td>\n",
              "      <td>0.0</td>\n",
              "      <td>1.0</td>\n",
              "      <td>1.0</td>\n",
              "      <td>0.0</td>\n",
              "      <td>3.0</td>\n",
              "      <td>1.0</td>\n",
              "      <td>0.0</td>\n",
              "      <td>1.0</td>\n",
              "      <td>0.0</td>\n",
              "      <td>1.0</td>\n",
              "      <td>2.0</td>\n",
              "      <td>1.0</td>\n",
              "      <td>246.0</td>\n",
              "      <td>0.0</td>\n",
              "      <td>0.0</td>\n",
              "      <td>0.0</td>\n",
              "      <td>0.0</td>\n",
              "      <td>0.0</td>\n",
              "      <td>0.0</td>\n",
              "      <td>1.0</td>\n",
              "      <td>0.0</td>\n",
              "      <td>0.0</td>\n",
              "      <td>0.0</td>\n",
              "      <td>1.0</td>\n",
              "      <td>1.0</td>\n",
              "      <td>0.0</td>\n",
              "      <td>1.0</td>\n",
              "      <td>0.0</td>\n",
              "      <td>1.0</td>\n",
              "      <td>0.0</td>\n",
              "      <td>1.0</td>\n",
              "      <td>1.0</td>\n",
              "      <td>...</td>\n",
              "      <td>0.0</td>\n",
              "      <td>224.0</td>\n",
              "      <td>1.0</td>\n",
              "      <td>0.0</td>\n",
              "      <td>1.0</td>\n",
              "      <td>0.0</td>\n",
              "      <td>0.0</td>\n",
              "      <td>0.0</td>\n",
              "      <td>1.0</td>\n",
              "      <td>0.0</td>\n",
              "      <td>0.0</td>\n",
              "      <td>1.0</td>\n",
              "      <td>1.0</td>\n",
              "      <td>1.0</td>\n",
              "      <td>1.0</td>\n",
              "      <td>0.0</td>\n",
              "      <td>0.0</td>\n",
              "      <td>7.0</td>\n",
              "      <td>20.0</td>\n",
              "      <td>1.0</td>\n",
              "      <td>1.0</td>\n",
              "      <td>0.0</td>\n",
              "      <td>0.0</td>\n",
              "      <td>1.0</td>\n",
              "      <td>0.0</td>\n",
              "      <td>1.0</td>\n",
              "      <td>0.0</td>\n",
              "      <td>0.0</td>\n",
              "      <td>4.0</td>\n",
              "      <td>0.0</td>\n",
              "      <td>0.0</td>\n",
              "      <td>1.0</td>\n",
              "      <td>0.0</td>\n",
              "      <td>246.0</td>\n",
              "      <td>246.0</td>\n",
              "      <td>150.0</td>\n",
              "      <td>1.0</td>\n",
              "      <td>1.0</td>\n",
              "      <td>0.0</td>\n",
              "      <td>0.0</td>\n",
              "    </tr>\n",
              "    <tr>\n",
              "      <th>299999</th>\n",
              "      <td>0.000000</td>\n",
              "      <td>1.0</td>\n",
              "      <td>0.0</td>\n",
              "      <td>299.0</td>\n",
              "      <td>0.0</td>\n",
              "      <td>2.0</td>\n",
              "      <td>0.0</td>\n",
              "      <td>1.0</td>\n",
              "      <td>0.0</td>\n",
              "      <td>0.0</td>\n",
              "      <td>1.0</td>\n",
              "      <td>0.0</td>\n",
              "      <td>2.0</td>\n",
              "      <td>1.0</td>\n",
              "      <td>0.0</td>\n",
              "      <td>1.0</td>\n",
              "      <td>0.0</td>\n",
              "      <td>1.0</td>\n",
              "      <td>2.0</td>\n",
              "      <td>1.0</td>\n",
              "      <td>88.0</td>\n",
              "      <td>0.0</td>\n",
              "      <td>0.0</td>\n",
              "      <td>0.0</td>\n",
              "      <td>545.0</td>\n",
              "      <td>0.0</td>\n",
              "      <td>0.0</td>\n",
              "      <td>1.0</td>\n",
              "      <td>0.0</td>\n",
              "      <td>0.0</td>\n",
              "      <td>0.0</td>\n",
              "      <td>1.0</td>\n",
              "      <td>1.0</td>\n",
              "      <td>0.0</td>\n",
              "      <td>1.0</td>\n",
              "      <td>0.0</td>\n",
              "      <td>1.0</td>\n",
              "      <td>39.0</td>\n",
              "      <td>1.0</td>\n",
              "      <td>1.0</td>\n",
              "      <td>...</td>\n",
              "      <td>0.0</td>\n",
              "      <td>226.0</td>\n",
              "      <td>2.0</td>\n",
              "      <td>0.0</td>\n",
              "      <td>1.0</td>\n",
              "      <td>0.0</td>\n",
              "      <td>0.0</td>\n",
              "      <td>0.0</td>\n",
              "      <td>1.0</td>\n",
              "      <td>0.0</td>\n",
              "      <td>0.0</td>\n",
              "      <td>2.0</td>\n",
              "      <td>1.0</td>\n",
              "      <td>1.0</td>\n",
              "      <td>1.0</td>\n",
              "      <td>0.0</td>\n",
              "      <td>0.0</td>\n",
              "      <td>39.0</td>\n",
              "      <td>1.0</td>\n",
              "      <td>1.0</td>\n",
              "      <td>1.0</td>\n",
              "      <td>0.0</td>\n",
              "      <td>0.0</td>\n",
              "      <td>0.0</td>\n",
              "      <td>0.0</td>\n",
              "      <td>1.0</td>\n",
              "      <td>0.0</td>\n",
              "      <td>0.0</td>\n",
              "      <td>18.0</td>\n",
              "      <td>0.0</td>\n",
              "      <td>0.0</td>\n",
              "      <td>0.0</td>\n",
              "      <td>0.0</td>\n",
              "      <td>178.0</td>\n",
              "      <td>88.0</td>\n",
              "      <td>150.0</td>\n",
              "      <td>1.0</td>\n",
              "      <td>1.0</td>\n",
              "      <td>106.0</td>\n",
              "      <td>0.0</td>\n",
              "    </tr>\n",
              "  </tbody>\n",
              "</table>\n",
              "<p>300000 rows × 93 columns</p>\n",
              "</div>"
            ],
            "text/plain": [
              "              V308  V56  V92  addr1  V64  ...  card3   V7  V53    D15  V58\n",
              "0         0.000000  1.0  0.0  315.0  0.0  ...  150.0  1.0  1.0    0.0  0.0\n",
              "1         0.000000  1.0  0.0  325.0  0.0  ...  150.0  0.0  0.0    0.0  0.0\n",
              "2         0.000000  1.0  0.0  330.0  0.0  ...  150.0  1.0  1.0  315.0  0.0\n",
              "3       925.000000  1.0  0.0  476.0  0.0  ...  150.0  0.0  1.0  111.0  0.0\n",
              "4         0.000000  0.0  0.0  420.0  0.0  ...  150.0  0.0  0.0    0.0  0.0\n",
              "...            ...  ...  ...    ...  ...  ...    ...  ...  ...    ...  ...\n",
              "299995    0.000000  1.0  0.0  299.0  0.0  ...  150.0  1.0  1.0  168.0  0.0\n",
              "299996   57.950001  1.0  0.0  299.0  0.0  ...  150.0  1.0  1.0  168.0  0.0\n",
              "299997    0.000000  1.0  0.0  126.0  0.0  ...  150.0  1.0  1.0    0.0  0.0\n",
              "299998    0.000000  1.0  0.0  436.0  0.0  ...  150.0  1.0  1.0    0.0  0.0\n",
              "299999    0.000000  1.0  0.0  299.0  0.0  ...  150.0  1.0  1.0  106.0  0.0\n",
              "\n",
              "[300000 rows x 93 columns]"
            ]
          },
          "metadata": {
            "tags": []
          },
          "execution_count": 88
        }
      ]
    },
    {
      "cell_type": "code",
      "metadata": {
        "id": "3utLfwEDqFHV",
        "colab_type": "code",
        "colab": {}
      },
      "source": [
        "#"
      ],
      "execution_count": 0,
      "outputs": []
    },
    {
      "cell_type": "markdown",
      "metadata": {
        "id": "8C76vb3DrDSm",
        "colab_type": "text"
      },
      "source": [
        "Leaving Out the categorical values does not help\n",
        "\n",
        "## Trying out the xgboost\n"
      ]
    },
    {
      "cell_type": "code",
      "metadata": {
        "id": "9NAdeVXlrJv5",
        "colab_type": "code",
        "colab": {
          "base_uri": "https://localhost:8080/",
          "height": 631
        },
        "outputId": "fc003a22-2967-4a5f-ea92-3f92b1b081e8"
      },
      "source": [
        "import xgboost as xgb\n",
        "\n",
        "\n",
        "xgb_ = xgb.XGBClassifier(max_depth=10, eta = 0.8, n_estimators = 20, learning_rate=0.1\n",
        "                        ,num_round = 20, objective='binary:logistic')\n",
        "xgb_.fit(df_woe[:tr_s],df.isFraud[:tr_s] ,eval_metric='auc',\n",
        "        verbose=True)\n",
        "\n",
        "train_pred = xgb_.predict_proba(df_woe[tr_s:].fillna(0))[:,1]\n",
        "auc2 = roc_auc_score(df.isFraud[tr_s:], train_pred)\n",
        "print(auc2)\n",
        "\n",
        "p_rf0, r_rf0, th = precision_recall_curve(df.isFraud[tr_s:], train_pred)\n",
        "\n",
        "plot(p_rf0, r_rf0)\n",
        "ylabel('Recall', size = 18)\n",
        "xlabel('Precision', size = 18)\n",
        "show()"
      ],
      "execution_count": 107,
      "outputs": [
        {
          "output_type": "stream",
          "text": [
            "0.8573756650269813\n"
          ],
          "name": "stdout"
        },
        {
          "output_type": "display_data",
          "data": {
            "image/png": "[encoded data removed]",
            "text/plain": [
              "<Figure size 720x720 with 1 Axes>"
            ]
          },
          "metadata": {
            "tags": []
          }
        }
      ]
    },
    {
      "cell_type": "code",
      "metadata": {
        "id": "nisYwikpwIxd",
        "colab_type": "code",
        "colab": {
          "base_uri": "https://localhost:8080/",
          "height": 341
        },
        "outputId": "74b95142-4abb-47e4-9189-7c0de30e3922"
      },
      "source": [
        "xgb_ = xgb.XGBClassifier(max_depth=10, eta = 0.8, n_estimators = 20, learning_rate=0.1\n",
        "                        ,num_round = 20, objective='binary:logistic')\n",
        "xgb_.fit(df_woe,df.isFraud ,eval_metric='auc',\n",
        "        verbose=True)"
      ],
      "execution_count": 106,
      "outputs": [
        {
          "output_type": "error",
          "ename": "KeyboardInterrupt",
          "evalue": "ignored",
          "traceback": [
            "\u001b[0;31m---------------------------------------------------------------------------\u001b[0m",
            "\u001b[0;31mKeyboardInterrupt\u001b[0m                         Traceback (most recent call last)",
            "\u001b[0;32m<ipython-input-106-0ac816662e6f>\u001b[0m in \u001b[0;36m<module>\u001b[0;34m()\u001b[0m\n\u001b[1;32m      2\u001b[0m                         ,num_round = 20, objective='binary:logistic')\n\u001b[1;32m      3\u001b[0m xgb_.fit(df_woe,df.isFraud ,eval_metric='auc',\n\u001b[0;32m----> 4\u001b[0;31m         verbose=True)\n\u001b[0m",
            "\u001b[0;32m/usr/local/lib/python3.6/dist-packages/xgboost/sklearn.py\u001b[0m in \u001b[0;36mfit\u001b[0;34m(self, X, y, sample_weight, eval_set, eval_metric, early_stopping_rounds, verbose, xgb_model, sample_weight_eval_set, callbacks)\u001b[0m\n\u001b[1;32m    730\u001b[0m                               \u001b[0mevals_result\u001b[0m\u001b[0;34m=\u001b[0m\u001b[0mevals_result\u001b[0m\u001b[0;34m,\u001b[0m \u001b[0mobj\u001b[0m\u001b[0;34m=\u001b[0m\u001b[0mobj\u001b[0m\u001b[0;34m,\u001b[0m \u001b[0mfeval\u001b[0m\u001b[0;34m=\u001b[0m\u001b[0mfeval\u001b[0m\u001b[0;34m,\u001b[0m\u001b[0;34m\u001b[0m\u001b[0;34m\u001b[0m\u001b[0m\n\u001b[1;32m    731\u001b[0m                               \u001b[0mverbose_eval\u001b[0m\u001b[0;34m=\u001b[0m\u001b[0mverbose\u001b[0m\u001b[0;34m,\u001b[0m \u001b[0mxgb_model\u001b[0m\u001b[0;34m=\u001b[0m\u001b[0mxgb_model\u001b[0m\u001b[0;34m,\u001b[0m\u001b[0;34m\u001b[0m\u001b[0;34m\u001b[0m\u001b[0m\n\u001b[0;32m--> 732\u001b[0;31m                               callbacks=callbacks)\n\u001b[0m\u001b[1;32m    733\u001b[0m \u001b[0;34m\u001b[0m\u001b[0m\n\u001b[1;32m    734\u001b[0m         \u001b[0mself\u001b[0m\u001b[0;34m.\u001b[0m\u001b[0mobjective\u001b[0m \u001b[0;34m=\u001b[0m \u001b[0mxgb_options\u001b[0m\u001b[0;34m[\u001b[0m\u001b[0;34m\"objective\"\u001b[0m\u001b[0;34m]\u001b[0m\u001b[0;34m\u001b[0m\u001b[0;34m\u001b[0m\u001b[0m\n",
            "\u001b[0;32m/usr/local/lib/python3.6/dist-packages/xgboost/training.py\u001b[0m in \u001b[0;36mtrain\u001b[0;34m(params, dtrain, num_boost_round, evals, obj, feval, maximize, early_stopping_rounds, evals_result, verbose_eval, xgb_model, callbacks, learning_rates)\u001b[0m\n\u001b[1;32m    214\u001b[0m                            \u001b[0mevals\u001b[0m\u001b[0;34m=\u001b[0m\u001b[0mevals\u001b[0m\u001b[0;34m,\u001b[0m\u001b[0;34m\u001b[0m\u001b[0;34m\u001b[0m\u001b[0m\n\u001b[1;32m    215\u001b[0m                            \u001b[0mobj\u001b[0m\u001b[0;34m=\u001b[0m\u001b[0mobj\u001b[0m\u001b[0;34m,\u001b[0m \u001b[0mfeval\u001b[0m\u001b[0;34m=\u001b[0m\u001b[0mfeval\u001b[0m\u001b[0;34m,\u001b[0m\u001b[0;34m\u001b[0m\u001b[0;34m\u001b[0m\u001b[0m\n\u001b[0;32m--> 216\u001b[0;31m                            xgb_model=xgb_model, callbacks=callbacks)\n\u001b[0m\u001b[1;32m    217\u001b[0m \u001b[0;34m\u001b[0m\u001b[0m\n\u001b[1;32m    218\u001b[0m \u001b[0;34m\u001b[0m\u001b[0m\n",
            "\u001b[0;32m/usr/local/lib/python3.6/dist-packages/xgboost/training.py\u001b[0m in \u001b[0;36m_train_internal\u001b[0;34m(params, dtrain, num_boost_round, evals, obj, feval, xgb_model, callbacks)\u001b[0m\n\u001b[1;32m     72\u001b[0m         \u001b[0;31m# Skip the first update if it is a recovery step.\u001b[0m\u001b[0;34m\u001b[0m\u001b[0;34m\u001b[0m\u001b[0;34m\u001b[0m\u001b[0m\n\u001b[1;32m     73\u001b[0m         \u001b[0;32mif\u001b[0m \u001b[0mversion\u001b[0m \u001b[0;34m%\u001b[0m \u001b[0;36m2\u001b[0m \u001b[0;34m==\u001b[0m \u001b[0;36m0\u001b[0m\u001b[0;34m:\u001b[0m\u001b[0;34m\u001b[0m\u001b[0;34m\u001b[0m\u001b[0m\n\u001b[0;32m---> 74\u001b[0;31m             \u001b[0mbst\u001b[0m\u001b[0;34m.\u001b[0m\u001b[0mupdate\u001b[0m\u001b[0;34m(\u001b[0m\u001b[0mdtrain\u001b[0m\u001b[0;34m,\u001b[0m \u001b[0mi\u001b[0m\u001b[0;34m,\u001b[0m \u001b[0mobj\u001b[0m\u001b[0;34m)\u001b[0m\u001b[0;34m\u001b[0m\u001b[0;34m\u001b[0m\u001b[0m\n\u001b[0m\u001b[1;32m     75\u001b[0m             \u001b[0mbst\u001b[0m\u001b[0;34m.\u001b[0m\u001b[0msave_rabit_checkpoint\u001b[0m\u001b[0;34m(\u001b[0m\u001b[0;34m)\u001b[0m\u001b[0;34m\u001b[0m\u001b[0;34m\u001b[0m\u001b[0m\n\u001b[1;32m     76\u001b[0m             \u001b[0mversion\u001b[0m \u001b[0;34m+=\u001b[0m \u001b[0;36m1\u001b[0m\u001b[0;34m\u001b[0m\u001b[0;34m\u001b[0m\u001b[0m\n",
            "\u001b[0;32m/usr/local/lib/python3.6/dist-packages/xgboost/core.py\u001b[0m in \u001b[0;36mupdate\u001b[0;34m(self, dtrain, iteration, fobj)\u001b[0m\n\u001b[1;32m   1107\u001b[0m         \u001b[0;32mif\u001b[0m \u001b[0mfobj\u001b[0m \u001b[0;32mis\u001b[0m \u001b[0;32mNone\u001b[0m\u001b[0;34m:\u001b[0m\u001b[0;34m\u001b[0m\u001b[0;34m\u001b[0m\u001b[0m\n\u001b[1;32m   1108\u001b[0m             _check_call(_LIB.XGBoosterUpdateOneIter(self.handle, ctypes.c_int(iteration),\n\u001b[0;32m-> 1109\u001b[0;31m                                                     dtrain.handle))\n\u001b[0m\u001b[1;32m   1110\u001b[0m         \u001b[0;32melse\u001b[0m\u001b[0;34m:\u001b[0m\u001b[0;34m\u001b[0m\u001b[0;34m\u001b[0m\u001b[0m\n\u001b[1;32m   1111\u001b[0m             \u001b[0mpred\u001b[0m \u001b[0;34m=\u001b[0m \u001b[0mself\u001b[0m\u001b[0;34m.\u001b[0m\u001b[0mpredict\u001b[0m\u001b[0;34m(\u001b[0m\u001b[0mdtrain\u001b[0m\u001b[0;34m)\u001b[0m\u001b[0;34m\u001b[0m\u001b[0;34m\u001b[0m\u001b[0m\n",
            "\u001b[0;31mKeyboardInterrupt\u001b[0m: "
          ]
        }
      ]
    },
    {
      "cell_type": "code",
      "metadata": {
        "id": "CSXgR7G5rxvK",
        "colab_type": "code",
        "colab": {}
      },
      "source": [
        "test_pred = xgb_.predict_proba(df_test_woe.fillna(0))[:,1]\n",
        "submission = pd.DataFrame({'TransactionID':df_test['TransactionID'], 'isFraud': test_pred})\n",
        "submission.to_csv('/content/drive/My Drive/Colab Notebooks/submission_xgb_big_w.csv', index = False)"
      ],
      "execution_count": 0,
      "outputs": []
    },
    {
      "cell_type": "code",
      "metadata": {
        "id": "Vj0MrA5_xQPF",
        "colab_type": "code",
        "colab": {}
      },
      "source": [
        ""
      ],
      "execution_count": 0,
      "outputs": []
    },
    {
      "cell_type": "markdown",
      "metadata": {
        "id": "ehjYKb1Vxv-s",
        "colab_type": "text"
      },
      "source": [
        "# Lets see if we can improve our results with minority oversampling- or undersamplig"
      ]
    },
    {
      "cell_type": "code",
      "metadata": {
        "id": "Fw58TiDnzqx5",
        "colab_type": "code",
        "colab": {
          "base_uri": "https://localhost:8080/",
          "height": 71
        },
        "outputId": "2e2027ba-9260-46f1-87aa-a83a4154b5ff"
      },
      "source": [
        "import imblearn"
      ],
      "execution_count": 108,
      "outputs": [
        {
          "output_type": "stream",
          "text": [
            "/usr/local/lib/python3.6/dist-packages/sklearn/externals/six.py:31: DeprecationWarning: The module is deprecated in version 0.21 and will be removed in version 0.23 since we've dropped support for Python 2.7. Please rely on the official version of six (https://pypi.org/project/six/).\n",
            "  \"(https://pypi.org/project/six/).\", DeprecationWarning)\n"
          ],
          "name": "stderr"
        }
      ]
    },
    {
      "cell_type": "code",
      "metadata": {
        "id": "7TI_36eHzssr",
        "colab_type": "code",
        "colab": {}
      },
      "source": [
        "from imblearn import under_sampling\n",
        "\n",
        "res = under_sampling.RandomUnderSampler( 'auto',  ratio = 0.1)\n",
        "df_new, y_new = res.fit_resample(df_woe[:tr_s],df.isFraud[:tr_s])"
      ],
      "execution_count": 0,
      "outputs": []
    },
    {
      "cell_type": "code",
      "metadata": {
        "id": "joH9x_dN1tzp",
        "colab_type": "code",
        "colab": {}
      },
      "source": [
        ""
      ],
      "execution_count": 0,
      "outputs": []
    },
    {
      "cell_type": "code",
      "metadata": {
        "id": "5Oi-SC_H12Zn",
        "colab_type": "code",
        "colab": {
          "base_uri": "https://localhost:8080/",
          "height": 631
        },
        "outputId": "b15baec3-7253-4f02-f9cc-034f1cd6a137"
      },
      "source": [
        "import xgboost as xgb\n",
        "\n",
        "\n",
        "xgb_ = xgb.XGBClassifier(max_depth=10, eta = 0.8, n_estimators = 20, learning_rate=0.1\n",
        "                        ,num_round = 20, objective='binary:logistic')\n",
        "xgb_.fit(df_new,y_new ,eval_metric='auc',\n",
        "        verbose=True)\n",
        "\n",
        "train_pred = xgb_.predict_proba(array(df_woe[tr_s:].fillna(0)))[:,1]\n",
        "auc2 = roc_auc_score(df.isFraud[tr_s:], train_pred)\n",
        "print(auc2)\n",
        "\n",
        "p_rf0, r_rf0, th = precision_recall_curve(df.isFraud[tr_s:], train_pred)\n",
        "\n",
        "plot(p_rf0, r_rf0)\n",
        "ylabel('Recall', size = 18)\n",
        "xlabel('Precision', size = 18)\n",
        "show()"
      ],
      "execution_count": 122,
      "outputs": [
        {
          "output_type": "stream",
          "text": [
            "0.8601809818539431\n"
          ],
          "name": "stdout"
        },
        {
          "output_type": "display_data",
          "data": {
            "image/png": "[encoded data removed]",
            "text/plain": [
              "<Figure size 720x720 with 1 Axes>"
            ]
          },
          "metadata": {
            "tags": []
          }
        }
      ]
    },
    {
      "cell_type": "code",
      "metadata": {
        "id": "zi28pxPW2VJs",
        "colab_type": "code",
        "colab": {
          "base_uri": "https://localhost:8080/",
          "height": 631
        },
        "outputId": "692aff7a-e1c2-4ad5-827b-9c106737ff62"
      },
      "source": [
        "import xgboost as xgb\n",
        "\n",
        "\n",
        "xgb_ = xgb.XGBClassifier(max_depth=10, eta = 0.3, n_estimators = 100, learning_rate=0.1, colsample_by_tree = 0.85\n",
        "                        ,num_round = 40, objective='binary:logistic')\n",
        "xgb_.fit(df_new,y_new ,eval_metric='auc' ,       \n",
        "        verbose=True)\n",
        "\n",
        "train_pred = xgb_.predict_proba(array(df_woe[tr_s:].fillna(0)))[:,1]\n",
        "auc2 = roc_auc_score(df.isFraud[tr_s:], train_pred)\n",
        "print(auc2)\n",
        "\n",
        "p_rf0, r_rf0, th = precision_recall_curve(df.isFraud[tr_s:], train_pred)\n",
        "\n",
        "plot(p_rf0, r_rf0)\n",
        "ylabel('Recall', size = 18)\n",
        "xlabel('Precision', size = 18)\n",
        "show()"
      ],
      "execution_count": 123,
      "outputs": [
        {
          "output_type": "stream",
          "text": [
            "0.8711261379065357\n"
          ],
          "name": "stdout"
        },
        {
          "output_type": "display_data",
          "data": {
            "image/png": "[encoded data removed]",
            "text/plain": [
              "<Figure size 720x720 with 1 Axes>"
            ]
          },
          "metadata": {
            "tags": []
          }
        }
      ]
    },
    {
      "cell_type": "code",
      "metadata": {
        "id": "INJhQJoU40bR",
        "colab_type": "code",
        "colab": {}
      },
      "source": [
        "# try other ratio"
      ],
      "execution_count": 0,
      "outputs": []
    },
    {
      "cell_type": "code",
      "metadata": {
        "id": "SYeXWCyp3idX",
        "colab_type": "code",
        "colab": {
          "base_uri": "https://localhost:8080/",
          "height": 631
        },
        "outputId": "df66c886-e424-4c17-c3ec-85a4f2cece84"
      },
      "source": [
        "import xgboost as xgb\n",
        "\n",
        "from imblearn import under_sampling\n",
        "\n",
        "res = under_sampling.RandomUnderSampler( 'auto',  ratio = 0.1)\n",
        "df_new, y_new = res.fit_resample(df_woe[:tr_s],df.isFraud[:tr_s])\n",
        "\n",
        "\n",
        "xgb_ = xgb.XGBClassifier(max_depth=10, eta = 0.3, n_estimators = 100, learning_rate=0.1, colsample_by_tree = 0.85\n",
        "                        ,num_round = 40, objective='binary:logistic')\n",
        "xgb_.fit(df_new,y_new ,eval_metric='auc' ,       \n",
        "        verbose=True)\n",
        "\n",
        "train_pred = xgb_.predict_proba(array(df_woe[tr_s:].fillna(0)))[:,1]\n",
        "auc2 = roc_auc_score(df.isFraud[tr_s:], train_pred)\n",
        "print(auc2)\n",
        "\n",
        "p_rf0, r_rf0, th = precision_recall_curve(df.isFraud[tr_s:], train_pred)\n",
        "\n",
        "plot(p_rf0, r_rf0)\n",
        "ylabel('Recall', size = 18)\n",
        "xlabel('Precision', size = 18)\n",
        "show()"
      ],
      "execution_count": 128,
      "outputs": [
        {
          "output_type": "stream",
          "text": [
            "0.8702450688165224\n"
          ],
          "name": "stdout"
        },
        {
          "output_type": "display_data",
          "data": {
            "image/png": "[encoded data removed]",
            "text/plain": [
              "<Figure size 720x720 with 1 Axes>"
            ]
          },
          "metadata": {
            "tags": []
          }
        }
      ]
    },
    {
      "cell_type": "code",
      "metadata": {
        "id": "39z_X8Fp45_p",
        "colab_type": "code",
        "colab": {
          "base_uri": "https://localhost:8080/",
          "height": 429
        },
        "outputId": "99236b69-026f-4340-9769-f75d0c72e3eb"
      },
      "source": [
        "import xgboost as xgb\n",
        "\n",
        "from imblearn import under_sampling\n",
        "\n",
        "res = under_sampling.RandomUnderSampler( 'auto',  ratio = 0.1)\n",
        "df_new, y_new = res.fit_resample(df_woe,df.isFraud)\n",
        "\n",
        "\n",
        "xgb_ = xgb.XGBClassifier(max_depth=10, eta = 0.3, n_estimators = 100, learning_rate=0.1, colsample_by_tree = 0.85\n",
        "                        ,num_round = 40, objective='binary:logistic')\n",
        "xgb_.fit(df_new,y_new ,eval_metric='auc' ,       \n",
        "        verbose=True)\n",
        "\n",
        "test_pred = xgb_.predict_proba(array(df_test_woe.fillna(0)))[:,1]\n",
        "submission = pd.DataFrame({'TransactionID':df_test['TransactionID'], 'isFraud': test_pred})\n",
        "submission.to_csv('/content/drive/My Drive/Colab Notebooks/submission_xgb_big_w_unders.csv', index = False)"
      ],
      "execution_count": 129,
      "outputs": [
        {
          "output_type": "error",
          "ename": "ValueError",
          "evalue": "ignored",
          "traceback": [
            "\u001b[0;31m---------------------------------------------------------------------------\u001b[0m",
            "\u001b[0;31mValueError\u001b[0m                                Traceback (most recent call last)",
            "\u001b[0;32m<ipython-input-129-1a3735a0db16>\u001b[0m in \u001b[0;36m<module>\u001b[0;34m()\u001b[0m\n\u001b[1;32m     12\u001b[0m         verbose=True)\n\u001b[1;32m     13\u001b[0m \u001b[0;34m\u001b[0m\u001b[0m\n\u001b[0;32m---> 14\u001b[0;31m \u001b[0mtest_pred\u001b[0m \u001b[0;34m=\u001b[0m \u001b[0mxgb_\u001b[0m\u001b[0;34m.\u001b[0m\u001b[0mpredict_proba\u001b[0m\u001b[0;34m(\u001b[0m\u001b[0mdf_test_woe\u001b[0m\u001b[0;34m.\u001b[0m\u001b[0mfillna\u001b[0m\u001b[0;34m(\u001b[0m\u001b[0;36m0\u001b[0m\u001b[0;34m)\u001b[0m\u001b[0;34m)\u001b[0m\u001b[0;34m[\u001b[0m\u001b[0;34m:\u001b[0m\u001b[0;34m,\u001b[0m\u001b[0;36m1\u001b[0m\u001b[0;34m]\u001b[0m\u001b[0;34m\u001b[0m\u001b[0;34m\u001b[0m\u001b[0m\n\u001b[0m\u001b[1;32m     15\u001b[0m \u001b[0msubmission\u001b[0m \u001b[0;34m=\u001b[0m \u001b[0mpd\u001b[0m\u001b[0;34m.\u001b[0m\u001b[0mDataFrame\u001b[0m\u001b[0;34m(\u001b[0m\u001b[0;34m{\u001b[0m\u001b[0;34m'TransactionID'\u001b[0m\u001b[0;34m:\u001b[0m\u001b[0mdf_test\u001b[0m\u001b[0;34m[\u001b[0m\u001b[0;34m'TransactionID'\u001b[0m\u001b[0;34m]\u001b[0m\u001b[0;34m,\u001b[0m \u001b[0;34m'isFraud'\u001b[0m\u001b[0;34m:\u001b[0m \u001b[0mtest_pred\u001b[0m\u001b[0;34m}\u001b[0m\u001b[0;34m)\u001b[0m\u001b[0;34m\u001b[0m\u001b[0;34m\u001b[0m\u001b[0m\n\u001b[1;32m     16\u001b[0m \u001b[0msubmission\u001b[0m\u001b[0;34m.\u001b[0m\u001b[0mto_csv\u001b[0m\u001b[0;34m(\u001b[0m\u001b[0;34m'/content/drive/My Drive/Colab Notebooks/submission_xgb_big_w_unders.csv'\u001b[0m\u001b[0;34m,\u001b[0m \u001b[0mindex\u001b[0m \u001b[0;34m=\u001b[0m \u001b[0;32mFalse\u001b[0m\u001b[0;34m)\u001b[0m\u001b[0;34m\u001b[0m\u001b[0;34m\u001b[0m\u001b[0m\n",
            "\u001b[0;32m/usr/local/lib/python3.6/dist-packages/xgboost/sklearn.py\u001b[0m in \u001b[0;36mpredict_proba\u001b[0;34m(self, data, ntree_limit, validate_features)\u001b[0m\n\u001b[1;32m    832\u001b[0m         class_probs = self.get_booster().predict(test_dmatrix,\n\u001b[1;32m    833\u001b[0m                                                  \u001b[0mntree_limit\u001b[0m\u001b[0;34m=\u001b[0m\u001b[0mntree_limit\u001b[0m\u001b[0;34m,\u001b[0m\u001b[0;34m\u001b[0m\u001b[0;34m\u001b[0m\u001b[0m\n\u001b[0;32m--> 834\u001b[0;31m                                                  validate_features=validate_features)\n\u001b[0m\u001b[1;32m    835\u001b[0m         \u001b[0;32mif\u001b[0m \u001b[0mself\u001b[0m\u001b[0;34m.\u001b[0m\u001b[0mobjective\u001b[0m \u001b[0;34m==\u001b[0m \u001b[0;34m\"multi:softprob\"\u001b[0m\u001b[0;34m:\u001b[0m\u001b[0;34m\u001b[0m\u001b[0;34m\u001b[0m\u001b[0m\n\u001b[1;32m    836\u001b[0m             \u001b[0;32mreturn\u001b[0m \u001b[0mclass_probs\u001b[0m\u001b[0;34m\u001b[0m\u001b[0;34m\u001b[0m\u001b[0m\n",
            "\u001b[0;32m/usr/local/lib/python3.6/dist-packages/xgboost/core.py\u001b[0m in \u001b[0;36mpredict\u001b[0;34m(self, data, output_margin, ntree_limit, pred_leaf, pred_contribs, approx_contribs, pred_interactions, validate_features)\u001b[0m\n\u001b[1;32m   1282\u001b[0m \u001b[0;34m\u001b[0m\u001b[0m\n\u001b[1;32m   1283\u001b[0m         \u001b[0;32mif\u001b[0m \u001b[0mvalidate_features\u001b[0m\u001b[0;34m:\u001b[0m\u001b[0;34m\u001b[0m\u001b[0;34m\u001b[0m\u001b[0m\n\u001b[0;32m-> 1284\u001b[0;31m             \u001b[0mself\u001b[0m\u001b[0;34m.\u001b[0m\u001b[0m_validate_features\u001b[0m\u001b[0;34m(\u001b[0m\u001b[0mdata\u001b[0m\u001b[0;34m)\u001b[0m\u001b[0;34m\u001b[0m\u001b[0;34m\u001b[0m\u001b[0m\n\u001b[0m\u001b[1;32m   1285\u001b[0m \u001b[0;34m\u001b[0m\u001b[0m\n\u001b[1;32m   1286\u001b[0m         \u001b[0mlength\u001b[0m \u001b[0;34m=\u001b[0m \u001b[0mc_bst_ulong\u001b[0m\u001b[0;34m(\u001b[0m\u001b[0;34m)\u001b[0m\u001b[0;34m\u001b[0m\u001b[0;34m\u001b[0m\u001b[0m\n",
            "\u001b[0;32m/usr/local/lib/python3.6/dist-packages/xgboost/core.py\u001b[0m in \u001b[0;36m_validate_features\u001b[0;34m(self, data)\u001b[0m\n\u001b[1;32m   1688\u001b[0m \u001b[0;34m\u001b[0m\u001b[0m\n\u001b[1;32m   1689\u001b[0m                 raise ValueError(msg.format(self.feature_names,\n\u001b[0;32m-> 1690\u001b[0;31m                                             data.feature_names))\n\u001b[0m\u001b[1;32m   1691\u001b[0m \u001b[0;34m\u001b[0m\u001b[0m\n\u001b[1;32m   1692\u001b[0m     \u001b[0;32mdef\u001b[0m \u001b[0mget_split_value_histogram\u001b[0m\u001b[0;34m(\u001b[0m\u001b[0mself\u001b[0m\u001b[0;34m,\u001b[0m \u001b[0mfeature\u001b[0m\u001b[0;34m,\u001b[0m \u001b[0mfmap\u001b[0m\u001b[0;34m=\u001b[0m\u001b[0;34m''\u001b[0m\u001b[0;34m,\u001b[0m \u001b[0mbins\u001b[0m\u001b[0;34m=\u001b[0m\u001b[0;32mNone\u001b[0m\u001b[0;34m,\u001b[0m \u001b[0mas_pandas\u001b[0m\u001b[0;34m=\u001b[0m\u001b[0;32mTrue\u001b[0m\u001b[0;34m)\u001b[0m\u001b[0;34m:\u001b[0m\u001b[0;34m\u001b[0m\u001b[0;34m\u001b[0m\u001b[0m\n",
            "\u001b[0;31mValueError\u001b[0m: feature_names mismatch: ['f0', 'f1', 'f2', 'f3', 'f4', 'f5', 'f6', 'f7', 'f8', 'f9', 'f10', 'f11', 'f12', 'f13', 'f14', 'f15', 'f16', 'f17', 'f18', 'f19', 'f20', 'f21', 'f22', 'f23', 'f24', 'f25', 'f26', 'f27', 'f28', 'f29', 'f30', 'f31', 'f32', 'f33', 'f34', 'f35', 'f36', 'f37', 'f38', 'f39', 'f40', 'f41', 'f42', 'f43', 'f44', 'f45', 'f46', 'f47', 'f48', 'f49', 'f50', 'f51', 'f52', 'f53', 'f54', 'f55', 'f56', 'f57', 'f58', 'f59', 'f60', 'f61', 'f62', 'f63', 'f64', 'f65', 'f66', 'f67', 'f68', 'f69', 'f70', 'f71', 'f72', 'f73', 'f74', 'f75', 'f76', 'f77', 'f78', 'f79', 'f80', 'f81', 'f82', 'f83', 'f84', 'f85', 'f86', 'f87', 'f88', 'f89', 'f90', 'f91', 'f92', 'f93', 'f94', 'f95', 'f96', 'f97', 'f98', 'f99', 'f100', 'f101', 'f102', 'f103'] ['V283_woe', 'V93_woe', 'V43_woe', 'V34_woe', 'V302_woe', 'V280_woe', 'V56_woe', 'V58_woe', 'V15_woe', 'V2_woe', 'V38_woe', 'V4_woe', 'V76_woe', 'addr2_woe', 'V3_woe', 'V48_woe', 'V30_woe', 'V22_woe', 'V51_woe', 'V71_woe', 'V303_woe', 'card3_woe', 'V36_woe', 'P_emaildomain_woe', 'M7_woe', 'V9_woe', 'V33_woe', 'V50_woe', 'V79_woe', 'V32_woe', 'V57_woe', 'D2_woe', 'C14_woe', 'V53_woe', 'V74_woe', 'M9_woe', 'V63_woe', 'V11_woe', 'V5_woe', 'V6_woe', 'M4_woe', 'V64_woe', 'D5_woe', 'D11_woe', 'V78_woe', 'V72_woe', 'V70_woe', 'V10_woe', 'V282_woe', 'V59_woe', 'addr1_woe', 'D4_woe', 'V13_woe', 'dist1_woe', 'D10_woe', 'D15_woe', 'V81_woe', 'V308_woe', 'V94_woe', 'V16_woe', 'V87_woe', 'V42_woe', 'V52_woe', 'V1_woe', 'V54_woe', ...\nexpected f102, f35, f30, f43, f10, f99, f58, f3, f36, f69, f101, f8, f2, f47, f26, f73, f20, f48, f81, f14, f17, f66, f75, f57, f0, f4, f5, f34, f40, f31, f77, f82, f74, f55, f49, f38, f37, f93, f25, f56, f33, f18, f23, f103, f94, f89, f28, f95, f98, f19, f63, f60, f97, f100, f12, f11, f65, f9, f54, f72, f29, f32, f62, f46, f68, f22, f86, f39, f41, f87, f7, f52, f67, f80, f59, f90, f45, f91, f44, f15, f83, f64, f50, f42, f1, f27, f79, f61, f16, f78, f85, f76, f88, f53, f6, f96, f51, f92, f21, f13, f71, f84, f70, f24 in input data\ntraining data did not have the following fields: V79_woe, V53_woe, V94_woe, V4_woe, V21_woe, V308_woe, V81_woe, M3_woe, V64_woe, V12_woe, V6_woe, V84_woe, addr1_woe, V15_woe, V5_woe, V48_woe, V85_woe, V16_woe, V31_woe, V7_woe, V10_woe, V302_woe, V33_woe, V78_woe, V51_woe, V304_woe, V36_woe, D11_woe, V71_woe, card3_woe, D15_woe, V63_woe, V50_woe, V75_woe, C9_woe, C2_woe, V59_woe, V3_woe, M4_woe, V91_woe, V18_woe, V17_woe, V9_woe, V303_woe, C13_woe, C1_woe, card6_woe, V282_woe, V32_woe, M8_woe, V45_woe, ProductCD_woe, V90_woe, V74_woe, D3_woe, D10_woe, V1_woe, V93_woe, V49_woe, V283_woe, V56_woe, V52_woe, V69_woe, M7_woe, V72_woe, D2_woe, dist1_woe, M2_woe, V280_woe, V80_woe, V58_woe, C14_woe, V39_woe, V60_woe, V22_woe, D1_woe, P_emaildomain_woe, V34_woe, card5_woe, V38_woe, V29_woe, V2_woe, C5_woe, V8_woe, V54_woe, V57_woe, V43_woe, D4_woe, V30_woe, C11_woe, M1_woe, D5_woe, V70_woe, V87_woe, V92_woe, V13_woe, V42_woe, V40_woe, V76_woe, V11_woe, M6_woe, V73_woe, addr2_woe, M9_woe"
          ]
        }
      ]
    },
    {
      "cell_type": "code",
      "metadata": {
        "id": "GXO9c0GbAeu4",
        "colab_type": "code",
        "colab": {
          "base_uri": "https://localhost:8080/",
          "height": 198
        },
        "outputId": "e29cfaa8-5f8c-48f3-e129-eb82ceee510e"
      },
      "source": [
        "test_pred = xgb_.predict_proba(array(df_test_woe.fillna(0)))[:,1]\n",
        "submission = pd.DataFrame({'TransactionID':df_test['TransactionID'], 'isFraud': test_pred})\n",
        "submission.to_csv('/content/drive/My Drive/Colab Notebooks/submission_xgb_big_w_unders.csv', index = False)"
      ],
      "execution_count": 1,
      "outputs": [
        {
          "output_type": "error",
          "ename": "NameError",
          "evalue": "ignored",
          "traceback": [
            "\u001b[0;31m---------------------------------------------------------------------------\u001b[0m",
            "\u001b[0;31mNameError\u001b[0m                                 Traceback (most recent call last)",
            "\u001b[0;32m<ipython-input-1-586872c4a600>\u001b[0m in \u001b[0;36m<module>\u001b[0;34m()\u001b[0m\n\u001b[0;32m----> 1\u001b[0;31m \u001b[0mtest_pred\u001b[0m \u001b[0;34m=\u001b[0m \u001b[0mxgb_\u001b[0m\u001b[0;34m.\u001b[0m\u001b[0mpredict_proba\u001b[0m\u001b[0;34m(\u001b[0m\u001b[0marray\u001b[0m\u001b[0;34m(\u001b[0m\u001b[0mdf_test_woe\u001b[0m\u001b[0;34m.\u001b[0m\u001b[0mfillna\u001b[0m\u001b[0;34m(\u001b[0m\u001b[0;36m0\u001b[0m\u001b[0;34m)\u001b[0m\u001b[0;34m)\u001b[0m\u001b[0;34m)\u001b[0m\u001b[0;34m[\u001b[0m\u001b[0;34m:\u001b[0m\u001b[0;34m,\u001b[0m\u001b[0;36m1\u001b[0m\u001b[0;34m]\u001b[0m\u001b[0;34m\u001b[0m\u001b[0;34m\u001b[0m\u001b[0m\n\u001b[0m\u001b[1;32m      2\u001b[0m \u001b[0msubmission\u001b[0m \u001b[0;34m=\u001b[0m \u001b[0mpd\u001b[0m\u001b[0;34m.\u001b[0m\u001b[0mDataFrame\u001b[0m\u001b[0;34m(\u001b[0m\u001b[0;34m{\u001b[0m\u001b[0;34m'TransactionID'\u001b[0m\u001b[0;34m:\u001b[0m\u001b[0mdf_test\u001b[0m\u001b[0;34m[\u001b[0m\u001b[0;34m'TransactionID'\u001b[0m\u001b[0;34m]\u001b[0m\u001b[0;34m,\u001b[0m \u001b[0;34m'isFraud'\u001b[0m\u001b[0;34m:\u001b[0m \u001b[0mtest_pred\u001b[0m\u001b[0;34m}\u001b[0m\u001b[0;34m)\u001b[0m\u001b[0;34m\u001b[0m\u001b[0;34m\u001b[0m\u001b[0m\n\u001b[1;32m      3\u001b[0m \u001b[0msubmission\u001b[0m\u001b[0;34m.\u001b[0m\u001b[0mto_csv\u001b[0m\u001b[0;34m(\u001b[0m\u001b[0;34m'/content/drive/My Drive/Colab Notebooks/submission_xgb_big_w_unders.csv'\u001b[0m\u001b[0;34m,\u001b[0m \u001b[0mindex\u001b[0m \u001b[0;34m=\u001b[0m \u001b[0;32mFalse\u001b[0m\u001b[0;34m)\u001b[0m\u001b[0;34m\u001b[0m\u001b[0;34m\u001b[0m\u001b[0m\n",
            "\u001b[0;31mNameError\u001b[0m: name 'xgb_' is not defined"
          ]
        }
      ]
    },
    {
      "cell_type": "code",
      "metadata": {
        "id": "DGNfhvYk8T3F",
        "colab_type": "code",
        "colab": {}
      },
      "source": [
        ""
      ],
      "execution_count": 0,
      "outputs": []
    }
  ]
}